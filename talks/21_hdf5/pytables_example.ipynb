{
 "cells": [
  {
   "cell_type": "markdown",
   "id": "78458e12-f59e-4165-98f9-82502a02533e",
   "metadata": {},
   "source": [
    "# Pytables working with hierarchical data formats\n",
    "\n",
    "Introductory tutorial to `pytables` and `HDF5` based on the documentation at [https://www.pytables.org/usersguide/tutorials.html])."
   ]
  },
  {
   "cell_type": "markdown",
   "id": "e5718939-83d4-4b23-944e-ee9f53957ca6",
   "metadata": {},
   "source": [
    "## Importing tables objects\n",
    "Before starting you need to import the public objects in the tables package. You normally do that by executing:"
   ]
  },
  {
   "cell_type": "code",
   "execution_count": 1,
   "id": "c913dbd0-9a32-4238-853a-19824bd0005c",
   "metadata": {
    "tags": []
   },
   "outputs": [],
   "source": [
    "from rich import print\n",
    "import tables\n",
    "import numpy as np"
   ]
  },
  {
   "cell_type": "markdown",
   "id": "16f103ba-b6b3-445c-b1c8-423d21db1b17",
   "metadata": {},
   "source": [
    "## Declaring a Column Descriptor\n",
    "Now, imagine that we have a particle detector and we want to create a table object in order to save data retrieved from it. You need first to define the table, the number of columns it has, what kind of object is contained in each column, and so on.\n",
    "\n",
    "Having determined our columns and their types, we can now declare a new Particle class that will contain all this information:"
   ]
  },
  {
   "cell_type": "code",
   "execution_count": 2,
   "id": "46c450ff-5d48-41b4-a129-5bdef60c49bf",
   "metadata": {
    "tags": []
   },
   "outputs": [],
   "source": [
    "from tables import *"
   ]
  },
  {
   "cell_type": "code",
   "execution_count": 3,
   "id": "351572fc-157c-4a0e-b40f-5477b7042b81",
   "metadata": {
    "tags": []
   },
   "outputs": [],
   "source": [
    "class Particle(IsDescription):\n",
    "    name      = StringCol(16)   # 16-character String\n",
    "    idnumber  = Int64Col()      # Signed 64-bit integer\n",
    "    ADCcount  = UInt16Col()     # Unsigned short integer\n",
    "    TDCcount  = UInt8Col()      # unsigned byte\n",
    "    grid_i    = Int32Col()      # 32-bit integer\n",
    "    grid_j    = Int32Col()      # 32-bit integer\n",
    "    pressure  = Float32Col()    # float  (single-precision)\n",
    "    energy    = Float64Col()    # double (double-precision)"
   ]
  },
  {
   "cell_type": "markdown",
   "id": "50721d50-b4a3-4f7e-ae2b-54a5fe2fbabe",
   "metadata": {},
   "source": [
    "## Creating a PyTables file from scratch\n",
    "Use the top-level `open_file()` function to create a PyTables file:"
   ]
  },
  {
   "cell_type": "code",
   "execution_count": 4,
   "id": "b66ec162-9ae1-4fcd-a0c5-b498ad74e5e2",
   "metadata": {
    "tags": []
   },
   "outputs": [],
   "source": [
    "h5file = open_file(\"tutorial1.h5\", mode=\"w\", title=\"Test file\")"
   ]
  },
  {
   "cell_type": "markdown",
   "id": "a5509a7f-5d32-48fe-bc77-5e66588ec8ae",
   "metadata": {},
   "source": [
    "## Creating a new group\n",
    "Now, to better organize our data, we will create a `group` called `detector` that branches from the root node. We will save our particle data table in this group:"
   ]
  },
  {
   "cell_type": "code",
   "execution_count": 5,
   "id": "0b22f922-c2a8-4df6-b628-0a91ed994558",
   "metadata": {},
   "outputs": [],
   "source": [
    "group = h5file.create_group(\"/\", 'detector', title='Detector information')"
   ]
  },
  {
   "cell_type": "markdown",
   "id": "1a242b49-55f5-4b29-b33f-226005b7123a",
   "metadata": {},
   "source": [
    "Here, we have taken the File instance h5file and invoked its `File.create_group()` method to create a new group called detector branching from `/` (another way to refer to the h5file.root object we mentioned above). This will create a new Group (see The Group class) object instance that will be assigned to the variable group."
   ]
  },
  {
   "cell_type": "markdown",
   "id": "0eb133f7-df57-4bc1-ba61-104f92c16998",
   "metadata": {},
   "source": [
    "## Creating a new table (dataset)\n",
    "Let’s now create a Table (see The Table class) object as a branch off the newly-created group. We do that by calling the `File.create_table()` method of the h5file object:"
   ]
  },
  {
   "cell_type": "code",
   "execution_count": 6,
   "id": "45b2e7b0-608a-434b-86fc-cee8a0ff63bf",
   "metadata": {},
   "outputs": [],
   "source": [
    "table = h5file.create_table(group, 'readout', Particle, title=\"Readout example\")"
   ]
  },
  {
   "cell_type": "markdown",
   "id": "5b6ca732-63b4-4d17-bb0c-c744ad0cfd9f",
   "metadata": {},
   "source": [
    "We create the Table instance under group. We assign this table the node name `readout`. The Particle class declared before is the description parameter (to define the columns of the table) and finally we set `Readout example` as the Table title. With all this information, a new Table instance is created and assigned to the variable table.\n",
    "\n",
    "If you are curious about how the object tree looks right now, simply print the File instance variable `h5file`, and examine the output:"
   ]
  },
  {
   "cell_type": "code",
   "execution_count": 7,
   "id": "d94f2d35-d9b2-40c2-a2a7-cdf8f75ed5f6",
   "metadata": {},
   "outputs": [
    {
     "data": {
      "text/html": [
       "<pre style=\"white-space:pre;overflow-x:auto;line-height:normal;font-family:Menlo,'DejaVu Sans Mono',consolas,'Courier New',monospace\">tutorial1.h5 <span style=\"font-weight: bold\">(</span>File<span style=\"font-weight: bold\">)</span> <span style=\"color: #008000; text-decoration-color: #008000\">'Test file'</span>\n",
       "Last modif.: <span style=\"color: #008000; text-decoration-color: #008000\">'Tue Oct 26 14:41:30 2021'</span>\n",
       "Object Tree: \n",
       "<span style=\"color: #800080; text-decoration-color: #800080\">/</span> <span style=\"font-weight: bold\">(</span>RootGroup<span style=\"font-weight: bold\">)</span> <span style=\"color: #008000; text-decoration-color: #008000\">'Test file'</span>\n",
       "<span style=\"color: #800080; text-decoration-color: #800080\">/</span><span style=\"color: #ff00ff; text-decoration-color: #ff00ff\">detector</span> <span style=\"font-weight: bold\">(</span>Group<span style=\"font-weight: bold\">)</span> <span style=\"color: #008000; text-decoration-color: #008000\">'Detector information'</span>\n",
       "<span style=\"color: #800080; text-decoration-color: #800080\">/detector/</span><span style=\"color: #ff00ff; text-decoration-color: #ff00ff\">readout</span> <span style=\"font-weight: bold\">(</span><span style=\"color: #800080; text-decoration-color: #800080; font-weight: bold\">Table</span><span style=\"font-weight: bold\">(</span><span style=\"color: #008080; text-decoration-color: #008080; font-weight: bold\">0</span>,<span style=\"font-weight: bold\">))</span> <span style=\"color: #008000; text-decoration-color: #008000\">'Readout example'</span>\n",
       "\n",
       "</pre>\n"
      ],
      "text/plain": [
       "tutorial1.h5 \u001b[1m(\u001b[0mFile\u001b[1m)\u001b[0m \u001b[32m'Test file'\u001b[0m\n",
       "Last modif.: \u001b[32m'Tue Oct 26 14:41:30 2021'\u001b[0m\n",
       "Object Tree: \n",
       "\u001b[35m/\u001b[0m \u001b[1m(\u001b[0mRootGroup\u001b[1m)\u001b[0m \u001b[32m'Test file'\u001b[0m\n",
       "\u001b[35m/\u001b[0m\u001b[95mdetector\u001b[0m \u001b[1m(\u001b[0mGroup\u001b[1m)\u001b[0m \u001b[32m'Detector information'\u001b[0m\n",
       "\u001b[35m/detector/\u001b[0m\u001b[95mreadout\u001b[0m \u001b[1m(\u001b[0m\u001b[1;35mTable\u001b[0m\u001b[1m(\u001b[0m\u001b[1;36m0\u001b[0m,\u001b[1m)\u001b[0m\u001b[1m)\u001b[0m \u001b[32m'Readout example'\u001b[0m\n",
       "\n"
      ]
     },
     "metadata": {},
     "output_type": "display_data"
    }
   ],
   "source": [
    "print(h5file)"
   ]
  },
  {
   "cell_type": "markdown",
   "id": "d18df211-f461-45ae-b2a0-fa36f1474f0b",
   "metadata": {},
   "source": [
    "As you can see, a dump of the object tree is displayed. It’s easy to see the Group and Table objects we have just created. If you want more information, just type the variable containing the File instance:"
   ]
  },
  {
   "cell_type": "code",
   "execution_count": 8,
   "id": "6664cba0-84b4-4cc6-b65f-544adf62201c",
   "metadata": {},
   "outputs": [
    {
     "data": {
      "text/plain": [
       "File(filename=tutorial1.h5, title='Test file', mode='w', root_uep='/', filters=Filters(complevel=0, shuffle=False, bitshuffle=False, fletcher32=False, least_significant_digit=None))\n",
       "/ (RootGroup) 'Test file'\n",
       "/detector (Group) 'Detector information'\n",
       "/detector/readout (Table(0,)) 'Readout example'\n",
       "  description := {\n",
       "  \"ADCcount\": UInt16Col(shape=(), dflt=0, pos=0),\n",
       "  \"TDCcount\": UInt8Col(shape=(), dflt=0, pos=1),\n",
       "  \"energy\": Float64Col(shape=(), dflt=0.0, pos=2),\n",
       "  \"grid_i\": Int32Col(shape=(), dflt=0, pos=3),\n",
       "  \"grid_j\": Int32Col(shape=(), dflt=0, pos=4),\n",
       "  \"idnumber\": Int64Col(shape=(), dflt=0, pos=5),\n",
       "  \"name\": StringCol(itemsize=16, shape=(), dflt=b'', pos=6),\n",
       "  \"pressure\": Float32Col(shape=(), dflt=0.0, pos=7)}\n",
       "  byteorder := 'little'\n",
       "  chunkshape := (1394,)"
      ]
     },
     "execution_count": 8,
     "metadata": {},
     "output_type": "execute_result"
    }
   ],
   "source": [
    "h5file"
   ]
  },
  {
   "cell_type": "markdown",
   "id": "bee3a32b-504b-4895-8418-a0c265c4eeaa",
   "metadata": {},
   "source": [
    "More detailed information is displayed about each object in the tree. Note how Particle, our table descriptor class, is printed as part of the readout table description information. In general, you can **obtain much more information about the objects and their children by just printing them**. That introspection capability is very useful, and I recommend that you use it extensively."
   ]
  },
  {
   "cell_type": "markdown",
   "id": "6c3c0ec6-edc8-427a-a73e-c677ec70b94f",
   "metadata": {},
   "source": [
    "The time has come to fill this table with some values. First we will **get a pointer to the Row** (see The Row class) instance of this table instance:"
   ]
  },
  {
   "cell_type": "code",
   "execution_count": 9,
   "id": "a2b33bc9-b04c-4a69-ab8e-32cab9094534",
   "metadata": {},
   "outputs": [],
   "source": [
    "particle = table.row"
   ]
  },
  {
   "cell_type": "markdown",
   "id": "fe284d5e-36bb-438f-b873-2a29d8cd3c34",
   "metadata": {},
   "source": [
    "The row attribute of table points to the Row instance that will be used to write data rows into the table. We write data simply by assigning the Row instance the values for each row as if it were a dictionary (although it is actually an extension class), using the column names as keys.\n",
    "\n",
    "Below is an example of how to write rows:"
   ]
  },
  {
   "cell_type": "code",
   "execution_count": 10,
   "id": "dce0ced1-44f9-4aff-ac47-6b10fe42d51a",
   "metadata": {},
   "outputs": [],
   "source": [
    "for i in range(10):\n",
    "    particle['name']  = f'Particle: {i:6d}'\n",
    "    particle['TDCcount'] = i % 256\n",
    "    particle['ADCcount'] = (i * 256) % (1 << 16)\n",
    "    particle['grid_i'] = i\n",
    "    particle['grid_j'] = 10 - i\n",
    "    particle['pressure'] = float(i*i)\n",
    "    particle['energy'] = float(particle['pressure'] ** 4)\n",
    "    particle['idnumber'] = i * (2 ** 34)\n",
    "\n",
    "    # Insert a new particle record\n",
    "    particle.append()"
   ]
  },
  {
   "cell_type": "markdown",
   "id": "660380c1-1f8a-41a1-8e78-2db56b134da0",
   "metadata": {},
   "source": [
    "This code should be easy to understand. The lines inside the loop just assign values to the different columns in the Row instance particle (see The Row class). A call to its append() method **writes this information to the table I/O buffer**.\n",
    "\n",
    "After we have processed all our data, we should **flush the table’s I/O buffer if we want to write all this data to disk**. We achieve that by calling the table.flush() method:"
   ]
  },
  {
   "cell_type": "code",
   "execution_count": 11,
   "id": "3a226ee2-d5a4-48a2-af8d-0cbd03c40ca8",
   "metadata": {},
   "outputs": [],
   "source": [
    "table.flush()"
   ]
  },
  {
   "cell_type": "markdown",
   "id": "afe3d329-6a63-407b-bba0-f07e9692e09e",
   "metadata": {},
   "source": [
    "Remember, flushing a table is a very important step as it will not only help to **maintain the integrity of your file**, but also will **free valuable memory resources** (i.e. internal buffers) that your program may need for other things."
   ]
  },
  {
   "cell_type": "markdown",
   "id": "718adbe7-e5f2-48ba-9b34-f54a380b71bb",
   "metadata": {},
   "source": [
    "## Reading (and selecting) data in a table\n",
    "Ok. We have our data on disk, and now we need to access it and select from specific columns the values we are interested in. See the example below:"
   ]
  },
  {
   "cell_type": "code",
   "execution_count": 12,
   "id": "03ac0952-9413-4ba1-ac90-134a2a5bfc90",
   "metadata": {},
   "outputs": [
    {
     "data": {
      "text/html": [
       "<pre style=\"white-space:pre;overflow-x:auto;line-height:normal;font-family:Menlo,'DejaVu Sans Mono',consolas,'Courier New',monospace\"><span style=\"font-weight: bold\">[</span><span style=\"color: #008080; text-decoration-color: #008080; font-weight: bold\">25.0</span>, <span style=\"color: #008080; text-decoration-color: #008080; font-weight: bold\">36.0</span>, <span style=\"color: #008080; text-decoration-color: #008080; font-weight: bold\">49.0</span><span style=\"font-weight: bold\">]</span>\n",
       "</pre>\n"
      ],
      "text/plain": [
       "\u001b[1m[\u001b[0m\u001b[1;36m25.0\u001b[0m, \u001b[1;36m36.0\u001b[0m, \u001b[1;36m49.0\u001b[0m\u001b[1m]\u001b[0m\n"
      ]
     },
     "metadata": {},
     "output_type": "display_data"
    }
   ],
   "source": [
    "table = h5file.root.detector.readout\n",
    "pressure = [x['pressure'] for x in table.iterrows() if x['TDCcount'] > 3 \n",
    "            and 20 <= x['pressure'] < 50]\n",
    "\n",
    "print(pressure)"
   ]
  },
  {
   "cell_type": "markdown",
   "id": "35ae3546-24b8-4b2f-aefa-a9c85fe41b5f",
   "metadata": {},
   "source": [
    "The first line creates a “shortcut” to the readout table deeper on the object tree. As you can see, we use the natural naming schema to access it. We also could have used the `h5file.get_node()` method, as we will do later on.\n",
    "\n",
    "You will recognize the last two lines as a Python list comprehension. It loops over the rows in table as they are provided by the `Table.iterrows()` iterator. The iterator returns values until all the data in table is exhausted. These rows are filtered using the expression:\n",
    "\n",
    "```python\n",
    "x['TDCcount'] > 3 and 20 <= x['pressure'] < 50\n",
    "```"
   ]
  },
  {
   "cell_type": "markdown",
   "id": "dd063c47-e97f-4549-9b05-c3608e38b998",
   "metadata": {},
   "source": [
    "PyTables do offer other, more powerful ways of performing selections which may be more suitable if you have very large tables or if you need very high query speeds. They are called **in-kernel and indexed queries**, and you can use them through `Table.where()` and other related methods.\n",
    "\n",
    "Let’s use an in-kernel selection to query the name column for the same set of cuts:"
   ]
  },
  {
   "cell_type": "code",
   "execution_count": 13,
   "id": "66844ebd-5deb-4115-8b71-8afab3838ea7",
   "metadata": {},
   "outputs": [
    {
     "data": {
      "text/html": [
       "<pre style=\"white-space:pre;overflow-x:auto;line-height:normal;font-family:Menlo,'DejaVu Sans Mono',consolas,'Courier New',monospace\"><span style=\"font-weight: bold\">[</span><span style=\"color: #008000; text-decoration-color: #008000\">b'Particle:      5'</span>, <span style=\"color: #008000; text-decoration-color: #008000\">b'Particle:      6'</span>, <span style=\"color: #008000; text-decoration-color: #008000\">b'Particle:      7'</span><span style=\"font-weight: bold\">]</span>\n",
       "</pre>\n"
      ],
      "text/plain": [
       "\u001b[1m[\u001b[0m\u001b[32mb'Particle:      5'\u001b[0m, \u001b[32mb'Particle:      6'\u001b[0m, \u001b[32mb'Particle:      7'\u001b[0m\u001b[1m]\u001b[0m\n"
      ]
     },
     "metadata": {},
     "output_type": "display_data"
    }
   ],
   "source": [
    "names = [ x['name'] for x in table.where(\"\"\"(TDCcount > 3) & (20 <= pressure) & (pressure < 50)\"\"\") ]\n",
    "\n",
    "print(names)"
   ]
  },
  {
   "cell_type": "markdown",
   "id": "7823c62e-63c9-4b46-a058-738201904672",
   "metadata": {},
   "source": [
    "## Creating new array objects\n",
    "In order to separate the selected data from the mass of detector data, we will create a new group columns branching off the root group. Afterwards, under this group, we will create two arrays that will contain the selected data. First, we create the group:"
   ]
  },
  {
   "cell_type": "code",
   "execution_count": 14,
   "id": "8228eca3-41ec-4633-9056-2aadad66dcb9",
   "metadata": {},
   "outputs": [],
   "source": [
    "gcolumns = h5file.create_group(h5file.root, \"columns\", \"Pressure and Name\")"
   ]
  },
  {
   "cell_type": "markdown",
   "id": "22b90c5d-a951-498a-9bee-6c751fbd9551",
   "metadata": {},
   "source": [
    "Note that this time we have specified the first parameter using natural naming (h5file.root) instead of with an absolute path string (“/”).\n",
    "\n",
    "Now, create the first of the two Array objects we’ve just mentioned:"
   ]
  },
  {
   "cell_type": "code",
   "execution_count": 15,
   "id": "00bff050-00b2-4d10-9580-73bb94f0c326",
   "metadata": {},
   "outputs": [
    {
     "data": {
      "text/plain": [
       "/columns/pressure (Array(3,)) 'Pressure column selection'\n",
       "  atom := Float64Atom(shape=(), dflt=0.0)\n",
       "  maindim := 0\n",
       "  flavor := 'numpy'\n",
       "  byteorder := 'little'\n",
       "  chunkshape := None"
      ]
     },
     "execution_count": 15,
     "metadata": {},
     "output_type": "execute_result"
    }
   ],
   "source": [
    "h5file.create_array(gcolumns, 'pressure', np.array(pressure), \"Pressure column selection\")"
   ]
  },
  {
   "cell_type": "markdown",
   "id": "aa15f848-200b-4fc9-8fb7-bc577287d169",
   "metadata": {},
   "source": [
    "We already know the first two parameters of the File.create_array() methods (these are the same as the first two in create_table): they are the parent group where Array will be created and the Array instance name. The third parameter is the object we want to save to disk. In this case, it is a NumPy array that is built from the selection list we created before. The fourth parameter is the title.\n",
    "\n",
    "Now, we will save the second array. It contains the list of strings we selected before: we save this object as-is, with no further conversion:"
   ]
  },
  {
   "cell_type": "code",
   "execution_count": 16,
   "id": "ec4ea940-29c4-406b-9da1-f033c4345456",
   "metadata": {},
   "outputs": [
    {
     "data": {
      "text/plain": [
       "/columns/name (Array(3,)) 'Name column selection'\n",
       "  atom := StringAtom(itemsize=16, shape=(), dflt=b'')\n",
       "  maindim := 0\n",
       "  flavor := 'python'\n",
       "  byteorder := 'irrelevant'\n",
       "  chunkshape := None"
      ]
     },
     "execution_count": 16,
     "metadata": {},
     "output_type": "execute_result"
    }
   ],
   "source": [
    "h5file.create_array(gcolumns, 'name', names, \"Name column selection\")"
   ]
  },
  {
   "cell_type": "markdown",
   "id": "5cb0863c-067d-4122-bad7-9f9ba750ee91",
   "metadata": {},
   "source": [
    "As you can see, `File.create_array()` accepts names (which is a regular Python list) as an object parameter. Actually, it accepts a variety of different regular objects (see create_array()) as parameters. The flavor attribute (see the output above) saves the original kind of object that was saved. Based on this flavor, PyTables will be able to retrieve exactly the same object from disk later on.\n",
    "\n",
    "Note that in these examples, the `create_array` method returns an Array instance that is not assigned to any variable. Don’t worry, this is intentional to show the kind of object we have created by displaying its representation. The Array objects have been attached to the object tree and saved to disk, as you can see if you print the complete object tree:"
   ]
  },
  {
   "cell_type": "code",
   "execution_count": 17,
   "id": "6d31af4e-eee8-4f1a-b125-824bc78c1bef",
   "metadata": {},
   "outputs": [
    {
     "data": {
      "text/html": [
       "<pre style=\"white-space:pre;overflow-x:auto;line-height:normal;font-family:Menlo,'DejaVu Sans Mono',consolas,'Courier New',monospace\">tutorial1.h5 <span style=\"font-weight: bold\">(</span>File<span style=\"font-weight: bold\">)</span> <span style=\"color: #008000; text-decoration-color: #008000\">'Test file'</span>\n",
       "Last modif.: <span style=\"color: #008000; text-decoration-color: #008000\">'Tue Oct 26 14:43:43 2021'</span>\n",
       "Object Tree: \n",
       "<span style=\"color: #800080; text-decoration-color: #800080\">/</span> <span style=\"font-weight: bold\">(</span>RootGroup<span style=\"font-weight: bold\">)</span> <span style=\"color: #008000; text-decoration-color: #008000\">'Test file'</span>\n",
       "<span style=\"color: #800080; text-decoration-color: #800080\">/</span><span style=\"color: #ff00ff; text-decoration-color: #ff00ff\">columns</span> <span style=\"font-weight: bold\">(</span>Group<span style=\"font-weight: bold\">)</span> <span style=\"color: #008000; text-decoration-color: #008000\">'Pressure and Name'</span>\n",
       "<span style=\"color: #800080; text-decoration-color: #800080\">/columns/</span><span style=\"color: #ff00ff; text-decoration-color: #ff00ff\">name</span> <span style=\"font-weight: bold\">(</span><span style=\"color: #800080; text-decoration-color: #800080; font-weight: bold\">Array</span><span style=\"font-weight: bold\">(</span><span style=\"color: #008080; text-decoration-color: #008080; font-weight: bold\">3</span>,<span style=\"font-weight: bold\">))</span> <span style=\"color: #008000; text-decoration-color: #008000\">'Name column selection'</span>\n",
       "<span style=\"color: #800080; text-decoration-color: #800080\">/columns/</span><span style=\"color: #ff00ff; text-decoration-color: #ff00ff\">pressure</span> <span style=\"font-weight: bold\">(</span><span style=\"color: #800080; text-decoration-color: #800080; font-weight: bold\">Array</span><span style=\"font-weight: bold\">(</span><span style=\"color: #008080; text-decoration-color: #008080; font-weight: bold\">3</span>,<span style=\"font-weight: bold\">))</span> <span style=\"color: #008000; text-decoration-color: #008000\">'Pressure column selection'</span>\n",
       "<span style=\"color: #800080; text-decoration-color: #800080\">/</span><span style=\"color: #ff00ff; text-decoration-color: #ff00ff\">detector</span> <span style=\"font-weight: bold\">(</span>Group<span style=\"font-weight: bold\">)</span> <span style=\"color: #008000; text-decoration-color: #008000\">'Detector information'</span>\n",
       "<span style=\"color: #800080; text-decoration-color: #800080\">/detector/</span><span style=\"color: #ff00ff; text-decoration-color: #ff00ff\">readout</span> <span style=\"font-weight: bold\">(</span><span style=\"color: #800080; text-decoration-color: #800080; font-weight: bold\">Table</span><span style=\"font-weight: bold\">(</span><span style=\"color: #008080; text-decoration-color: #008080; font-weight: bold\">10</span>,<span style=\"font-weight: bold\">))</span> <span style=\"color: #008000; text-decoration-color: #008000\">'Readout example'</span>\n",
       "\n",
       "</pre>\n"
      ],
      "text/plain": [
       "tutorial1.h5 \u001b[1m(\u001b[0mFile\u001b[1m)\u001b[0m \u001b[32m'Test file'\u001b[0m\n",
       "Last modif.: \u001b[32m'Tue Oct 26 14:43:43 2021'\u001b[0m\n",
       "Object Tree: \n",
       "\u001b[35m/\u001b[0m \u001b[1m(\u001b[0mRootGroup\u001b[1m)\u001b[0m \u001b[32m'Test file'\u001b[0m\n",
       "\u001b[35m/\u001b[0m\u001b[95mcolumns\u001b[0m \u001b[1m(\u001b[0mGroup\u001b[1m)\u001b[0m \u001b[32m'Pressure and Name'\u001b[0m\n",
       "\u001b[35m/columns/\u001b[0m\u001b[95mname\u001b[0m \u001b[1m(\u001b[0m\u001b[1;35mArray\u001b[0m\u001b[1m(\u001b[0m\u001b[1;36m3\u001b[0m,\u001b[1m)\u001b[0m\u001b[1m)\u001b[0m \u001b[32m'Name column selection'\u001b[0m\n",
       "\u001b[35m/columns/\u001b[0m\u001b[95mpressure\u001b[0m \u001b[1m(\u001b[0m\u001b[1;35mArray\u001b[0m\u001b[1m(\u001b[0m\u001b[1;36m3\u001b[0m,\u001b[1m)\u001b[0m\u001b[1m)\u001b[0m \u001b[32m'Pressure column selection'\u001b[0m\n",
       "\u001b[35m/\u001b[0m\u001b[95mdetector\u001b[0m \u001b[1m(\u001b[0mGroup\u001b[1m)\u001b[0m \u001b[32m'Detector information'\u001b[0m\n",
       "\u001b[35m/detector/\u001b[0m\u001b[95mreadout\u001b[0m \u001b[1m(\u001b[0m\u001b[1;35mTable\u001b[0m\u001b[1m(\u001b[0m\u001b[1;36m10\u001b[0m,\u001b[1m)\u001b[0m\u001b[1m)\u001b[0m \u001b[32m'Readout example'\u001b[0m\n",
       "\n"
      ]
     },
     "metadata": {},
     "output_type": "display_data"
    }
   ],
   "source": [
    "print(h5file)"
   ]
  },
  {
   "cell_type": "markdown",
   "id": "730daa71-c14f-4618-9763-c25207e4b27f",
   "metadata": {},
   "source": [
    "## Closing the file"
   ]
  },
  {
   "cell_type": "code",
   "execution_count": 18,
   "id": "90de186f-b49b-41e5-9ca8-ce8cf9a15d51",
   "metadata": {},
   "outputs": [],
   "source": [
    "h5file.close()"
   ]
  },
  {
   "cell_type": "markdown",
   "id": "328864bd-770f-4313-b746-a418ae329392",
   "metadata": {},
   "source": [
    "You have now created your first PyTables file with a table and two arrays. You can examine it with any generic HDF5 tool, such as `h5dump` or `h5ls`. Here is what the tutorial1.h5 looks like when read with the h5ls program."
   ]
  },
  {
   "cell_type": "code",
   "execution_count": 19,
   "id": "3a8d22a4-7e32-4f0f-91fd-dda67a84827c",
   "metadata": {},
   "outputs": [
    {
     "name": "stdout",
     "output_type": "stream",
     "text": [
      "/                        Group\n",
      "/columns                 Group\n",
      "/columns/name            Dataset {3}\n",
      "    Data:\n",
      "        (0) \"Particle:      5\", \"Particle:      6\", \"Particle:      7\"\n",
      "/columns/pressure        Dataset {3}\n",
      "    Data:\n",
      "        (0) 25, 36, 49\n",
      "/detector                Group\n",
      "/detector/readout        Dataset {10/Inf}\n",
      "    Data:\n",
      "        (0) {0, 0, 0, 0, 10, 0, \"Particle:      0\", 0},\n",
      "        (1) {256, 1, 1, 1, 9, 17179869184, \"Particle:      1\", 1},\n",
      "        (2) {512, 2, 256, 2, 8, 34359738368, \"Particle:      2\", 4},\n",
      "        (3) {768, 3, 6561, 3, 7, 51539607552, \"Particle:      3\", 9},\n",
      "        (4) {1024, 4, 65536, 4, 6, 68719476736, \"Particle:      4\", 16},\n",
      "        (5) {1280, 5, 390625, 5, 5, 85899345920, \"Particle:      5\", 25},\n",
      "        (6) {1536, 6, 1679616, 6, 4, 103079215104, \"Particle:      6\", 36},\n",
      "        (7) {1792, 7, 5764801, 7, 3, 120259084288, \"Particle:      7\", 49},\n",
      "        (8) {2048, 8, 16777216, 8, 2, 137438953472, \"Particle:      8\", 64},\n",
      "        (9) {2304, 9, 43046721, 9, 1, 154618822656, \"Particle:      9\", 81}\n"
     ]
    }
   ],
   "source": [
    "!h5ls -rd tutorial1.h5"
   ]
  },
  {
   "cell_type": "markdown",
   "id": "7efbb32a-6251-487e-a4e8-0a520379fd37",
   "metadata": {},
   "source": [
    "## Setting and getting user attributes\n",
    "\n",
    "This time, we have opened the file in `a`ppend mode. We use this mode to add more information to the file."
   ]
  },
  {
   "cell_type": "code",
   "execution_count": 19,
   "id": "6a839fc2-b638-4926-9f53-7f2462ca8049",
   "metadata": {},
   "outputs": [],
   "source": [
    "h5file = open_file(\"tutorial1.h5\", \"a\")"
   ]
  },
  {
   "cell_type": "markdown",
   "id": "2934606d-4968-4d38-a8f4-455aa24b2637",
   "metadata": {},
   "source": [
    "PyTables provides an easy and concise way to complement the meaning of your node objects on the tree by using the AttributeSet class (see The AttributeSet class). You can access this object through the standard attribute `attrs` in **Leaf nodes** and `_v_attrs` in **Group nodes**.\n",
    "\n",
    "For example, let’s imagine that we want to save the date indicating when the data in /detector/readout table has been acquired, as well as the temperature during the gathering process:"
   ]
  },
  {
   "cell_type": "code",
   "execution_count": 20,
   "id": "1b78e261-2617-4336-add3-0838ff630abb",
   "metadata": {},
   "outputs": [],
   "source": [
    "table = h5file.root.detector.readout\n",
    "table.attrs.gath_date = \"Wed, 06/12/2003 18:33\"\n",
    "table.attrs.temperature = 18.4\n",
    "table.attrs.temp_scale = \"Celsius\""
   ]
  },
  {
   "cell_type": "markdown",
   "id": "ed68cc21-1b70-4717-9ecc-dba02eba179a",
   "metadata": {},
   "source": [
    "Now, let’s set a somewhat more complex attribute in the `/detector` group:"
   ]
  },
  {
   "cell_type": "code",
   "execution_count": 21,
   "id": "10e9d46f-dbe0-4db1-be1f-caddcccf3272",
   "metadata": {},
   "outputs": [],
   "source": [
    "detector = h5file.root.detector\n",
    "detector._v_attrs.stuff = [5, (2.3, 4.5), \"Integer and tuple\"]"
   ]
  },
  {
   "cell_type": "markdown",
   "id": "7085b8f6-b41e-4c5f-80e9-0bd07190eab3",
   "metadata": {},
   "source": [
    "Note how the AttributeSet instance is accessed with the `_v_attrs` attribute because detector is a Group node. In general, you can save any standard Python data structure as an attribute node. See The AttributeSet class for a more detailed explanation of how they are serialized for export to disk.\n",
    "\n",
    "Retrieving the attributes is equally simple:"
   ]
  },
  {
   "cell_type": "code",
   "execution_count": 22,
   "id": "88ff70b3-a4cd-4be1-be15-8ebdf511f14d",
   "metadata": {},
   "outputs": [
    {
     "data": {
      "text/plain": [
       "'Wed, 06/12/2003 18:33'"
      ]
     },
     "execution_count": 22,
     "metadata": {},
     "output_type": "execute_result"
    }
   ],
   "source": [
    "table.attrs.gath_date"
   ]
  },
  {
   "cell_type": "code",
   "execution_count": 23,
   "id": "c68127e2-f839-4b7b-b312-24d94658ba5a",
   "metadata": {},
   "outputs": [
    {
     "data": {
      "text/plain": [
       "18.4"
      ]
     },
     "execution_count": 23,
     "metadata": {},
     "output_type": "execute_result"
    }
   ],
   "source": [
    "table.attrs.temperature"
   ]
  },
  {
   "cell_type": "code",
   "execution_count": 24,
   "id": "2a7abcd6-3a72-44aa-a4d5-a02d611555a2",
   "metadata": {},
   "outputs": [
    {
     "data": {
      "text/plain": [
       "'Celsius'"
      ]
     },
     "execution_count": 24,
     "metadata": {},
     "output_type": "execute_result"
    }
   ],
   "source": [
    "table.attrs.temp_scale"
   ]
  },
  {
   "cell_type": "code",
   "execution_count": 25,
   "id": "c4e38952-b49c-4556-a687-0a34d6e79bcc",
   "metadata": {},
   "outputs": [
    {
     "data": {
      "text/plain": [
       "[5, (2.3, 4.5), 'Integer and tuple']"
      ]
     },
     "execution_count": 25,
     "metadata": {},
     "output_type": "execute_result"
    }
   ],
   "source": [
    "detector._v_attrs.stuff"
   ]
  },
  {
   "cell_type": "markdown",
   "id": "615f8e3c-543a-4d71-86e0-9a79db26af9a",
   "metadata": {},
   "source": [
    "If you want to examine the current user attribute set of /detector/table, you can print its representation (try hitting the TAB key twice if you are on a Unix Python console with the rlcompleter module active):"
   ]
  },
  {
   "cell_type": "code",
   "execution_count": 26,
   "id": "9948c271-f617-44a6-b630-4c621f4f251a",
   "metadata": {},
   "outputs": [
    {
     "data": {
      "text/plain": [
       "/detector/readout._v_attrs (AttributeSet), 23 attributes:\n",
       "   [CLASS := 'TABLE',\n",
       "    FIELD_0_FILL := 0,\n",
       "    FIELD_0_NAME := 'ADCcount',\n",
       "    FIELD_1_FILL := 0,\n",
       "    FIELD_1_NAME := 'TDCcount',\n",
       "    FIELD_2_FILL := 0.0,\n",
       "    FIELD_2_NAME := 'energy',\n",
       "    FIELD_3_FILL := 0,\n",
       "    FIELD_3_NAME := 'grid_i',\n",
       "    FIELD_4_FILL := 0,\n",
       "    FIELD_4_NAME := 'grid_j',\n",
       "    FIELD_5_FILL := 0,\n",
       "    FIELD_5_NAME := 'idnumber',\n",
       "    FIELD_6_FILL := b'',\n",
       "    FIELD_6_NAME := 'name',\n",
       "    FIELD_7_FILL := 0.0,\n",
       "    FIELD_7_NAME := 'pressure',\n",
       "    NROWS := 10,\n",
       "    TITLE := 'Readout example',\n",
       "    VERSION := '2.7',\n",
       "    gath_date := 'Wed, 06/12/2003 18:33',\n",
       "    temp_scale := 'Celsius',\n",
       "    temperature := 18.4]"
      ]
     },
     "execution_count": 26,
     "metadata": {},
     "output_type": "execute_result"
    }
   ],
   "source": [
    "table.attrs"
   ]
  },
  {
   "cell_type": "code",
   "execution_count": null,
   "id": "16df9a0c-2373-4cba-b93f-9c45d85dbbed",
   "metadata": {
    "collapsed": true,
    "jupyter": {
     "outputs_hidden": true
    }
   },
   "outputs": [],
   "source": []
  }
 ],
 "metadata": {
  "kernelspec": {
   "display_name": "hdf5",
   "language": "python",
   "name": "hdf5"
  },
  "language_info": {
   "codemirror_mode": {
    "name": "ipython",
    "version": 3
   },
   "file_extension": ".py",
   "mimetype": "text/x-python",
   "name": "python",
   "nbconvert_exporter": "python",
   "pygments_lexer": "ipython3",
   "version": "3.8.10"
  }
 },
 "nbformat": 4,
 "nbformat_minor": 5
}
