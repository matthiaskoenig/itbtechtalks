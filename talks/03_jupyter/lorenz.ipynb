{
 "cells": [
  {
   "cell_type": "markdown",
   "metadata": {},
   "source": [
    "# Example Jupyter notebook -  Lorenz attractor\n",
    "Here we show the basic functionality of a notebook"
   ]
  },
  {
   "cell_type": "code",
   "execution_count": 1,
   "metadata": {},
   "outputs": [],
   "source": [
    "import numpy as np\n",
    "import pandas as pd\n",
    "from scipy.integrate import odeint\n",
    "from matplotlib import pyplot as plt"
   ]
  },
  {
   "cell_type": "markdown",
   "metadata": {},
   "source": [
    "## Definition of the lorenz system"
   ]
  },
  {
   "cell_type": "code",
   "execution_count": null,
   "metadata": {},
   "outputs": [],
   "source": [
    "def lorenz_dxdt(x, t):\n",
    "    \"\"\" Differential equations for Lorenz.\n",
    "\n",
    "    :param x: state vector\n",
    "    :param t: time\n",
    "    :return: ODE system\n",
    "    \"\"\"\n",
    "    r = 45.92\n",
    "    b = 4.0\n",
    "    sig = 16.0\n",
    "    return [\n",
    "        sig*(x[1] - x[0]),\n",
    "        -x[0]*x[2] + r*x[0] - x[1],\n",
    "        x[0]*x[1] - b*x[2],\n",
    "    ]"
   ]
  },
  {
   "cell_type": "code",
   "execution_count": 7,
   "metadata": {},
   "outputs": [],
   "source": [
    "## Plotting helpers"
   ]
  },
  {
   "cell_type": "code",
   "execution_count": null,
   "metadata": {},
   "outputs": [],
   "source": [
    "def lorenz_plot(s):\n",
    "    \"\"\" Plot the Lorenz attractor.\n",
    "\n",
    "    :param s: Data Frame with results\n",
    "    :return:\n",
    "    \"\"\"\n",
    "    # plot results\n",
    "    fig, (ax1, ax2) = plt.subplots(nrows=1, ncols=2, figsize=(20, 10))\n",
    "    axes = (ax1, ax2)\n",
    "    ax1.plot(s.time, s.x0, label=\"x0\")\n",
    "    ax1.plot(s.time, s.x1, label=\"x1\")\n",
    "    ax1.plot(s.time, s.x2, label=\"x2\")\n",
    "\n",
    "    ax2.plot(s.x0, s.x1, label=\"x1 ~ x0\")\n",
    "    ax2.plot(s.x0, s.x2, label=\"x2 ~ x0\")\n",
    "    ax2.plot(s.x1, s.x2, label=\"x2 ~ x1\")\n",
    "\n",
    "    ax1.set_title(\"Lorenz Time Course\")\n",
    "    ax1.set_xlabel(\"time\")\n",
    "    ax2.set_title(\"Lorenz State Space\")\n",
    "    ax2.set_xlabel(\"value\")\n",
    "\n",
    "    for ax in axes:\n",
    "        ax.legend()\n",
    "        ax.set_ylabel(\"value\")\n",
    "\n",
    "    plt.show()\n",
    "\n",
    "    return fig"
   ]
  }
 ],
 "metadata": {
  "kernelspec": {
   "display_name": "itbtechtalks",
   "language": "python",
   "name": "itbtechtalks"
  },
  "language_info": {
   "codemirror_mode": {
    "name": "ipython",
    "version": 3
   },
   "file_extension": ".py",
   "mimetype": "text/x-python",
   "name": "python",
   "nbconvert_exporter": "python",
   "pygments_lexer": "ipython3",
   "version": "3.5.2"
  }
 },
 "nbformat": 4,
 "nbformat_minor": 2
}
