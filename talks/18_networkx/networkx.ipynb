{
 "cells": [
  {
   "cell_type": "markdown",
   "id": "37d428c8-5fa2-475a-b7b8-8161043b303c",
   "metadata": {},
   "source": [
    "# Tutorial\n",
    "\n",
    "This guide can help you start working with NetworkX.\n",
    "This notebook is based on the official tutorial at https://networkx.org/documentation/stable/tutorial.html"
   ]
  },
  {
   "cell_type": "code",
   "execution_count": null,
   "id": "34635276-8e5f-4486-9738-58cbbede2b32",
   "metadata": {},
   "outputs": [],
   "source": []
  }
 ],
 "metadata": {
  "kernelspec": {
   "display_name": "networkx",
   "language": "python",
   "name": "networkx"
  },
  "language_info": {
   "codemirror_mode": {
    "name": "ipython",
    "version": 3
   },
   "file_extension": ".py",
   "mimetype": "text/x-python",
   "name": "python",
   "nbconvert_exporter": "python",
   "pygments_lexer": "ipython3",
   "version": "3.8.10"
  }
 },
 "nbformat": 4,
 "nbformat_minor": 5
}
