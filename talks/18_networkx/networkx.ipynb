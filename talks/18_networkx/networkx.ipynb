{
 "cells": [
  {
   "cell_type": "markdown",
   "id": "37d428c8-5fa2-475a-b7b8-8161043b303c",
   "metadata": {},
   "source": [
    "# Tutorial\n",
    "\n",
    "This guide can help you start working with NetworkX.\n",
    "This notebook is based on the official tutorial at https://networkx.org/documentation/stable/tutorial.html"
   ]
  },
  {
   "cell_type": "markdown",
   "id": "3856901e-435f-4940-9247-661ea2323d6d",
   "metadata": {},
   "source": [
    "## Creating a graph\n",
    "\n",
    "Create an empty graph with no nodes and no edges."
   ]
  },
  {
   "cell_type": "code",
   "execution_count": 2,
   "id": "faddce55-3dba-430a-8a67-beea7d29b881",
   "metadata": {},
   "outputs": [],
   "source": [
    "import networkx as nx\n",
    "\n",
    "G = nx.Graph()"
   ]
  },
  {
   "cell_type": "markdown",
   "id": "1d3e232b-f569-4e46-882d-30d432c833f9",
   "metadata": {},
   "source": [
    "By definition, a Graph is a collection of nodes (vertices) along with identified pairs of nodes (called edges, links, etc). In NetworkX, **nodes** can be **any hashable object** e.g., a text string, an image, an XML object, another Graph, a customized node object, etc.\n",
    "\n",
    "**Note**\n",
    "\n",
    "Python’s None object is not allowed to be used as a node. It determines whether optional function arguments have been assigned in many functions. And it can be used as a sentinel object meaning “not a node”.\n"
   ]
  },
  {
   "cell_type": "markdown",
   "id": "8c6376d4-e71c-4284-aec5-68c6c810fba2",
   "metadata": {},
   "source": [
    "## Nodes\n",
    "\n",
    "The graph `G` can be grown in several ways. NetworkX includes many graph generator functions and facilities to read and write graphs in many formats. To get started though we’ll look at simple manipulations. You can add one node at a time,"
   ]
  },
  {
   "cell_type": "code",
   "execution_count": 3,
   "id": "acf90f09-dcdf-4750-aa0c-c24297d32634",
   "metadata": {},
   "outputs": [],
   "source": [
    "G.add_node(1)"
   ]
  },
  {
   "cell_type": "markdown",
   "id": "63334143-1a2a-46a0-9f45-c5b9e0823900",
   "metadata": {},
   "source": [
    "or add nodes from any iterable container, such as a list"
   ]
  },
  {
   "cell_type": "code",
   "execution_count": 4,
   "id": "4bc6914a-415a-4937-93e6-72c1b3c96687",
   "metadata": {},
   "outputs": [],
   "source": [
    "G.add_nodes_from([2, 3])"
   ]
  },
  {
   "cell_type": "markdown",
   "id": "dffee323-b3db-481b-8b69-f155d95348bd",
   "metadata": {},
   "source": [
    "You can also add nodes along with node attributes if your container yields 2-tuples of the form `(node, node_attribute_dict)`:"
   ]
  },
  {
   "cell_type": "code",
   "execution_count": 5,
   "id": "218be184-7930-4c95-8a1d-249e0c61a48f",
   "metadata": {},
   "outputs": [],
   "source": [
    "G.add_nodes_from([\n",
    "    (4, {\"color\": \"red\"}),\n",
    "    (5, {\"color\": \"green\"}),\n",
    "])"
   ]
  },
  {
   "cell_type": "markdown",
   "id": "cc0df1a9-614c-479c-a6cb-4aa8187dab7b",
   "metadata": {},
   "source": [
    "Node attributes are discussed further below.\n",
    "\n",
    "Nodes from one graph can be incorporated into another:"
   ]
  },
  {
   "cell_type": "code",
   "execution_count": 6,
   "id": "c5bec087-8c9e-4fec-8915-cca2b1b2549f",
   "metadata": {},
   "outputs": [],
   "source": [
    "H = nx.path_graph(10)\n",
    "\n",
    "G.add_nodes_from(H)"
   ]
  },
  {
   "cell_type": "markdown",
   "id": "2496bc6c-1d0b-41df-bf85-b517405477b0",
   "metadata": {},
   "source": [
    "**The graph G now contains H as a node.** This flexibility is very powerful as it allows **graphs of graphs, graphs of files, graphs of functions and much more**. It is worth thinking about how to structure your application so that the nodes are useful entities. Of course you can always use a unique identifier in G and have a separate dictionary keyed by identifier to the node information if you prefer."
   ]
  },
  {
   "cell_type": "markdown",
   "id": "94d4fa93-c6cd-4477-b05e-83fb7b9f993d",
   "metadata": {},
   "source": [
    "**_Note_**: You should not change the node object if the hash depends on its contents."
   ]
  },
  {
   "cell_type": "markdown",
   "id": "7e03a75f-6d66-4b58-b2c6-7d66db7ff478",
   "metadata": {},
   "source": [
    "## Edges\n",
    "\n",
    "`G` can also be grown by adding one edge at a time,"
   ]
  },
  {
   "cell_type": "code",
   "execution_count": 8,
   "id": "9bea2048-6bec-4b19-9dde-77b8af7c3736",
   "metadata": {},
   "outputs": [],
   "source": [
    "G.add_edge(1, 2)\n",
    "\n",
    "e = (2, 3)\n",
    "G.add_edge(*e)  # unpack edge tuple*"
   ]
  },
  {
   "cell_type": "markdown",
   "id": "9da585e3-22eb-4bfa-b921-479d21358b38",
   "metadata": {},
   "source": [
    "by adding a list of edges,"
   ]
  },
  {
   "cell_type": "code",
   "execution_count": 10,
   "id": "bd793e8a-02fe-428e-a5bd-25006d4cc5b0",
   "metadata": {},
   "outputs": [],
   "source": [
    "G.add_edges_from([(1, 2), (1, 3)])"
   ]
  },
  {
   "cell_type": "markdown",
   "id": "1057ff52-d6de-4483-b5bd-bcd2f066dbff",
   "metadata": {},
   "source": [
    "or by adding any ebunch of edges. An **ebunch is any iterable container of edge-tuples**. An edge-tuple can be a 2-tuple of nodes or a 3-tuple with 2 nodes followed by an edge attribute dictionary, e.g., `(2, 3, {'weight': 3.1415})`. Edge attributes are discussed further below."
   ]
  },
  {
   "cell_type": "code",
   "execution_count": 11,
   "id": "6e8aea69-8532-440e-9bd6-dc604fe1c70e",
   "metadata": {},
   "outputs": [],
   "source": [
    "G.add_edges_from(H.edges)"
   ]
  },
  {
   "cell_type": "markdown",
   "id": "266658a4-b583-4e2a-af15-8170e9a6e396",
   "metadata": {},
   "source": [
    "There are no complaints when adding existing nodes or edges. For example, after removing all nodes and edges,"
   ]
  },
  {
   "cell_type": "code",
   "execution_count": 12,
   "id": "85d77f31-6579-4165-9db7-5dfb93ce6391",
   "metadata": {},
   "outputs": [],
   "source": [
    "G.clear()"
   ]
  },
  {
   "cell_type": "markdown",
   "id": "5cc84ab5-9e06-4bbd-96ba-231170f1839f",
   "metadata": {},
   "source": [
    "we add new nodes/edges and NetworkX quietly ignores any that are already present."
   ]
  },
  {
   "cell_type": "code",
   "execution_count": 13,
   "id": "c1535ba4-c498-421b-a4b9-3793060534a5",
   "metadata": {},
   "outputs": [],
   "source": [
    "G.add_edges_from([(1, 2), (1, 3)])\n",
    "\n",
    "G.add_node(1)\n",
    "\n",
    "G.add_edge(1, 2)\n",
    "\n",
    "G.add_node(\"spam\")        # adds node \"spam\"\n",
    "\n",
    "G.add_nodes_from(\"spam\")  # adds 4 nodes: 's', 'p', 'a', 'm'\n",
    "\n",
    "G.add_edge(3, 'm')"
   ]
  },
  {
   "cell_type": "markdown",
   "id": "1d807bb1-b58e-41db-b2a8-277c0152f0f3",
   "metadata": {},
   "source": [
    "At this stage the graph G consists of 8 nodes and 3 edges, as can be seen by:"
   ]
  },
  {
   "cell_type": "code",
   "execution_count": 14,
   "id": "20833a25-5a2e-40f4-b5ec-28a9df669655",
   "metadata": {},
   "outputs": [
    {
     "data": {
      "text/plain": [
       "8"
      ]
     },
     "execution_count": 14,
     "metadata": {},
     "output_type": "execute_result"
    }
   ],
   "source": [
    "G.number_of_nodes()"
   ]
  },
  {
   "cell_type": "code",
   "execution_count": 15,
   "id": "97d0ccff-5f79-41d6-bd70-f89cc5d3e93f",
   "metadata": {},
   "outputs": [
    {
     "data": {
      "text/plain": [
       "3"
      ]
     },
     "execution_count": 15,
     "metadata": {},
     "output_type": "execute_result"
    }
   ],
   "source": [
    "G.number_of_edges()"
   ]
  },
  {
   "cell_type": "markdown",
   "id": "7a819fed-d330-40bd-a3a0-c83d93147a7f",
   "metadata": {},
   "source": [
    "**_Note_**: **The order of adjacency reporting (e.g., G.adj, G.successors, G.predecessors) is the order of edge addition.** However, the order of G.edges is the order of the adjacencies which includes both the order of the nodes and each node’s adjacencies. See example below:\n"
   ]
  },
  {
   "cell_type": "code",
   "execution_count": 16,
   "id": "8fabb464-6c72-43b5-86f8-93ac81ab4d2e",
   "metadata": {},
   "outputs": [],
   "source": [
    "# directed graph\n",
    "DG = nx.DiGraph()\n",
    "\n",
    "DG.add_edge(2, 1)   # adds the nodes in order 2, 1\n",
    "\n",
    "DG.add_edge(1, 3)\n",
    "\n",
    "DG.add_edge(2, 4)\n",
    "\n",
    "DG.add_edge(1, 2)\n",
    "\n",
    "assert list(DG.successors(2)) == [1, 4]\n",
    "\n",
    "assert list(DG.edges) == [(2, 1), (2, 4), (1, 3), (1, 2)]"
   ]
  },
  {
   "cell_type": "markdown",
   "id": "34679836-90a4-4744-90c7-33bc23d56179",
   "metadata": {},
   "source": [
    "## Examining elements of a graph\n",
    "\n",
    "We can examine the nodes and edges. Four basic graph properties facilitate reporting: `G.nodes`, `G.edges`, `G.adj` and `G.degree`. These are **set-like views of the nodes, edges, neighbors (adjacencies), and degrees of nodes in a graph**. They offer a continually updated read-only view into the graph structure. They are also dict-like in that you can **look up node and edge data attributes** via the views and iterate with data attributes using methods .items(), .data('span'). If you want a specific container type instead of a view, you can specify one. Here we use lists, though sets, dicts, tuples and other containers may be better in other contexts."
   ]
  },
  {
   "cell_type": "code",
   "execution_count": 17,
   "id": "1cf7d659-f3fa-43b0-a3e0-8cbdcaf87c50",
   "metadata": {},
   "outputs": [
    {
     "data": {
      "text/plain": [
       "[1, 2, 3, 'spam', 's', 'p', 'a', 'm']"
      ]
     },
     "execution_count": 17,
     "metadata": {},
     "output_type": "execute_result"
    }
   ],
   "source": [
    "list(G.nodes)"
   ]
  },
  {
   "cell_type": "code",
   "execution_count": 18,
   "id": "697ee031-8ab9-4729-8f77-a62fe1cadfa0",
   "metadata": {},
   "outputs": [
    {
     "data": {
      "text/plain": [
       "[(1, 2), (1, 3), (3, 'm')]"
      ]
     },
     "execution_count": 18,
     "metadata": {},
     "output_type": "execute_result"
    }
   ],
   "source": [
    "list(G.edges)"
   ]
  },
  {
   "cell_type": "code",
   "execution_count": 19,
   "id": "ba70b773-c48a-405c-b6ca-4bbb2d81fc6d",
   "metadata": {},
   "outputs": [
    {
     "data": {
      "text/plain": [
       "2"
      ]
     },
     "execution_count": 19,
     "metadata": {},
     "output_type": "execute_result"
    }
   ],
   "source": [
    "list(G.adj[1])  # or list(G.neighbors(1))"
   ]
  },
  {
   "cell_type": "code",
   "execution_count": 21,
   "id": "de18731d-1fc9-43d2-8a68-aff14597f140",
   "metadata": {},
   "outputs": [
    {
     "data": {
      "text/plain": [
       "2"
      ]
     },
     "execution_count": 21,
     "metadata": {},
     "output_type": "execute_result"
    }
   ],
   "source": [
    "G.degree[1]  # the number of edges incident to 1"
   ]
  },
  {
   "cell_type": "markdown",
   "id": "ee63417e-f27e-4373-87f0-cd6e8c9597c4",
   "metadata": {},
   "source": [
    "One can specify to **report the edges and degree from a subset of all nodes** using an nbunch. An nbunch is any of: None (meaning all nodes), a node, or an iterable container of nodes that is not itself a node in the graph."
   ]
  },
  {
   "cell_type": "code",
   "execution_count": 22,
   "id": "fa064471-110b-4cea-8804-34c0c433c9b8",
   "metadata": {},
   "outputs": [
    {
     "data": {
      "text/plain": [
       "EdgeDataView([(2, 1), ('m', 3)])"
      ]
     },
     "execution_count": 22,
     "metadata": {},
     "output_type": "execute_result"
    }
   ],
   "source": [
    "G.edges([2, 'm'])"
   ]
  },
  {
   "cell_type": "code",
   "execution_count": 23,
   "id": "61adb7b9-c89e-45e9-9dc3-ea6944502cb8",
   "metadata": {},
   "outputs": [
    {
     "data": {
      "text/plain": [
       "DegreeView({2: 1, 3: 2})"
      ]
     },
     "execution_count": 23,
     "metadata": {},
     "output_type": "execute_result"
    }
   ],
   "source": [
    "G.degree([2, 3])"
   ]
  },
  {
   "cell_type": "markdown",
   "id": "1ec0f433-dc4f-475a-ba64-f48e8bb38a0b",
   "metadata": {},
   "source": [
    "## Removing elements from a graph\n",
    "\n",
    "One can remove nodes and edges from the graph in a similar fashion to adding. Use methods `Graph.remove_node()`, `Graph.remove_nodes_from()`, `Graph.remove_edge()` and `Graph.remove_edges_from()`, e.g."
   ]
  },
  {
   "cell_type": "code",
   "execution_count": 24,
   "id": "91554364-401b-4ff2-bb0b-78413e3a9b8e",
   "metadata": {},
   "outputs": [
    {
     "data": {
      "text/plain": [
       "[1, 3, 'spam']"
      ]
     },
     "execution_count": 24,
     "metadata": {},
     "output_type": "execute_result"
    }
   ],
   "source": [
    "G.remove_node(2)\n",
    "\n",
    "G.remove_nodes_from(\"spam\")\n",
    "\n",
    "list(G.nodes)"
   ]
  },
  {
   "cell_type": "code",
   "execution_count": 25,
   "id": "a1459ff8-3041-4f88-b5dd-b2d477a5b993",
   "metadata": {},
   "outputs": [],
   "source": [
    "G.remove_edge(1, 3)"
   ]
  },
  {
   "cell_type": "markdown",
   "id": "858d98e5-466f-47b9-a23b-531d297e5d14",
   "metadata": {},
   "source": [
    "## Using the graph constructors\n",
    "\n",
    "Graph objects do not have to be built up incrementally - data specifying graph structure can be passed directly to the constructors of the various graph classes. When creating a graph structure by instantiating one of the graph classes you can specify data in several formats."
   ]
  },
  {
   "cell_type": "code",
   "execution_count": 26,
   "id": "33d7930e-831d-4da3-abcd-aaea753e74ad",
   "metadata": {},
   "outputs": [
    {
     "data": {
      "text/plain": [
       "[(1, 2), (2, 1)]"
      ]
     },
     "execution_count": 26,
     "metadata": {},
     "output_type": "execute_result"
    }
   ],
   "source": [
    "G.add_edge(1, 2)\n",
    "\n",
    "H = nx.DiGraph(G)   # create a DiGraph using the connections from G\n",
    "list(H.edges())"
   ]
  },
  {
   "cell_type": "code",
   "execution_count": 27,
   "id": "124bcb5e-80d8-421d-b879-7f113c994195",
   "metadata": {},
   "outputs": [],
   "source": [
    "edgelist = [(0, 1), (1, 2), (2, 3)]\n",
    "H = nx.Graph(edgelist)"
   ]
  },
  {
   "cell_type": "code",
   "execution_count": null,
   "id": "22323d51-5220-43a0-bc37-0668809fcbb7",
   "metadata": {},
   "outputs": [],
   "source": []
  }
 ],
 "metadata": {
  "kernelspec": {
   "display_name": "networkx",
   "language": "python",
   "name": "networkx"
  },
  "language_info": {
   "codemirror_mode": {
    "name": "ipython",
    "version": 3
   },
   "file_extension": ".py",
   "mimetype": "text/x-python",
   "name": "python",
   "nbconvert_exporter": "python",
   "pygments_lexer": "ipython3",
   "version": "3.8.10"
  }
 },
 "nbformat": 4,
 "nbformat_minor": 5
}
