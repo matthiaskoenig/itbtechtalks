{
 "cells": [
  {
   "cell_type": "markdown",
   "id": "37d428c8-5fa2-475a-b7b8-8161043b303c",
   "metadata": {},
   "source": [
    "# NetworkX Tutorial\n",
    "\n",
    "This guide can help you start working with NetworkX.\n",
    "This notebook is based on the official tutorial at https://networkx.org/documentation/stable/tutorial.html"
   ]
  },
  {
   "cell_type": "markdown",
   "id": "3856901e-435f-4940-9247-661ea2323d6d",
   "metadata": {},
   "source": [
    "## Creating a graph\n",
    "\n",
    "Create an empty graph with no nodes and no edges."
   ]
  },
  {
   "cell_type": "code",
   "execution_count": null,
   "id": "faddce55-3dba-430a-8a67-beea7d29b881",
   "metadata": {},
   "outputs": [],
   "source": [
    "import networkx as nx\n",
    "\n",
    "G = nx.Graph()"
   ]
  },
  {
   "cell_type": "markdown",
   "id": "1d3e232b-f569-4e46-882d-30d432c833f9",
   "metadata": {},
   "source": [
    "By definition, a Graph is a collection of nodes (vertices) along with identified pairs of nodes (called edges, links, etc). In NetworkX, **nodes** can be **any hashable object** e.g., a text string, an image, an XML object, another Graph, a customized node object, etc.\n",
    "\n",
    "**Note**\n",
    "\n",
    "Python’s None object is not allowed to be used as a node. It determines whether optional function arguments have been assigned in many functions. And it can be used as a sentinel object meaning “not a node”.\n"
   ]
  },
  {
   "cell_type": "markdown",
   "id": "8c6376d4-e71c-4284-aec5-68c6c810fba2",
   "metadata": {},
   "source": [
    "## Nodes\n",
    "\n",
    "The graph `G` can be grown in several ways. NetworkX includes many graph generator functions and facilities to read and write graphs in many formats. To get started though we’ll look at simple manipulations. You can add one node at a time,"
   ]
  },
  {
   "cell_type": "code",
   "execution_count": null,
   "id": "acf90f09-dcdf-4750-aa0c-c24297d32634",
   "metadata": {},
   "outputs": [],
   "source": [
    "G.add_node(1)"
   ]
  },
  {
   "cell_type": "markdown",
   "id": "63334143-1a2a-46a0-9f45-c5b9e0823900",
   "metadata": {},
   "source": [
    "or add nodes from any iterable container, such as a list"
   ]
  },
  {
   "cell_type": "code",
   "execution_count": null,
   "id": "4bc6914a-415a-4937-93e6-72c1b3c96687",
   "metadata": {},
   "outputs": [],
   "source": [
    "G.add_nodes_from([2, 3])"
   ]
  },
  {
   "cell_type": "markdown",
   "id": "dffee323-b3db-481b-8b69-f155d95348bd",
   "metadata": {},
   "source": [
    "You can also add nodes along with node attributes if your container yields 2-tuples of the form `(node, node_attribute_dict)`:"
   ]
  },
  {
   "cell_type": "code",
   "execution_count": null,
   "id": "218be184-7930-4c95-8a1d-249e0c61a48f",
   "metadata": {},
   "outputs": [],
   "source": [
    "G.add_nodes_from([\n",
    "    (4, {\"color\": \"red\"}),\n",
    "    (5, {\"color\": \"green\"}),\n",
    "])"
   ]
  },
  {
   "cell_type": "markdown",
   "id": "cc0df1a9-614c-479c-a6cb-4aa8187dab7b",
   "metadata": {},
   "source": [
    "Node attributes are discussed further below.\n",
    "\n",
    "Nodes from one graph can be incorporated into another:"
   ]
  },
  {
   "cell_type": "code",
   "execution_count": null,
   "id": "c5bec087-8c9e-4fec-8915-cca2b1b2549f",
   "metadata": {},
   "outputs": [],
   "source": [
    "H = nx.path_graph(10)\n",
    "\n",
    "G.add_nodes_from(H)"
   ]
  },
  {
   "cell_type": "markdown",
   "id": "2496bc6c-1d0b-41df-bf85-b517405477b0",
   "metadata": {},
   "source": [
    "**The graph G now contains H as a node.** This flexibility is very powerful as it allows **graphs of graphs, graphs of files, graphs of functions and much more**. It is worth thinking about how to structure your application so that the nodes are useful entities. Of course you can always use a unique identifier in G and have a separate dictionary keyed by identifier to the node information if you prefer."
   ]
  },
  {
   "cell_type": "markdown",
   "id": "94d4fa93-c6cd-4477-b05e-83fb7b9f993d",
   "metadata": {},
   "source": [
    "**_Note_**: You should not change the node object if the hash depends on its contents."
   ]
  },
  {
   "cell_type": "markdown",
   "id": "7e03a75f-6d66-4b58-b2c6-7d66db7ff478",
   "metadata": {},
   "source": [
    "## Edges\n",
    "\n",
    "`G` can also be grown by adding one edge at a time,"
   ]
  },
  {
   "cell_type": "code",
   "execution_count": null,
   "id": "9bea2048-6bec-4b19-9dde-77b8af7c3736",
   "metadata": {},
   "outputs": [],
   "source": [
    "G.add_edge(1, 2)\n",
    "\n",
    "e = (2, 3)\n",
    "G.add_edge(*e)  # unpack edge tuple*"
   ]
  },
  {
   "cell_type": "markdown",
   "id": "9da585e3-22eb-4bfa-b921-479d21358b38",
   "metadata": {},
   "source": [
    "by adding a list of edges,"
   ]
  },
  {
   "cell_type": "code",
   "execution_count": null,
   "id": "bd793e8a-02fe-428e-a5bd-25006d4cc5b0",
   "metadata": {},
   "outputs": [],
   "source": [
    "G.add_edges_from([(1, 2), (1, 3)])"
   ]
  },
  {
   "cell_type": "markdown",
   "id": "1057ff52-d6de-4483-b5bd-bcd2f066dbff",
   "metadata": {},
   "source": [
    "or by adding any ebunch of edges. An **ebunch is any iterable container of edge-tuples**. An edge-tuple can be a 2-tuple of nodes or a 3-tuple with 2 nodes followed by an edge attribute dictionary, e.g., `(2, 3, {'weight': 3.1415})`. Edge attributes are discussed further below."
   ]
  },
  {
   "cell_type": "code",
   "execution_count": null,
   "id": "6e8aea69-8532-440e-9bd6-dc604fe1c70e",
   "metadata": {},
   "outputs": [],
   "source": [
    "G.add_edges_from(H.edges)"
   ]
  },
  {
   "cell_type": "markdown",
   "id": "266658a4-b583-4e2a-af15-8170e9a6e396",
   "metadata": {},
   "source": [
    "There are no complaints when adding existing nodes or edges. For example, after removing all nodes and edges,"
   ]
  },
  {
   "cell_type": "code",
   "execution_count": null,
   "id": "85d77f31-6579-4165-9db7-5dfb93ce6391",
   "metadata": {},
   "outputs": [],
   "source": [
    "G.clear()"
   ]
  },
  {
   "cell_type": "markdown",
   "id": "5cc84ab5-9e06-4bbd-96ba-231170f1839f",
   "metadata": {},
   "source": [
    "we add new nodes/edges and NetworkX quietly ignores any that are already present."
   ]
  },
  {
   "cell_type": "code",
   "execution_count": null,
   "id": "c1535ba4-c498-421b-a4b9-3793060534a5",
   "metadata": {},
   "outputs": [],
   "source": [
    "G.add_edges_from([(1, 2), (1, 3)])\n",
    "\n",
    "G.add_node(1)\n",
    "\n",
    "G.add_edge(1, 2)\n",
    "\n",
    "G.add_node(\"spam\")        # adds node \"spam\"\n",
    "\n",
    "G.add_nodes_from(\"spam\")  # adds 4 nodes: 's', 'p', 'a', 'm'\n",
    "\n",
    "G.add_edge(3, 'm')"
   ]
  },
  {
   "cell_type": "markdown",
   "id": "1d807bb1-b58e-41db-b2a8-277c0152f0f3",
   "metadata": {},
   "source": [
    "At this stage the graph G consists of 8 nodes and 3 edges, as can be seen by:"
   ]
  },
  {
   "cell_type": "code",
   "execution_count": null,
   "id": "20833a25-5a2e-40f4-b5ec-28a9df669655",
   "metadata": {},
   "outputs": [],
   "source": [
    "G.number_of_nodes()"
   ]
  },
  {
   "cell_type": "code",
   "execution_count": null,
   "id": "97d0ccff-5f79-41d6-bd70-f89cc5d3e93f",
   "metadata": {},
   "outputs": [],
   "source": [
    "G.number_of_edges()"
   ]
  },
  {
   "cell_type": "markdown",
   "id": "7a819fed-d330-40bd-a3a0-c83d93147a7f",
   "metadata": {},
   "source": [
    "**_Note_**: **The order of adjacency reporting (e.g., G.adj, G.successors, G.predecessors) is the order of edge addition.** However, the order of G.edges is the order of the adjacencies which includes both the order of the nodes and each node’s adjacencies. See example below:\n"
   ]
  },
  {
   "cell_type": "code",
   "execution_count": null,
   "id": "8fabb464-6c72-43b5-86f8-93ac81ab4d2e",
   "metadata": {},
   "outputs": [],
   "source": [
    "# directed graph\n",
    "DG = nx.DiGraph()\n",
    "\n",
    "DG.add_edge(2, 1)   # adds the nodes in order 2, 1\n",
    "\n",
    "DG.add_edge(1, 3)\n",
    "\n",
    "DG.add_edge(2, 4)\n",
    "\n",
    "DG.add_edge(1, 2)\n",
    "\n",
    "assert list(DG.successors(2)) == [1, 4]\n",
    "\n",
    "assert list(DG.edges) == [(2, 1), (2, 4), (1, 3), (1, 2)]"
   ]
  },
  {
   "cell_type": "markdown",
   "id": "34679836-90a4-4744-90c7-33bc23d56179",
   "metadata": {},
   "source": [
    "## Examining elements of a graph\n",
    "\n",
    "We can examine the nodes and edges. Four basic graph properties facilitate reporting: `G.nodes`, `G.edges`, `G.adj` and `G.degree`. These are **set-like views of the nodes, edges, neighbors (adjacencies), and degrees of nodes in a graph**. They offer a continually updated read-only view into the graph structure. They are also dict-like in that you can **look up node and edge data attributes** via the views and iterate with data attributes using methods .items(), .data('span'). If you want a specific container type instead of a view, you can specify one. Here we use lists, though sets, dicts, tuples and other containers may be better in other contexts."
   ]
  },
  {
   "cell_type": "code",
   "execution_count": null,
   "id": "1cf7d659-f3fa-43b0-a3e0-8cbdcaf87c50",
   "metadata": {},
   "outputs": [],
   "source": [
    "list(G.nodes)"
   ]
  },
  {
   "cell_type": "code",
   "execution_count": null,
   "id": "697ee031-8ab9-4729-8f77-a62fe1cadfa0",
   "metadata": {},
   "outputs": [],
   "source": [
    "list(G.edges)"
   ]
  },
  {
   "cell_type": "code",
   "execution_count": null,
   "id": "ba70b773-c48a-405c-b6ca-4bbb2d81fc6d",
   "metadata": {},
   "outputs": [],
   "source": [
    "list(G.adj[1])  # or list(G.neighbors(1))"
   ]
  },
  {
   "cell_type": "code",
   "execution_count": null,
   "id": "de18731d-1fc9-43d2-8a68-aff14597f140",
   "metadata": {},
   "outputs": [],
   "source": [
    "G.degree[1]  # the number of edges incident to 1"
   ]
  },
  {
   "cell_type": "markdown",
   "id": "ee63417e-f27e-4373-87f0-cd6e8c9597c4",
   "metadata": {},
   "source": [
    "One can specify to **report the edges and degree from a subset of all nodes** using an nbunch. An nbunch is any of: None (meaning all nodes), a node, or an iterable container of nodes that is not itself a node in the graph."
   ]
  },
  {
   "cell_type": "code",
   "execution_count": null,
   "id": "fa064471-110b-4cea-8804-34c0c433c9b8",
   "metadata": {},
   "outputs": [],
   "source": [
    "G.edges([2, 'm'])"
   ]
  },
  {
   "cell_type": "code",
   "execution_count": null,
   "id": "61adb7b9-c89e-45e9-9dc3-ea6944502cb8",
   "metadata": {},
   "outputs": [],
   "source": [
    "G.degree([2, 3])"
   ]
  },
  {
   "cell_type": "markdown",
   "id": "1ec0f433-dc4f-475a-ba64-f48e8bb38a0b",
   "metadata": {},
   "source": [
    "## Removing elements from a graph\n",
    "\n",
    "One can remove nodes and edges from the graph in a similar fashion to adding. Use methods `Graph.remove_node()`, `Graph.remove_nodes_from()`, `Graph.remove_edge()` and `Graph.remove_edges_from()`, e.g."
   ]
  },
  {
   "cell_type": "code",
   "execution_count": null,
   "id": "91554364-401b-4ff2-bb0b-78413e3a9b8e",
   "metadata": {},
   "outputs": [],
   "source": [
    "G.remove_node(2)\n",
    "\n",
    "G.remove_nodes_from(\"spam\")\n",
    "\n",
    "list(G.nodes)"
   ]
  },
  {
   "cell_type": "code",
   "execution_count": null,
   "id": "a1459ff8-3041-4f88-b5dd-b2d477a5b993",
   "metadata": {},
   "outputs": [],
   "source": [
    "G.remove_edge(1, 3)"
   ]
  },
  {
   "cell_type": "markdown",
   "id": "858d98e5-466f-47b9-a23b-531d297e5d14",
   "metadata": {},
   "source": [
    "## Using the graph constructors\n",
    "\n",
    "Graph objects do not have to be built up incrementally - data specifying graph structure can be passed directly to the constructors of the various graph classes. When creating a graph structure by instantiating one of the graph classes you can specify data in several formats."
   ]
  },
  {
   "cell_type": "code",
   "execution_count": null,
   "id": "33d7930e-831d-4da3-abcd-aaea753e74ad",
   "metadata": {},
   "outputs": [],
   "source": [
    "G.add_edge(1, 2)\n",
    "\n",
    "H = nx.DiGraph(G)   # create a DiGraph using the connections from G\n",
    "list(H.edges())"
   ]
  },
  {
   "cell_type": "code",
   "execution_count": null,
   "id": "124bcb5e-80d8-421d-b879-7f113c994195",
   "metadata": {},
   "outputs": [],
   "source": [
    "edgelist = [(0, 1), (1, 2), (2, 3)]\n",
    "H = nx.Graph(edgelist)"
   ]
  },
  {
   "cell_type": "markdown",
   "id": "defef7e2-45fb-4389-aa43-a69e37a349bc",
   "metadata": {},
   "source": [
    "## What to use as nodes and edges\n",
    "\n",
    "You might notice that nodes and edges are not specified as NetworkX objects. This leaves you free to **use meaningful items as nodes and edges**. The most common choices are **numbers or strings**, but a node can be **any hashable object (except None)**, and an **edge can be associated with any object x using `G.add_edge(n1, n2, object=x)`**.\n",
    "\n",
    "As an example, `n1` and `n2` could be protein objects from the RCSB Protein Data Bank, and `x` could refer to an XML record of publications detailing experimental observations of their interaction.\n",
    "\n",
    "We have found this **power quite useful**, but its **abuse can lead to surprising behavior unless one is familiar with Python**. If in doubt, consider using convert_node_labels_to_integers() to obtain a more traditional graph with integer labels.\n"
   ]
  },
  {
   "cell_type": "markdown",
   "id": "63b5437e-cfb1-4559-98ae-3de01d5a8b1c",
   "metadata": {},
   "source": [
    "## Accessing edges and neighbors\n",
    "\n",
    "In addition to the views `Graph.edges`, and `Graph.adj`, access to edges and neighbors is possible using subscript notation."
   ]
  },
  {
   "cell_type": "code",
   "execution_count": null,
   "id": "490dc686-7d71-428c-9493-b0fe5cc2c41b",
   "metadata": {},
   "outputs": [],
   "source": [
    "G = nx.Graph([(1, 2, {\"color\": \"yellow\"})])\n",
    "\n",
    "G[1]  # same as G.adj[1]"
   ]
  },
  {
   "cell_type": "code",
   "execution_count": null,
   "id": "6fb53185-75ba-4865-9307-28dfd4ff2cc6",
   "metadata": {},
   "outputs": [],
   "source": [
    "G[1][2]"
   ]
  },
  {
   "cell_type": "code",
   "execution_count": null,
   "id": "2067ed8c-da4e-487d-8164-7e15fd7ea5e3",
   "metadata": {},
   "outputs": [],
   "source": [
    "G.edges[1, 2]"
   ]
  },
  {
   "cell_type": "markdown",
   "id": "496315ae-bbe5-4723-aaf8-9b8d769e233c",
   "metadata": {},
   "source": [
    "You can get/set the attributes of an edge using subscript notation if the edge already exists."
   ]
  },
  {
   "cell_type": "code",
   "execution_count": null,
   "id": "b69f8dcb-c7ce-4173-8ee3-6f6f3080a971",
   "metadata": {},
   "outputs": [],
   "source": [
    "G.add_edge(1, 3)\n",
    "G[1][3]['color'] = \"blue\"\n",
    "G.edges[1, 2]['color'] = \"red\"\n",
    "G.edges[1, 2]"
   ]
  },
  {
   "cell_type": "markdown",
   "id": "736449ed-1673-40c1-9f65-2ec2ce2d1e87",
   "metadata": {},
   "source": [
    "Fast examination of all (node, adjacency) pairs is achieved using `G.adjacency()`, or `G.adj.items()`. Note that for undirected graphs, adjacency iteration sees each edge twice."
   ]
  },
  {
   "cell_type": "code",
   "execution_count": null,
   "id": "0a39a91c-37d6-45e2-8d03-3c008b3e55be",
   "metadata": {},
   "outputs": [],
   "source": [
    "FG = nx.Graph()\n",
    "FG.add_weighted_edges_from([(1, 2, 0.125), (1, 3, 0.75), (2, 4, 1.2), (3, 4, 0.375)])\n",
    "for n, nbrs in FG.adj.items():\n",
    "   for nbr, eattr in nbrs.items():\n",
    "       wt = eattr['weight']\n",
    "       if wt < 0.5: print(f\"({n}, {nbr}, {wt:.3})\")"
   ]
  },
  {
   "cell_type": "markdown",
   "id": "94ac0a2a-e47c-42f1-b1a2-1218372f23c9",
   "metadata": {},
   "source": [
    "Convenient access to all edges is achieved with the edges property."
   ]
  },
  {
   "cell_type": "code",
   "execution_count": null,
   "id": "cd7018ac-7754-4f16-8f06-fbe78f172064",
   "metadata": {},
   "outputs": [],
   "source": [
    "for (u, v, wt) in FG.edges.data('weight'):\n",
    "    if wt < 0.5:\n",
    "        print(f\"({u}, {v}, {wt:.3})\")"
   ]
  },
  {
   "cell_type": "markdown",
   "id": "8155df9c-66ed-406d-a2ab-e1cc01213b79",
   "metadata": {},
   "source": [
    "## Adding attributes to graphs, nodes, and edges\n",
    "\n",
    "Attributes such as weights, labels, colors, or whatever Python object you like, can be attached to graphs, nodes, or edges.\n",
    "\n",
    "Each graph, node, and edge can hold key/value attribute pairs in an associated attribute dictionary (the keys must be hashable). By default these are empty, but attributes can be added or changed using `add_edge`, `add_node` or direct manipulation of the attribute dictionaries named `G.graph`, `G.nodes`, and `G.edges` for a graph `G`."
   ]
  },
  {
   "cell_type": "markdown",
   "id": "ea6336a7-0804-4d35-9dee-c6cbbab0db82",
   "metadata": {},
   "source": [
    "### Graph attributes\n",
    "\n",
    "Assign graph attributes when creating a new graph"
   ]
  },
  {
   "cell_type": "code",
   "execution_count": null,
   "id": "caf3923f-0107-4dbd-9e16-c9d10610fa7a",
   "metadata": {},
   "outputs": [],
   "source": [
    "G = nx.Graph(day=\"Friday\")\n",
    "G.graph"
   ]
  },
  {
   "cell_type": "markdown",
   "id": "9c6f5752-08e3-4914-a4d4-ea253009f764",
   "metadata": {},
   "source": [
    "Or you can modify attributes later"
   ]
  },
  {
   "cell_type": "code",
   "execution_count": null,
   "id": "6f1348b2-c5c9-4610-9f11-2d667d46018b",
   "metadata": {},
   "outputs": [],
   "source": [
    "G.graph['day'] = \"Monday\"\n",
    "G.graph"
   ]
  },
  {
   "cell_type": "markdown",
   "id": "42c1c7e1-3f5d-4170-9e2c-c729421487c3",
   "metadata": {},
   "source": [
    "### Node attributes\n",
    "\n",
    "Add node attributes using `add_node()`, `add_nodes_from()`, or `G.nodes`"
   ]
  },
  {
   "cell_type": "code",
   "execution_count": null,
   "id": "13be8293-7976-4073-a6ad-44c7acdc7b91",
   "metadata": {},
   "outputs": [],
   "source": [
    "G.add_node(1, time='5pm')\n",
    "G.add_nodes_from([3], time='2pm')\n",
    "G.nodes[1]"
   ]
  },
  {
   "cell_type": "code",
   "execution_count": null,
   "id": "68405082-5e2a-471f-a474-d39d75a78894",
   "metadata": {},
   "outputs": [],
   "source": [
    "G.nodes[1]['room'] = 714\n",
    "G.nodes.data()"
   ]
  },
  {
   "cell_type": "markdown",
   "id": "5b7da9e7-acfc-45e9-a32c-7a2778ccf7aa",
   "metadata": {},
   "source": [
    "Note that adding a node to `G.nodes` does not add it to the graph, use `G.add_node()` to add new nodes. Similarly for edges."
   ]
  },
  {
   "cell_type": "markdown",
   "id": "9b82f5ff-fec0-42d2-9050-a7ef38d45325",
   "metadata": {},
   "source": [
    "### Edge Attributes\n",
    "\n",
    "Add/change edge attributes using `add_edge()`, `add_edges_from()`, or subscript notation."
   ]
  },
  {
   "cell_type": "code",
   "execution_count": null,
   "id": "997214b3-5cac-4c7c-abab-164e4b6f5e49",
   "metadata": {},
   "outputs": [],
   "source": [
    "G.add_edge(1, 2, weight=4.7 )\n",
    "G.add_edges_from([(3, 4), (4, 5)], color='red')\n",
    "G.add_edges_from([(1, 2, {'color': 'blue'}), (2, 3, {'weight': 8})])\n",
    "G[1][2]['weight'] = 4.7\n",
    "G.edges[3, 4]['weight'] = 4.2"
   ]
  },
  {
   "cell_type": "markdown",
   "id": "b767e1ca-922c-4d2a-a42e-cf7203f37ef7",
   "metadata": {},
   "source": [
    "The special attribute `weight` should be numeric as it is used by algorithms requiring weighted edges."
   ]
  },
  {
   "cell_type": "markdown",
   "id": "520c8a39-bfc6-41b6-bce0-809599e14772",
   "metadata": {},
   "source": [
    "## Directed graphs\n",
    "\n",
    "The `DiGraph` class provides additional methods and properties specific to directed edges, e.g., `DiGraph.out_edges`, `DiGraph.in_degree`, `DiGraph.predecessors()`, `DiGraph.successors()` etc. To allow algorithms to work with both classes easily, the directed versions of `neighbors()` is equivalent to `successors()` while `degree` reports the sum of `in_degree` and `out_degree` even though that may feel inconsistent at times."
   ]
  },
  {
   "cell_type": "code",
   "execution_count": null,
   "id": "afa6431f-5f3c-4770-b7db-8c83cc80620e",
   "metadata": {},
   "outputs": [],
   "source": [
    "DG = nx.DiGraph()\n",
    "DG.add_weighted_edges_from([(1, 2, 0.5), (3, 1, 0.75)])\n",
    "DG.out_degree(1, weight='weight')"
   ]
  },
  {
   "cell_type": "code",
   "execution_count": null,
   "id": "89d7e175-1dfd-4ff1-a427-c662bb8c3f91",
   "metadata": {},
   "outputs": [],
   "source": [
    "DG.degree(1, weight='weight')"
   ]
  },
  {
   "cell_type": "code",
   "execution_count": null,
   "id": "24fee458-8783-496c-bfad-0efaf74c8ad7",
   "metadata": {},
   "outputs": [],
   "source": [
    "list(DG.successors(1))"
   ]
  },
  {
   "cell_type": "code",
   "execution_count": null,
   "id": "dd0f9c75-0eee-41ff-94fc-f8910ebf096a",
   "metadata": {},
   "outputs": [],
   "source": [
    "list(DG.neighbors(1))"
   ]
  },
  {
   "cell_type": "markdown",
   "id": "f4c2f5cf-fb2b-4785-9bb9-4633cd4c93f4",
   "metadata": {},
   "source": [
    "Some algorithms work only for directed graphs and others are not well defined for directed graphs. Indeed the tendency to lump directed and undirected graphs together is dangerous. If you want to treat a directed graph as undirected for some measurement you should probably convert it using `Graph.to_undirected()` or with"
   ]
  },
  {
   "cell_type": "code",
   "execution_count": null,
   "id": "f278d09d-9c82-49f8-b5c4-2cdff938e376",
   "metadata": {},
   "outputs": [],
   "source": [
    "H = nx.Graph(G)  # create an undirected graph H from a directed graph G"
   ]
  },
  {
   "cell_type": "markdown",
   "id": "1b737345-8fa0-41e2-9e07-aee0b4696d8f",
   "metadata": {},
   "source": [
    "## Multigraphs\n",
    "\n",
    "NetworkX provides classes for graphs which allow **multiple edges between any pair of nodes**. The `MultiGraph` and `MultiDiGraph` classes allow you to add the same edge twice, possibly with different edge data. This can be powerful for some applications, but many algorithms are not well defined on such graphs. Where results are well defined, e.g., `MultiGraph.degree()` we provide the function. Otherwise you should convert to a standard graph in a way that makes the measurement well defined."
   ]
  },
  {
   "cell_type": "code",
   "execution_count": null,
   "id": "dc8635a2-af3d-4aa6-9ab6-7dd0faa8a925",
   "metadata": {},
   "outputs": [],
   "source": [
    "MG = nx.MultiGraph()\n",
    "MG.add_weighted_edges_from([(1, 2, 0.5), (1, 2, 0.75), (2, 3, 0.5)])\n",
    "dict(MG.degree(weight='weight'))"
   ]
  },
  {
   "cell_type": "code",
   "execution_count": null,
   "id": "0303a1f7-8aa5-4b5d-baff-94997a7a342b",
   "metadata": {},
   "outputs": [],
   "source": [
    "GG = nx.Graph()\n",
    "for n, nbrs in MG.adjacency():\n",
    "   for nbr, edict in nbrs.items():\n",
    "       minvalue = min([d['weight'] for d in edict.values()])\n",
    "       GG.add_edge(n, nbr, weight = minvalue)\n",
    "\n",
    "nx.shortest_path(GG, 1, 3)"
   ]
  },
  {
   "cell_type": "markdown",
   "id": "2571c982-96e4-4da2-95ff-d1f4a237d034",
   "metadata": {},
   "source": [
    "## Graph generators and graph operations\n",
    "\n",
    "In addition to constructing graphs node-by-node or edge-by-edge, they can also be generated by\n",
    "\n",
    "### Applying classic graph operations, such as:\n",
    "- `subgraph(G, nbunch)` Returns the subgraph induced on nodes in nbunch.\n",
    "- `union(G, H[, rename, name])` Return the union of graphs G and H.\n",
    "- `disjoint_union(G, H)` Return the disjoint union of graphs G and H.\n",
    "- `cartesian_product(G, H)` Returns the Cartesian product of G and H.\n",
    "- `compose(G, H)` Returns a new graph of G composed with H.\n",
    "- `complement(G)` Returns the graph complement of G.\n",
    "- `create_empty_copy(G[, with_data])` Returns a copy of the graph G with all of the edges removed.\n",
    "- `to_undirected(graph)` Returns an undirected view of the graph graph.\n",
    "- `to_directed(graph)` Returns a directed view of the graph graph.\n",
    "\n",
    "### Using a call to one of the classic small graphs, e.g.,\n",
    "\n",
    "- `petersen_graph([create_using])` Returns the Petersen graph.\n",
    "- `tutte_graph([create_using])` Returns the Tutte graph.\n",
    "- `sedgewick_maze_graph([create_using])` Return a small maze with a cycle.\n",
    "- `tetrahedral_graph([create_using])` Return the 3-regular Platonic Tetrahedral gra\n",
    "\n",
    "### Using a (constructive) generator for a classic graph, e.g.,\n",
    "- `complete_graph(n[, create_using])` Return the complete graph K_n with n nodes.\n",
    "- `complete_bipartite_graph(n1, n2[, create_using])` Returns the complete bipartite graph K_{n_1,n_2}.\n",
    "- `barbell_graph(m1, m2[, create_using])` Returns the Barbell Graph: two complete graphs connected by a path.\n",
    "- `lollipop_graph(m, n[, create_using])` Returns the Lollipop Graph; K_m connected to P_n."
   ]
  },
  {
   "cell_type": "code",
   "execution_count": null,
   "id": "9ccf7f76-54c4-44dc-b55e-f10298f108ed",
   "metadata": {},
   "outputs": [],
   "source": [
    "K_5 = nx.complete_graph(5)\n",
    "K_3_5 = nx.complete_bipartite_graph(3, 5)\n",
    "barbell = nx.barbell_graph(10, 10)\n",
    "lollipop = nx.lollipop_graph(10, 20)"
   ]
  },
  {
   "cell_type": "markdown",
   "id": "eaad0bf4-29e8-4f8e-9a1b-0efc66155b7e",
   "metadata": {},
   "source": [
    "### Using a stochastic graph generator, e.g,\n",
    "- `erdos_renyi_graph(n, p[, seed, directed])` Returns a random graph, also known as an Erdős-Rényi graph or a binomial graph.\n",
    "- `watts_strogatz_graph(n, k, p[, seed])` Returns a Watts–Strogatz small-world graph.\n",
    "- `barabasi_albert_graph(n, m[, seed, …])` Returns a random graph using Barabási–Albert preferential attachment\n",
    "- `random_lobster(n, p1, p2[, seed])` Returns a random lobster graph."
   ]
  },
  {
   "cell_type": "code",
   "execution_count": null,
   "id": "5aedbe81-4450-46a0-82a4-86d7af524519",
   "metadata": {},
   "outputs": [],
   "source": [
    "er = nx.erdos_renyi_graph(100, 0.15)\n",
    "ws = nx.watts_strogatz_graph(30, 3, 0.1)\n",
    "ba = nx.barabasi_albert_graph(100, 5)\n",
    "red = nx.random_lobster(100, 0.9, 0.9)"
   ]
  },
  {
   "cell_type": "markdown",
   "id": "a97754b4-2e9c-405b-93af-405253737a69",
   "metadata": {},
   "source": [
    "### Reading a graph stored in a file using common graph formats\n",
    "such as edge lists, adjacency lists, GML, GraphML, pickle, LEDA and others.\n",
    "\n",
    "```\n",
    "nx.write_gml(red, \"path.to.file\")\n",
    "mygraph = nx.read_gml(\"path.to.file\")\n",
    "```"
   ]
  },
  {
   "cell_type": "markdown",
   "id": "a590c316-fdc0-4ae0-909a-cf21d842fa8e",
   "metadata": {},
   "source": [
    "For details on graph formats see [Reading and writing graphs](https://networkx.org/documentation/stable/reference/readwrite/index.html) and for graph generator functions see [Graph generators](https://networkx.org/documentation/stable/reference/generators.html)."
   ]
  },
  {
   "cell_type": "markdown",
   "id": "f36b24cc-1d85-44bd-921c-291ff5273f75",
   "metadata": {},
   "source": [
    "## Analyzing graphs\n",
    "The structure of `G` can be analyzed using various graph-theoretic functions such as:"
   ]
  },
  {
   "cell_type": "code",
   "execution_count": null,
   "id": "457e708e-1477-4b59-96ec-9b51872a7af6",
   "metadata": {},
   "outputs": [],
   "source": [
    "G = nx.Graph()\n",
    "G.add_edges_from([(1, 2), (1, 3)])\n",
    "G.add_node(\"spam\")       # adds node \"spam\"\n",
    "list(nx.connected_components(G))"
   ]
  },
  {
   "cell_type": "code",
   "execution_count": null,
   "id": "aeb8cfd6-1f59-4e14-94ae-d9c8240f1bc8",
   "metadata": {},
   "outputs": [],
   "source": [
    "sorted(d for n, d in G.degree())"
   ]
  },
  {
   "cell_type": "code",
   "execution_count": null,
   "id": "009ea6d4-03a2-4d29-9776-f8570b74702b",
   "metadata": {},
   "outputs": [],
   "source": [
    "nx.clustering(G)"
   ]
  },
  {
   "cell_type": "markdown",
   "id": "f51125c6-d1ad-4682-9b56-8b91516c4975",
   "metadata": {},
   "source": [
    "Some functions with large output iterate over `(node, value)` 2-tuples. These are easily stored in a `dict` structure if you desire."
   ]
  },
  {
   "cell_type": "code",
   "execution_count": null,
   "id": "00aea5ad-2193-4b61-b518-090dd23e6fc0",
   "metadata": {},
   "outputs": [],
   "source": [
    "sp = dict(nx.all_pairs_shortest_path(G))\n",
    "sp[3]"
   ]
  },
  {
   "cell_type": "markdown",
   "id": "9c6697bc-c5bb-463c-a555-bfd77c9e147c",
   "metadata": {},
   "source": [
    "See [Algorithms](https://networkx.org/documentation/stable/reference/algorithms/index.html) for details on graph algorithms supported."
   ]
  },
  {
   "cell_type": "markdown",
   "id": "b96a7dfb-4792-49d9-a9e3-01635cceb4bc",
   "metadata": {},
   "source": [
    "## Drawing graphs\n",
    "\n",
    "NetworkX is not primarily a graph drawing package but **basic drawing with Matplotlib** as well as an interface to use the open source **Graphviz** software package are included. These are part of the `networkx.drawing` module and will be imported if possible."
   ]
  }
 ],
 "metadata": {
  "kernelspec": {
   "display_name": "networkx",
   "language": "python",
   "name": "networkx"
  },
  "language_info": {
   "codemirror_mode": {
    "name": "ipython",
    "version": 3
   },
   "file_extension": ".py",
   "mimetype": "text/x-python",
   "name": "python",
   "nbconvert_exporter": "python",
   "pygments_lexer": "ipython3",
   "version": "3.8.10"
  }
 },
 "nbformat": 4,
 "nbformat_minor": 5
}
