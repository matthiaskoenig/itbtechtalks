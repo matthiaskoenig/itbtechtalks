{
 "cells": [
  {
   "cell_type": "code",
   "execution_count": null,
   "metadata": {},
   "outputs": [],
   "source": []
  },
  {
   "cell_type": "markdown",
   "metadata": {},
   "source": [
    "# threads\n",
    "That''s all the code you need to successfully create and instantiate a thread in python."
   ]
  },
  {
   "cell_type": "code",
   "execution_count": 28,
   "metadata": {},
   "outputs": [
    {
     "name": "stdout",
     "output_type": "stream",
     "text": [
      "0\n",
      "1\n",
      "2\n",
      "3\n",
      "4\n",
      "5\n",
      "6\n",
      "7\n",
      "8\n",
      "9\n"
     ]
    }
   ],
   "source": [
    "import threading\n",
    "import time\n",
    "\n",
    "class Worker(threading.Thread):\n",
    "    # Our workers constructor, note the super() method which is vital if we want this\n",
    "    # to function properly\n",
    "    def __init__(self):\n",
    "        super(Worker, self).__init__()\n",
    "\n",
    "    def run(self):\n",
    "        for i in range(10):\n",
    "            print(i)\n",
    "            time.sleep(0.01)\n",
    "        \n",
    "def main():\n",
    "    # This initializes ''thread1'' as an instance of our Worker Thread\n",
    "    thread1 = Worker()\n",
    "    # This is the code needed to run our newly created thread\n",
    "    thread1.start()\n",
    "\n",
    "main()"
   ]
  },
  {
   "cell_type": "code",
   "execution_count": 29,
   "metadata": {},
   "outputs": [
    {
     "name": "stdout",
     "output_type": "stream",
     "text": [
      "0\n",
      "0\n",
      "0\n",
      "1\n",
      "1\n",
      "1\n",
      "2\n",
      "2\n",
      "2\n",
      "3\n",
      "3\n",
      "3\n",
      "4\n",
      "4\n",
      "4\n",
      "5\n",
      "5\n",
      "5\n",
      "6\n",
      "6\n",
      "6\n",
      "7\n",
      "7\n",
      "7\n",
      "8\n",
      "8\n",
      "8\n",
      "9\n",
      "9\n",
      "9\n"
     ]
    }
   ],
   "source": [
    "thread1 = Worker()\n",
    "thread2 = Worker()\n",
    "thread3 = Worker()\n",
    "thread1.start()\n",
    "thread2.start()\n",
    "thread3.start()"
   ]
  },
  {
   "cell_type": "markdown",
   "metadata": {},
   "source": [
    "## Problems with global interpreter lock (GIL)"
   ]
  },
  {
   "cell_type": "code",
   "execution_count": 42,
   "metadata": {},
   "outputs": [],
   "source": [
    "import threading\n",
    "import time\n",
    "import math\n",
    "\n",
    "class FactorialWorker(threading.Thread):\n",
    "    # Our workers constructor, note the super() method which is vital if we want this\n",
    "    # to function properly\n",
    "    def __init__(self):\n",
    "        super(FactorialWorker, self).__init__()\n",
    "\n",
    "    def run(self):\n",
    "        res = math.factorial(1500000)\n",
    "        \n",
    "        \n",
    "thread1 = FactorialWorker()\n",
    "thread1.start()"
   ]
  },
  {
   "cell_type": "code",
   "execution_count": 43,
   "metadata": {},
   "outputs": [],
   "source": [
    "thread1 = Worker()\n",
    "thread2 = Worker()\n",
    "thread3 = Worker()\n",
    "thread1.start()\n",
    "thread2.start()\n",
    "thread3.start()"
   ]
  },
  {
   "cell_type": "markdown",
   "metadata": {},
   "source": [
    "# multiprocessing\n",
    "## Threads vs. Processes"
   ]
  },
  {
   "cell_type": "code",
   "execution_count": 44,
   "metadata": {},
   "outputs": [
    {
     "name": "stdout",
     "output_type": "stream",
     "text": [
      "Worker: 0\n",
      "Worker: 1\n",
      "Worker: 2\n",
      "Worker: 3\n",
      "Worker: 4\n"
     ]
    }
   ],
   "source": [
    "import multiprocessing\n",
    "\n",
    "def worker(num):\n",
    "    \"\"\"thread worker function\"\"\"\n",
    "    print('Worker:', num)\n",
    "    res = math.factorial(1500000)\n",
    "    return\n",
    "\n",
    "if __name__ == '__main__':\n",
    "    jobs = []\n",
    "    for i in range(5):\n",
    "        p = multiprocessing.Process(target=worker, args=(i,))\n",
    "        jobs.append(p)\n",
    "        p.start()"
   ]
  },
  {
   "cell_type": "markdown",
   "metadata": {},
   "source": [
    "Each Process instance has a name with a default value that can be changed as the process is created. Naming processes is useful for keeping track of them, especially in applications with multiple types of processes running simultaneously."
   ]
  },
  {
   "cell_type": "code",
   "execution_count": 5,
   "metadata": {},
   "outputs": [
    {
     "name": "stdout",
     "output_type": "stream",
     "text": [
      "worker 1 Starting\n",
      "Process-8 Starting\n",
      "my_service Starting\n",
      "worker 1 Exiting\n",
      "Process-8 Exiting\n",
      "my_service Exiting\n"
     ]
    }
   ],
   "source": [
    "import multiprocessing\n",
    "import time\n",
    "\n",
    "def worker():\n",
    "    name = multiprocessing.current_process().name\n",
    "    print(name, 'Starting')\n",
    "    time.sleep(2)\n",
    "    print(name, 'Exiting')\n",
    "\n",
    "def my_service():\n",
    "    name = multiprocessing.current_process().name\n",
    "    print(name, 'Starting')\n",
    "    time.sleep(3)\n",
    "    print(name, 'Exiting')\n",
    "\n",
    "if __name__ == '__main__':\n",
    "    service = multiprocessing.Process(name='my_service', target=my_service)\n",
    "    worker_1 = multiprocessing.Process(name='worker 1', target=worker)\n",
    "    worker_2 = multiprocessing.Process(target=worker) # use default name\n",
    "\n",
    "    worker_1.start()\n",
    "    worker_2.start()\n",
    "    service.start()"
   ]
  },
  {
   "cell_type": "markdown",
   "metadata": {},
   "source": [
    "## Daemon processes"
   ]
  },
  {
   "cell_type": "markdown",
   "metadata": {},
   "source": [
    "## Waiting for processes\n",
    "To wait until a process has completed its work and exited, use the `join()` method."
   ]
  },
  {
   "cell_type": "code",
   "execution_count": 7,
   "metadata": {},
   "outputs": [
    {
     "name": "stdout",
     "output_type": "stream",
     "text": [
      "5 doubled to 10 by process id: 22470\n",
      "10 doubled to 20 by process id: 22473\n",
      "15 doubled to 30 by process id: 22474\n",
      "20 doubled to 40 by process id: 22477\n",
      "25 doubled to 50 by process id: 22482\n"
     ]
    }
   ],
   "source": [
    "import os\n",
    " \n",
    "from multiprocessing import Process\n",
    " \n",
    "def doubler(number):\n",
    "    \"\"\"\n",
    "    A doubling function that can be used by a process\n",
    "    \"\"\"\n",
    "    result = number * 2\n",
    "    proc = os.getpid()\n",
    "    print('{0} doubled to {1} by process id: {2}'.format(\n",
    "        number, result, proc))\n",
    " \n",
    "if __name__ == '__main__':\n",
    "    numbers = [5, 10, 15, 20, 25]\n",
    "    procs = []\n",
    " \n",
    "    for index, number in enumerate(numbers):\n",
    "        proc = Process(target=doubler, args=(number,))\n",
    "        procs.append(proc)\n",
    "        proc.start()\n",
    " \n",
    "    for proc in procs:\n",
    "        proc.join()"
   ]
  },
  {
   "cell_type": "markdown",
   "metadata": {},
   "source": [
    "## Locks\n",
    "The multiprocessing module supports locks in much the same way as the threading module does. All you need to do is import Lock, acquire it, do something and release it. Let’s take a look:"
   ]
  },
  {
   "cell_type": "code",
   "execution_count": 13,
   "metadata": {},
   "outputs": [
    {
     "name": "stdout",
     "output_type": "stream",
     "text": [
      "tangotangotangotangotangotangotango\n",
      "foxtrotfoxtrotfoxtrotfoxtrotfoxtrot\n",
      "10\n"
     ]
    }
   ],
   "source": [
    "from multiprocessing import Process, Lock\n",
    " \n",
    "def printer(item, lock):\n",
    "    \"\"\"\n",
    "    Prints out the item that was passed in\n",
    "    \"\"\"\n",
    "    print(item)\n",
    " \n",
    "if __name__ == '__main__':\n",
    "    lock = Lock()\n",
    "    items = ['tangotangotangotangotangotangotango', 'foxtrotfoxtrotfoxtrotfoxtrotfoxtrot', 10]\n",
    "    for item in items:\n",
    "        p = Process(target=printer, args=(item, lock))\n",
    "        p.start()"
   ]
  },
  {
   "cell_type": "code",
   "execution_count": 9,
   "metadata": {},
   "outputs": [
    {
     "name": "stdout",
     "output_type": "stream",
     "text": [
      "tango\n",
      "foxtrot\n",
      "10\n"
     ]
    }
   ],
   "source": [
    "from multiprocessing import Process, Lock\n",
    " \n",
    "def printer(item, lock):\n",
    "    \"\"\"\n",
    "    Prints out the item that was passed in\n",
    "    \"\"\"\n",
    "    lock.acquire()\n",
    "    try:\n",
    "        print(item)\n",
    "    finally:\n",
    "        lock.release()\n",
    " \n",
    "if __name__ == '__main__':\n",
    "    lock = Lock()\n",
    "    items = ['tango', 'foxtrot', 10]\n",
    "    for item in items:\n",
    "        p = Process(target=printer, args=(item, lock))\n",
    "        p.start()"
   ]
  },
  {
   "cell_type": "markdown",
   "metadata": {},
   "source": [
    "## Pool class\n",
    "The Pool class is used to represent a **pool of worker processes**. It has methods which can allow you to offload tasks to the worker processes. Let’s look at a really simple example:"
   ]
  },
  {
   "cell_type": "code",
   "execution_count": 15,
   "metadata": {},
   "outputs": [
    {
     "name": "stdout",
     "output_type": "stream",
     "text": [
      "[10, 20, 40]\n"
     ]
    }
   ],
   "source": [
    "from multiprocessing import Pool\n",
    " \n",
    "def doubler(number):\n",
    "    return number * 2\n",
    " \n",
    "if __name__ == '__main__':\n",
    "    numbers = [5, 10, 20]\n",
    "    pool = Pool(processes=3)\n",
    "    print(pool.map(doubler, numbers))"
   ]
  },
  {
   "cell_type": "markdown",
   "metadata": {},
   "source": [
    "## Process Communication"
   ]
  },
  {
   "cell_type": "code",
   "execution_count": 17,
   "metadata": {},
   "outputs": [
    {
     "name": "stdout",
     "output_type": "stream",
     "text": [
      "Creating data and putting it on the queue\n",
      "data found to be processed: 5\n",
      "10\n",
      "data found to be processed: 10\n",
      "20\n",
      "data found to be processed: 13\n",
      "26\n",
      "data found to be processed: -1\n",
      "-2\n"
     ]
    }
   ],
   "source": [
    "from multiprocessing import Process, Queue\n",
    " \n",
    "sentinel = -1\n",
    " \n",
    "def creator(data, q):\n",
    "    \"\"\"\n",
    "    Creates data to be consumed and waits for the consumer\n",
    "    to finish processing\n",
    "    \"\"\"\n",
    "    print('Creating data and putting it on the queue')\n",
    "    for item in data:\n",
    " \n",
    "        q.put(item)\n",
    " \n",
    " \n",
    "def my_consumer(q):\n",
    "    \"\"\"\n",
    "    Consumes some data and works on it\n",
    " \n",
    "    In this case, all it does is double the input\n",
    "    \"\"\"\n",
    "    while True:\n",
    "        data = q.get()\n",
    "        print('data found to be processed: {}'.format(data))\n",
    "        processed = data * 2\n",
    "        print(processed)\n",
    " \n",
    "        if data is sentinel:\n",
    "            break\n",
    " \n",
    " \n",
    "if __name__ == '__main__':\n",
    "    q = Queue()\n",
    "    data = [5, 10, 13, -1]\n",
    "    process_one = Process(target=creator, args=(data, q))\n",
    "    process_two = Process(target=my_consumer, args=(q,))\n",
    "    process_one.start()\n",
    "    process_two.start()\n",
    " \n",
    "    q.close()\n",
    "    q.join_thread()\n",
    " \n",
    "    process_one.join()\n",
    "    process_two.join()"
   ]
  },
  {
   "cell_type": "markdown",
   "metadata": {},
   "source": [
    "## Wrapping Up\n",
    "We have a lot of material here. \n",
    "You have learned how to use the multiprocessing module to target regular functions, communicate between processes using Queues, naming threads and much more. There is also a lot more in the Python documentation that isn’t even touched in this article, so be sure to dive into that as well. In the meantime, you now know how to utilize all your computer’s processing power with Python!"
   ]
  },
  {
   "cell_type": "code",
   "execution_count": null,
   "metadata": {},
   "outputs": [],
   "source": []
  }
 ],
 "metadata": {
  "kernelspec": {
   "display_name": "multiprocessing",
   "language": "python",
   "name": "multiprocessing"
  },
  "language_info": {
   "codemirror_mode": {
    "name": "ipython",
    "version": 3
   },
   "file_extension": ".py",
   "mimetype": "text/x-python",
   "name": "python",
   "nbconvert_exporter": "python",
   "pygments_lexer": "ipython3",
   "version": "3.6.3"
  }
 },
 "nbformat": 4,
 "nbformat_minor": 2
}
