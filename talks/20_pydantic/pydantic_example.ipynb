{
 "cells": [
  {
   "cell_type": "markdown",
   "id": "78458e12-f59e-4165-98f9-82502a02533e",
   "metadata": {},
   "source": [
    "# Pydantic - data validation using python type annotations\n",
    "\n",
    "Introductory tutorial to `pydantic` based on the documentation at [https://pydantic-docs.helpmanual.io/](https://pydantic-docs.helpmanual.io/)."
   ]
  },
  {
   "cell_type": "markdown",
   "id": "e5718939-83d4-4b23-944e-ee9f53957ca6",
   "metadata": {},
   "source": [
    "## Example\n",
    "Definition of pydantic classes by inheriting from `BaseModel`"
   ]
  },
  {
   "cell_type": "code",
   "execution_count": 1,
   "id": "c913dbd0-9a32-4238-853a-19824bd0005c",
   "metadata": {
    "collapsed": true,
    "jupyter": {
     "outputs_hidden": true
    }
   },
   "outputs": [],
   "source": [
    "from datetime import datetime\n",
    "from typing import List, Optional\n",
    "from pydantic import BaseModel\n",
    "from rich.jupyter import print\n",
    "\n",
    "\n",
    "class User(BaseModel):\n",
    "    id: int\n",
    "    name = 'John Doe'\n",
    "    signup_ts: Optional[datetime] = None\n",
    "    friends: List[int] = []\n",
    "\n",
    "\n",
    "external_data = {\n",
    "    'id': '123',\n",
    "    'signup_ts': '2019-06-01 12:22',\n",
    "    'friends': [1, 2, '3'],\n",
    "}"
   ]
  },
  {
   "cell_type": "markdown",
   "id": "87d2a15d-f514-4d29-9dde-93a2e49cac0b",
   "metadata": {},
   "source": [
    "What's going on here:\n",
    "\n",
    "- `id` is of type int; the annotation-only declaration tells pydantic that this field is required. Strings, bytes or floats will be coerced to ints if possible; otherwise an exception will be raised.\n",
    "- `name` is inferred as a string from the provided default; because it has a default, it is not required.\n",
    "\n",
    "- `signup_ts` is a datetime field which is not required (and takes the value None if it's not supplied). pydantic will process either a unix timestamp int (e.g. 1496498400) or a string representing the date & time.\n",
    "\n",
    "- `friends` uses python's typing system, and requires a list of integers. As with id, integer-like objects will be converted to integers."
   ]
  },
  {
   "cell_type": "markdown",
   "id": "fbe2c691-6c72-4a1b-86ed-e7b22bc7ca42",
   "metadata": {},
   "source": [
    "### Parse and validate external data\n",
    "If validation fails pydantic will raise an error with a breakdown of what was wrong:"
   ]
  },
  {
   "cell_type": "code",
   "execution_count": 2,
   "id": "be414fa6-b658-43d4-942f-3791b90505ca",
   "metadata": {
    "collapsed": true,
    "jupyter": {
     "outputs_hidden": true
    }
   },
   "outputs": [
    {
     "data": {
      "text/html": [
       "<pre style=\"white-space:pre;overflow-x:auto;line-height:normal;font-family:Menlo,'DejaVu Sans Mono',consolas,'Courier New',monospace\"><span style=\"color: #008080; text-decoration-color: #008080; font-weight: bold\">123</span>\n",
       "</pre>\n"
      ],
      "text/plain": [
       "\u001b[1;36m123\u001b[0m\n"
      ]
     },
     "metadata": {},
     "output_type": "display_data"
    }
   ],
   "source": [
    "user = User(**external_data)\n",
    "print(user.id)"
   ]
  },
  {
   "cell_type": "code",
   "execution_count": 3,
   "id": "3dc0a312-f4b9-4db4-a7bb-9402486a824f",
   "metadata": {
    "collapsed": true,
    "jupyter": {
     "outputs_hidden": true
    }
   },
   "outputs": [
    {
     "data": {
      "text/html": [
       "<pre style=\"white-space:pre;overflow-x:auto;line-height:normal;font-family:Menlo,'DejaVu Sans Mono',consolas,'Courier New',monospace\"><span style=\"color: #800080; text-decoration-color: #800080; font-weight: bold\">datetime.datetime</span><span style=\"font-weight: bold\">(</span><span style=\"color: #008080; text-decoration-color: #008080; font-weight: bold\">2019</span>, <span style=\"color: #008080; text-decoration-color: #008080; font-weight: bold\">6</span>, <span style=\"color: #008080; text-decoration-color: #008080; font-weight: bold\">1</span>, <span style=\"color: #008080; text-decoration-color: #008080; font-weight: bold\">12</span>, <span style=\"color: #008080; text-decoration-color: #008080; font-weight: bold\">22</span><span style=\"font-weight: bold\">)</span>\n",
       "</pre>\n"
      ],
      "text/plain": [
       "\u001b[1;35mdatetime.datetime\u001b[0m\u001b[1m(\u001b[0m\u001b[1;36m2019\u001b[0m, \u001b[1;36m6\u001b[0m, \u001b[1;36m1\u001b[0m, \u001b[1;36m12\u001b[0m, \u001b[1;36m22\u001b[0m\u001b[1m)\u001b[0m\n"
      ]
     },
     "metadata": {},
     "output_type": "display_data"
    }
   ],
   "source": [
    "print(repr(user.signup_ts))"
   ]
  },
  {
   "cell_type": "code",
   "execution_count": 4,
   "id": "b4246efe-8c7b-44f1-8bcb-2c36b7625561",
   "metadata": {
    "collapsed": true,
    "jupyter": {
     "outputs_hidden": true
    }
   },
   "outputs": [
    {
     "data": {
      "text/html": [
       "<pre style=\"white-space:pre;overflow-x:auto;line-height:normal;font-family:Menlo,'DejaVu Sans Mono',consolas,'Courier New',monospace\"><span style=\"font-weight: bold\">[</span><span style=\"color: #008080; text-decoration-color: #008080; font-weight: bold\">1</span>, <span style=\"color: #008080; text-decoration-color: #008080; font-weight: bold\">2</span>, <span style=\"color: #008080; text-decoration-color: #008080; font-weight: bold\">3</span><span style=\"font-weight: bold\">]</span>\n",
       "</pre>\n"
      ],
      "text/plain": [
       "\u001b[1m[\u001b[0m\u001b[1;36m1\u001b[0m, \u001b[1;36m2\u001b[0m, \u001b[1;36m3\u001b[0m\u001b[1m]\u001b[0m\n"
      ]
     },
     "metadata": {},
     "output_type": "display_data"
    }
   ],
   "source": [
    "print(user.friends)"
   ]
  },
  {
   "cell_type": "code",
   "execution_count": 5,
   "id": "b894db16-4afd-4d74-bc5f-05aed23ee843",
   "metadata": {
    "collapsed": true,
    "jupyter": {
     "outputs_hidden": true
    }
   },
   "outputs": [
    {
     "data": {
      "text/html": [
       "<pre style=\"white-space:pre;overflow-x:auto;line-height:normal;font-family:Menlo,'DejaVu Sans Mono',consolas,'Courier New',monospace\"><span style=\"font-weight: bold\">{</span>\n",
       "    <span style=\"color: #008000; text-decoration-color: #008000\">'id'</span>: <span style=\"color: #008080; text-decoration-color: #008080; font-weight: bold\">123</span>,\n",
       "    <span style=\"color: #008000; text-decoration-color: #008000\">'signup_ts'</span>: <span style=\"color: #800080; text-decoration-color: #800080; font-weight: bold\">datetime.datetime</span><span style=\"font-weight: bold\">(</span><span style=\"color: #008080; text-decoration-color: #008080; font-weight: bold\">2019</span>, <span style=\"color: #008080; text-decoration-color: #008080; font-weight: bold\">6</span>, <span style=\"color: #008080; text-decoration-color: #008080; font-weight: bold\">1</span>, <span style=\"color: #008080; text-decoration-color: #008080; font-weight: bold\">12</span>, <span style=\"color: #008080; text-decoration-color: #008080; font-weight: bold\">22</span><span style=\"font-weight: bold\">)</span>,\n",
       "    <span style=\"color: #008000; text-decoration-color: #008000\">'friends'</span>: <span style=\"font-weight: bold\">[</span><span style=\"color: #008080; text-decoration-color: #008080; font-weight: bold\">1</span>, <span style=\"color: #008080; text-decoration-color: #008080; font-weight: bold\">2</span>, <span style=\"color: #008080; text-decoration-color: #008080; font-weight: bold\">3</span><span style=\"font-weight: bold\">]</span>,\n",
       "    <span style=\"color: #008000; text-decoration-color: #008000\">'name'</span>: <span style=\"color: #008000; text-decoration-color: #008000\">'John Doe'</span>\n",
       "<span style=\"font-weight: bold\">}</span>\n",
       "</pre>\n"
      ],
      "text/plain": [
       "\u001b[1m{\u001b[0m\n",
       "    \u001b[32m'id'\u001b[0m: \u001b[1;36m123\u001b[0m,\n",
       "    \u001b[32m'signup_ts'\u001b[0m: \u001b[1;35mdatetime.datetime\u001b[0m\u001b[1m(\u001b[0m\u001b[1;36m2019\u001b[0m, \u001b[1;36m6\u001b[0m, \u001b[1;36m1\u001b[0m, \u001b[1;36m12\u001b[0m, \u001b[1;36m22\u001b[0m\u001b[1m)\u001b[0m,\n",
       "    \u001b[32m'friends'\u001b[0m: \u001b[1m[\u001b[0m\u001b[1;36m1\u001b[0m, \u001b[1;36m2\u001b[0m, \u001b[1;36m3\u001b[0m\u001b[1m]\u001b[0m,\n",
       "    \u001b[32m'name'\u001b[0m: \u001b[32m'John Doe'\u001b[0m\n",
       "\u001b[1m}\u001b[0m\n"
      ]
     },
     "metadata": {},
     "output_type": "display_data"
    }
   ],
   "source": [
    "print(user.dict())"
   ]
  },
  {
   "cell_type": "markdown",
   "id": "a4708325-6d2d-44ce-98b8-265a6ab06187",
   "metadata": {},
   "source": [
    "## Data validatation\n",
    "Pydantic comes with internal validation providing high level warnings. Custom validation function can be implemented."
   ]
  },
  {
   "cell_type": "code",
   "execution_count": 6,
   "id": "cb597d9d-cb57-43b5-96d7-fc14177a5ee6",
   "metadata": {
    "collapsed": true,
    "jupyter": {
     "outputs_hidden": true
    }
   },
   "outputs": [
    {
     "data": {
      "text/html": [
       "<pre style=\"white-space:pre;overflow-x:auto;line-height:normal;font-family:Menlo,'DejaVu Sans Mono',consolas,'Courier New',monospace\"><span style=\"font-weight: bold\">[</span>\n",
       "  <span style=\"font-weight: bold\">{</span>\n",
       "    <span style=\"color: #008000; text-decoration-color: #008000\">\"loc\"</span>: <span style=\"font-weight: bold\">[</span>\n",
       "      <span style=\"color: #008000; text-decoration-color: #008000\">\"id\"</span>\n",
       "    <span style=\"font-weight: bold\">]</span>,\n",
       "    <span style=\"color: #008000; text-decoration-color: #008000\">\"msg\"</span>: <span style=\"color: #008000; text-decoration-color: #008000\">\"field required\"</span>,\n",
       "    <span style=\"color: #008000; text-decoration-color: #008000\">\"type\"</span>: <span style=\"color: #008000; text-decoration-color: #008000\">\"value_error.missing\"</span>\n",
       "  <span style=\"font-weight: bold\">}</span>,\n",
       "  <span style=\"font-weight: bold\">{</span>\n",
       "    <span style=\"color: #008000; text-decoration-color: #008000\">\"loc\"</span>: <span style=\"font-weight: bold\">[</span>\n",
       "      <span style=\"color: #008000; text-decoration-color: #008000\">\"signup_ts\"</span>\n",
       "    <span style=\"font-weight: bold\">]</span>,\n",
       "    <span style=\"color: #008000; text-decoration-color: #008000\">\"msg\"</span>: <span style=\"color: #008000; text-decoration-color: #008000\">\"invalid datetime format\"</span>,\n",
       "    <span style=\"color: #008000; text-decoration-color: #008000\">\"type\"</span>: <span style=\"color: #008000; text-decoration-color: #008000\">\"value_error.datetime\"</span>\n",
       "  <span style=\"font-weight: bold\">}</span>,\n",
       "  <span style=\"font-weight: bold\">{</span>\n",
       "    <span style=\"color: #008000; text-decoration-color: #008000\">\"loc\"</span>: <span style=\"font-weight: bold\">[</span>\n",
       "      <span style=\"color: #008000; text-decoration-color: #008000\">\"friends\"</span>,\n",
       "      <span style=\"color: #008080; text-decoration-color: #008080; font-weight: bold\">2</span>\n",
       "    <span style=\"font-weight: bold\">]</span>,\n",
       "    <span style=\"color: #008000; text-decoration-color: #008000\">\"msg\"</span>: <span style=\"color: #008000; text-decoration-color: #008000\">\"value is not a valid integer\"</span>,\n",
       "    <span style=\"color: #008000; text-decoration-color: #008000\">\"type\"</span>: <span style=\"color: #008000; text-decoration-color: #008000\">\"type_error.integer\"</span>\n",
       "  <span style=\"font-weight: bold\">}</span>\n",
       "<span style=\"font-weight: bold\">]</span>\n",
       "</pre>\n"
      ],
      "text/plain": [
       "\u001b[1m[\u001b[0m\n",
       "  \u001b[1m{\u001b[0m\n",
       "    \u001b[32m\"loc\"\u001b[0m: \u001b[1m[\u001b[0m\n",
       "      \u001b[32m\"id\"\u001b[0m\n",
       "    \u001b[1m]\u001b[0m,\n",
       "    \u001b[32m\"msg\"\u001b[0m: \u001b[32m\"field required\"\u001b[0m,\n",
       "    \u001b[32m\"type\"\u001b[0m: \u001b[32m\"value_error.missing\"\u001b[0m\n",
       "  \u001b[1m}\u001b[0m,\n",
       "  \u001b[1m{\u001b[0m\n",
       "    \u001b[32m\"loc\"\u001b[0m: \u001b[1m[\u001b[0m\n",
       "      \u001b[32m\"signup_ts\"\u001b[0m\n",
       "    \u001b[1m]\u001b[0m,\n",
       "    \u001b[32m\"msg\"\u001b[0m: \u001b[32m\"invalid datetime format\"\u001b[0m,\n",
       "    \u001b[32m\"type\"\u001b[0m: \u001b[32m\"value_error.datetime\"\u001b[0m\n",
       "  \u001b[1m}\u001b[0m,\n",
       "  \u001b[1m{\u001b[0m\n",
       "    \u001b[32m\"loc\"\u001b[0m: \u001b[1m[\u001b[0m\n",
       "      \u001b[32m\"friends\"\u001b[0m,\n",
       "      \u001b[1;36m2\u001b[0m\n",
       "    \u001b[1m]\u001b[0m,\n",
       "    \u001b[32m\"msg\"\u001b[0m: \u001b[32m\"value is not a valid integer\"\u001b[0m,\n",
       "    \u001b[32m\"type\"\u001b[0m: \u001b[32m\"type_error.integer\"\u001b[0m\n",
       "  \u001b[1m}\u001b[0m\n",
       "\u001b[1m]\u001b[0m\n"
      ]
     },
     "metadata": {},
     "output_type": "display_data"
    }
   ],
   "source": [
    "from pydantic import ValidationError\n",
    "\n",
    "try:\n",
    "    User(signup_ts='broken', friends=[1, 2, 'not number'])\n",
    "except ValidationError as e:\n",
    "    print(e.json())"
   ]
  },
  {
   "cell_type": "markdown",
   "id": "77577bc2-fd5e-419d-afc6-6ba6e4b639eb",
   "metadata": {},
   "source": [
    "## JSON schema\n",
    "Pydantic allows auto creation of JSON Schemas from models:"
   ]
  },
  {
   "cell_type": "code",
   "execution_count": 7,
   "id": "bf0945a7-6947-474d-81f3-b4ff1342018d",
   "metadata": {
    "collapsed": true,
    "jupyter": {
     "outputs_hidden": true
    }
   },
   "outputs": [
    {
     "data": {
      "text/html": [
       "<pre style=\"white-space:pre;overflow-x:auto;line-height:normal;font-family:Menlo,'DejaVu Sans Mono',consolas,'Courier New',monospace\"><span style=\"font-weight: bold\">{</span>\n",
       "  <span style=\"color: #008000; text-decoration-color: #008000\">\"title\"</span>: <span style=\"color: #008000; text-decoration-color: #008000\">\"User\"</span>,\n",
       "  <span style=\"color: #008000; text-decoration-color: #008000\">\"type\"</span>: <span style=\"color: #008000; text-decoration-color: #008000\">\"object\"</span>,\n",
       "  <span style=\"color: #008000; text-decoration-color: #008000\">\"properties\"</span>: <span style=\"font-weight: bold\">{</span>\n",
       "    <span style=\"color: #008000; text-decoration-color: #008000\">\"id\"</span>: <span style=\"font-weight: bold\">{</span>\n",
       "      <span style=\"color: #008000; text-decoration-color: #008000\">\"title\"</span>: <span style=\"color: #008000; text-decoration-color: #008000\">\"Id\"</span>,\n",
       "      <span style=\"color: #008000; text-decoration-color: #008000\">\"type\"</span>: <span style=\"color: #008000; text-decoration-color: #008000\">\"integer\"</span>\n",
       "    <span style=\"font-weight: bold\">}</span>,\n",
       "    <span style=\"color: #008000; text-decoration-color: #008000\">\"signup_ts\"</span>: <span style=\"font-weight: bold\">{</span>\n",
       "      <span style=\"color: #008000; text-decoration-color: #008000\">\"title\"</span>: <span style=\"color: #008000; text-decoration-color: #008000\">\"Signup Ts\"</span>,\n",
       "      <span style=\"color: #008000; text-decoration-color: #008000\">\"type\"</span>: <span style=\"color: #008000; text-decoration-color: #008000\">\"string\"</span>,\n",
       "      <span style=\"color: #008000; text-decoration-color: #008000\">\"format\"</span>: <span style=\"color: #008000; text-decoration-color: #008000\">\"date-time\"</span>\n",
       "    <span style=\"font-weight: bold\">}</span>,\n",
       "    <span style=\"color: #008000; text-decoration-color: #008000\">\"friends\"</span>: <span style=\"font-weight: bold\">{</span>\n",
       "      <span style=\"color: #008000; text-decoration-color: #008000\">\"title\"</span>: <span style=\"color: #008000; text-decoration-color: #008000\">\"Friends\"</span>,\n",
       "      <span style=\"color: #008000; text-decoration-color: #008000\">\"default\"</span>: <span style=\"font-weight: bold\">[]</span>,\n",
       "      <span style=\"color: #008000; text-decoration-color: #008000\">\"type\"</span>: <span style=\"color: #008000; text-decoration-color: #008000\">\"array\"</span>,\n",
       "      <span style=\"color: #008000; text-decoration-color: #008000\">\"items\"</span>: <span style=\"font-weight: bold\">{</span>\n",
       "        <span style=\"color: #008000; text-decoration-color: #008000\">\"type\"</span>: <span style=\"color: #008000; text-decoration-color: #008000\">\"integer\"</span>\n",
       "      <span style=\"font-weight: bold\">}</span>\n",
       "    <span style=\"font-weight: bold\">}</span>,\n",
       "    <span style=\"color: #008000; text-decoration-color: #008000\">\"name\"</span>: <span style=\"font-weight: bold\">{</span>\n",
       "      <span style=\"color: #008000; text-decoration-color: #008000\">\"title\"</span>: <span style=\"color: #008000; text-decoration-color: #008000\">\"Name\"</span>,\n",
       "      <span style=\"color: #008000; text-decoration-color: #008000\">\"default\"</span>: <span style=\"color: #008000; text-decoration-color: #008000\">\"John Doe\"</span>,\n",
       "      <span style=\"color: #008000; text-decoration-color: #008000\">\"type\"</span>: <span style=\"color: #008000; text-decoration-color: #008000\">\"string\"</span>\n",
       "    <span style=\"font-weight: bold\">}</span>\n",
       "  <span style=\"font-weight: bold\">}</span>,\n",
       "  <span style=\"color: #008000; text-decoration-color: #008000\">\"required\"</span>: <span style=\"font-weight: bold\">[</span>\n",
       "    <span style=\"color: #008000; text-decoration-color: #008000\">\"id\"</span>\n",
       "  <span style=\"font-weight: bold\">]</span>\n",
       "<span style=\"font-weight: bold\">}</span>\n",
       "</pre>\n"
      ],
      "text/plain": [
       "\u001b[1m{\u001b[0m\n",
       "  \u001b[32m\"title\"\u001b[0m: \u001b[32m\"User\"\u001b[0m,\n",
       "  \u001b[32m\"type\"\u001b[0m: \u001b[32m\"object\"\u001b[0m,\n",
       "  \u001b[32m\"properties\"\u001b[0m: \u001b[1m{\u001b[0m\n",
       "    \u001b[32m\"id\"\u001b[0m: \u001b[1m{\u001b[0m\n",
       "      \u001b[32m\"title\"\u001b[0m: \u001b[32m\"Id\"\u001b[0m,\n",
       "      \u001b[32m\"type\"\u001b[0m: \u001b[32m\"integer\"\u001b[0m\n",
       "    \u001b[1m}\u001b[0m,\n",
       "    \u001b[32m\"signup_ts\"\u001b[0m: \u001b[1m{\u001b[0m\n",
       "      \u001b[32m\"title\"\u001b[0m: \u001b[32m\"Signup Ts\"\u001b[0m,\n",
       "      \u001b[32m\"type\"\u001b[0m: \u001b[32m\"string\"\u001b[0m,\n",
       "      \u001b[32m\"format\"\u001b[0m: \u001b[32m\"date-time\"\u001b[0m\n",
       "    \u001b[1m}\u001b[0m,\n",
       "    \u001b[32m\"friends\"\u001b[0m: \u001b[1m{\u001b[0m\n",
       "      \u001b[32m\"title\"\u001b[0m: \u001b[32m\"Friends\"\u001b[0m,\n",
       "      \u001b[32m\"default\"\u001b[0m: \u001b[1m[\u001b[0m\u001b[1m]\u001b[0m,\n",
       "      \u001b[32m\"type\"\u001b[0m: \u001b[32m\"array\"\u001b[0m,\n",
       "      \u001b[32m\"items\"\u001b[0m: \u001b[1m{\u001b[0m\n",
       "        \u001b[32m\"type\"\u001b[0m: \u001b[32m\"integer\"\u001b[0m\n",
       "      \u001b[1m}\u001b[0m\n",
       "    \u001b[1m}\u001b[0m,\n",
       "    \u001b[32m\"name\"\u001b[0m: \u001b[1m{\u001b[0m\n",
       "      \u001b[32m\"title\"\u001b[0m: \u001b[32m\"Name\"\u001b[0m,\n",
       "      \u001b[32m\"default\"\u001b[0m: \u001b[32m\"John Doe\"\u001b[0m,\n",
       "      \u001b[32m\"type\"\u001b[0m: \u001b[32m\"string\"\u001b[0m\n",
       "    \u001b[1m}\u001b[0m\n",
       "  \u001b[1m}\u001b[0m,\n",
       "  \u001b[32m\"required\"\u001b[0m: \u001b[1m[\u001b[0m\n",
       "    \u001b[32m\"id\"\u001b[0m\n",
       "  \u001b[1m]\u001b[0m\n",
       "\u001b[1m}\u001b[0m\n"
      ]
     },
     "metadata": {},
     "output_type": "display_data"
    }
   ],
   "source": [
    "print(User.schema_json(indent=2))"
   ]
  },
  {
   "cell_type": "code",
   "execution_count": null,
   "id": "ee31aad8-5dd7-40c3-90e4-80686de7316e",
   "metadata": {
    "collapsed": true,
    "jupyter": {
     "outputs_hidden": true
    },
    "tags": []
   },
   "outputs": [],
   "source": []
  }
 ],
 "metadata": {
  "kernelspec": {
   "display_name": "pydantic",
   "language": "python",
   "name": "pydantic"
  },
  "language_info": {
   "codemirror_mode": {
    "name": "ipython",
    "version": 3
   },
   "file_extension": ".py",
   "mimetype": "text/x-python",
   "name": "python",
   "nbconvert_exporter": "python",
   "pygments_lexer": "ipython3",
   "version": "3.8.10"
  }
 },
 "nbformat": 4,
 "nbformat_minor": 5
}
