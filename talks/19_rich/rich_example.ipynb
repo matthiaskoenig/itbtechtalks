{
 "cells": [
  {
   "cell_type": "markdown",
   "id": "78458e12-f59e-4165-98f9-82502a02533e",
   "metadata": {},
   "source": [
    "# Rich - writing rich text (with color and style)\n",
    "\n",
    "Introductory tutorial to `rich based` based on the documentation at [https://rich.readthedocs.io/en/stable/](https://rich.readthedocs.io/en/stable/).\n"
   ]
  },
  {
   "cell_type": "code",
   "execution_count": null,
   "id": "1e3fac43-2828-482e-8117-1001ad59f4c8",
   "metadata": {},
   "outputs": [],
   "source": [
    "%load_ext rich\n",
    "import rich"
   ]
  },
  {
   "cell_type": "markdown",
   "id": "8fafd373-fad3-4d7b-924c-358188f608e0",
   "metadata": {},
   "source": [
    "## Quick start\n",
    "The quickest way to get up and running with Rich is to import the alternative `print` function which takes the same arguments as the built-in print and may be used as a drop-in replacement. Here’s how you would do that:"
   ]
  },
  {
   "cell_type": "code",
   "execution_count": null,
   "id": "40452168-5e63-4a40-b925-4a66cc85d41c",
   "metadata": {},
   "outputs": [],
   "source": [
    "from rich import print"
   ]
  },
  {
   "cell_type": "markdown",
   "id": "4caede69-a241-420a-92c1-3433883df0a7",
   "metadata": {},
   "source": [
    "You can then print strings or objects to the terminal in the usual way. Rich will do some basic syntax highlighting and format data structures to make them easier to read.\n",
    "\n",
    "Strings may contain **Console Markup** which can be used to **insert color and styles** in to the output.\n",
    "\n",
    "The following demonstrates both **console markup** and **pretty formatting** of Python objects:"
   ]
  },
  {
   "cell_type": "code",
   "execution_count": null,
   "id": "2724498c-271f-4347-ab71-f3479cd4f1a1",
   "metadata": {},
   "outputs": [],
   "source": [
    "print(\"[italic red]Hello[/italic red] World!\")"
   ]
  },
  {
   "cell_type": "code",
   "execution_count": null,
   "id": "c89c8433-f578-4a29-b76e-37827fc329a9",
   "metadata": {},
   "outputs": [],
   "source": [
    "print(locals())"
   ]
  },
  {
   "cell_type": "markdown",
   "id": "c0e72cf5-1459-49af-9331-628d378515a9",
   "metadata": {},
   "source": [
    "## Inspect\n",
    "Rich has an `inspect()` function which can generate a report on any Python object. It is a fantastic debug aid, and a good example of the output that Rich can generate. Here is a simple example:"
   ]
  },
  {
   "cell_type": "code",
   "execution_count": null,
   "id": "1bec596b-a4c5-4e19-bac4-76714c3e1148",
   "metadata": {},
   "outputs": [],
   "source": [
    "from rich import inspect\n",
    "from rich.color import Color\n",
    "color = Color.parse(\"red\")\n",
    "inspect(color, methods=True)"
   ]
  },
  {
   "cell_type": "markdown",
   "id": "3de05071-f128-45c1-8361-eaee057fef98",
   "metadata": {},
   "source": [
    "## Console API\n",
    "For complete control over terminal formatting, Rich offers a `Console` class. Most applications will require a single Console instance, so you may want to create one at the module level or as an attribute of your top-level object. \n",
    "\n",
    "The console object handles the mechanics of generating ANSI escape sequences for color and style. It will auto-detect the capabilities of the terminal and convert colors if necessary."
   ]
  },
  {
   "cell_type": "code",
   "execution_count": null,
   "id": "de97b1f9-fca4-410b-bb5a-67d04d665a97",
   "metadata": {},
   "outputs": [],
   "source": [
    "from rich.console import Console\n",
    "console = Console()"
   ]
  },
  {
   "cell_type": "markdown",
   "id": "016d2498-f5e9-4f02-9aea-c960b5ac6059",
   "metadata": {},
   "source": [
    "### Printing\n",
    "To write rich content to the terminal use the `print()` method. Rich will\n",
    "- convert any object to a string via its (__str__) method.\n",
    "- perform some simple syntax highlighting.\n",
    "- pretty printing of any containers, such as dicts and lists. \n",
    "- render Console Markup. \n",
    "\n",
    "Here are some examples:"
   ]
  },
  {
   "cell_type": "code",
   "execution_count": null,
   "id": "55b6f1a7-e94e-4b07-88a0-91d856d56a55",
   "metadata": {},
   "outputs": [],
   "source": [
    "console.print([1, 2, 3])\n",
    "console.print(\"[blue underline]Looks like a link\")\n",
    "console.print(\"FOO\", style=\"white on blue\")\n",
    "console.print({\"apples\": 10, \"oranges\": 15, \"tomatos\": 0})"
   ]
  },
  {
   "cell_type": "markdown",
   "id": "d7f98816-cda8-435f-b931-572d4c7ad10c",
   "metadata": {},
   "source": [
    "### Logging\n",
    "The `log()` methods offers the same capabilities as print, but adds some features useful for **debugging a running application**. Logging writes the current time in a column to the left, and the file and line where the method was called to a column on the right. Here’s an example:"
   ]
  },
  {
   "cell_type": "code",
   "execution_count": null,
   "id": "68b26ba1-a53f-4ee4-9237-5eaeb2ac73ec",
   "metadata": {},
   "outputs": [],
   "source": [
    "console.log(\"Hello, World!\")"
   ]
  },
  {
   "cell_type": "markdown",
   "id": "8a23fe99-0657-4a80-91f4-1bbef3260f9f",
   "metadata": {},
   "source": [
    "To help with debugging, the `log()` method has a `log_locals` parameter. If you set this to True, Rich will display a table of local variables where the method was called."
   ]
  },
  {
   "cell_type": "code",
   "execution_count": null,
   "id": "f6cb7c4d-f248-40a4-9598-5361dea1e170",
   "metadata": {
    "tags": []
   },
   "outputs": [],
   "source": [
    "console.log(\"Hello, World!\", log_locals=True)"
   ]
  },
  {
   "cell_type": "markdown",
   "id": "ec846078-4c11-4104-b56f-b8044c758f9f",
   "metadata": {},
   "source": [
    "### Rules\n",
    "The `rule()` method will draw a horizontal line with an optional title, which is a good way of dividing your terminal output in to sections.\n",
    "\n",
    "The rule method also accepts a `style` parameter to set the style of the line, and an align parameter to align the title (`left`, `center`, or `right`)."
   ]
  },
  {
   "cell_type": "code",
   "execution_count": null,
   "id": "8bf559f9-d2c1-4a57-b9a2-abe0ce86e3fe",
   "metadata": {},
   "outputs": [],
   "source": [
    "console.rule(\"[bold white on black ]Chapter 2\", style=\"black\")"
   ]
  },
  {
   "cell_type": "markdown",
   "id": "c7a3b4ee-07aa-41ee-934b-15c2316851c1",
   "metadata": {},
   "source": [
    "### Status\n",
    "Rich can display a status message with a ‘spinner’ animation that won’t interfere with regular console output. Run the following command for a demo of this feature:"
   ]
  },
  {
   "cell_type": "code",
   "execution_count": null,
   "id": "5a761028-bbe7-41e3-a903-3857f6f257d1",
   "metadata": {},
   "outputs": [],
   "source": [
    "!python -m rich.status"
   ]
  },
  {
   "cell_type": "markdown",
   "id": "4e96752c-60f1-439f-87c4-ca9d4aac1d43",
   "metadata": {},
   "source": [
    "To display a status message, call `status()` with the status message (which may be a string, Text, or other renderable). The result is a context manager which starts and stop the status display around a block of code. Here’s an example:"
   ]
  },
  {
   "cell_type": "code",
   "execution_count": null,
   "id": "c14afd41-da49-4a67-b1cd-d0ad2006cd73",
   "metadata": {},
   "outputs": [],
   "source": [
    "import time\n",
    "console.rule(\"Status example\", style=\"black\")\n",
    "with console.status(\"Working...\", spinner=\"aesthetic\"):\n",
    "    for k in range(5):\n",
    "        time.sleep(1)\n",
    "        console.log(f\"- iteration {k}\")\n",
    "console.rule(style=\"black\")"
   ]
  },
  {
   "cell_type": "markdown",
   "id": "9a20b3a6-91f0-41b9-aa8d-9a469ce911a7",
   "metadata": {},
   "source": [
    "### Justify / Alignment\n",
    "Both print and log support a `justify` argument which if set must be one of “default”, “left”, “right”, “center”, or “full”. If “left”, any text printed (or logged) will be left aligned, if “right” text will be aligned to the right of the terminal, if “center” the text will be centered, and if “full” the text will be lined up with both the left and right edges of the terminal (like printed text in a book).\n",
    "\n",
    "The default for `justify` is \"default\" which will generally look the same as \"left\" but with a subtle difference. Left justify will pad the right of the text with spaces, while a default justify will not. You will only notice the difference if you set a background color with the style argument. The following example demonstrates the difference:"
   ]
  },
  {
   "cell_type": "code",
   "execution_count": null,
   "id": "f541f4b2-ff7a-4496-95bf-e03b0c2a1b5e",
   "metadata": {},
   "outputs": [],
   "source": [
    "from rich.console import Console\n",
    "\n",
    "console = Console(width=20)\n",
    "\n",
    "style = \"bold white on blue\"\n",
    "console.print(\"Rich\", style=style)\n",
    "console.print(\"Rich\", style=style, justify=\"left\")\n",
    "console.print(\"Rich\", style=style, justify=\"center\")\n",
    "console.print(\"Rich\", style=style, justify=\"right\")"
   ]
  },
  {
   "cell_type": "markdown",
   "id": "b9028e01-29e8-45c2-bbdd-d85ddb6de262",
   "metadata": {},
   "source": [
    "### Style definition\n",
    "Ultimately the style definition is parsed and an instance of a Style class is created. If you prefer, you can use the Style class in place of the style definition. Here’s an example:"
   ]
  },
  {
   "cell_type": "code",
   "execution_count": null,
   "id": "dde60ea1-2c1b-4f75-bb9e-d4ad28626c29",
   "metadata": {},
   "outputs": [],
   "source": [
    "from rich.style import Style\n",
    "danger_style = Style(color=\"red\", bold=True)\n",
    "console.print(\"Danger, Will Robinson!\", style=danger_style)"
   ]
  },
  {
   "cell_type": "markdown",
   "id": "d40943eb-149d-4b49-b128-6c58298243f8",
   "metadata": {},
   "source": [
    "Styles may be combined by adding them together, which is useful if you want to modify attributes of an existing style. Here’s an example:"
   ]
  },
  {
   "cell_type": "code",
   "execution_count": null,
   "id": "1fbf374c-ec4b-4906-a684-00d755e6124f",
   "metadata": {},
   "outputs": [],
   "source": [
    "from rich.console import Console\n",
    "from rich.style import Style\n",
    "console = Console()\n",
    "\n",
    "base_style = Style.parse(\"cyan\")\n",
    "console.print(\"Hello, World\", style = base_style + Style(underline=True))"
   ]
  },
  {
   "cell_type": "markdown",
   "id": "c52a2e3d-50fa-45b2-bf3f-b22354d08a06",
   "metadata": {},
   "source": [
    "## Style Themes\n",
    "If you re-use styles it can be a maintenance headache if you ever want to modify an attribute or color – you would have to change every line where the style is used. Rich provides a `Theme` class which you can use to define custom styles that you can refer to by name. That way you only need update your styles in one place.\n",
    "\n",
    "Style themes can make your code more semantic, for instance a style called \"warning\" better expresses intent that \"italic magenta underline\".\n",
    "\n",
    "To use a style theme, construct a Theme instance and pass it to the Console constructor. Here’s an example:"
   ]
  },
  {
   "cell_type": "code",
   "execution_count": null,
   "id": "119840db-fe49-404a-9844-b21c68b8b6df",
   "metadata": {},
   "outputs": [],
   "source": [
    "from rich.console import Console\n",
    "from rich.theme import Theme\n",
    "custom_theme = Theme({\n",
    "    \"info\" : \"dim cyan\",\n",
    "    \"warning\": \"magenta\",\n",
    "    \"danger\": \"bold red\"\n",
    "})\n",
    "console = Console(theme=custom_theme)\n",
    "console.print(\"This is information\", style=\"info\")\n",
    "console.print(\"[warning]The pod bay doors are locked[/warning]\")\n",
    "console.print(\"Something terrible happened!\", style=\"danger\")"
   ]
  },
  {
   "cell_type": "markdown",
   "id": "53428cef-632d-4429-9f48-eefd43b8b58e",
   "metadata": {},
   "source": [
    "## Logging Handler\n",
    "Rich supplies a logging handler which will format and colorize text written by Python’s logging module.\n",
    "Here’s an example of how to set up a rich logger:"
   ]
  },
  {
   "cell_type": "code",
   "execution_count": null,
   "id": "046ebee8-83e5-4096-9d68-2a7d8891614d",
   "metadata": {},
   "outputs": [],
   "source": [
    "import logging\n",
    "from rich.logging import RichHandler\n",
    "\n",
    "FORMAT = \"%(message)s\"\n",
    "logging.basicConfig(\n",
    "    level=\"NOTSET\", format=FORMAT, datefmt=\"[%X]\", handlers=[RichHandler()]\n",
    ")\n",
    "\n",
    "log = logging.getLogger(\"rich\")\n",
    "log.info(\"Hello, World!\")"
   ]
  },
  {
   "cell_type": "markdown",
   "id": "13d8824e-2b75-4b1f-bbdd-1d889902faa0",
   "metadata": {},
   "source": [
    "### Markdown¶\n",
    "\n",
    "Rich can render Markdown to the console. To render markdown, construct a Markdown object then print it to the console. Markdown is a great way of adding rich content to your command line applications. Here’s an example of use:"
   ]
  },
  {
   "cell_type": "code",
   "execution_count": null,
   "id": "4de45709-fa64-4fcb-90cf-532999d05ebd",
   "metadata": {},
   "outputs": [],
   "source": [
    "MARKDOWN = \"\"\"\n",
    "# This is an h1\n",
    "\n",
    "Rich can do a pretty *decent* job of rendering markdown.\n",
    "\n",
    "1. This is a list item\n",
    "2. This is another list item\n",
    "\"\"\"\n",
    "from rich.console import Console\n",
    "from rich.markdown import Markdown\n",
    "\n",
    "console = Console()\n",
    "md = Markdown(MARKDOWN)\n",
    "console.print(md)"
   ]
  },
  {
   "cell_type": "markdown",
   "id": "68abcb81-7897-4177-a261-c8fbfae5095a",
   "metadata": {},
   "source": [
    "## Progress Display\n",
    "Rich can display continuously updated information regarding the progress of long running tasks / file copies etc. The information displayed is configurable, the default will display a description of the ‘task’, a progress bar, percentage complete, and estimated time remaining."
   ]
  },
  {
   "cell_type": "code",
   "execution_count": null,
   "id": "4332dfd7-d2cd-46c8-8017-808e8939bd87",
   "metadata": {},
   "outputs": [],
   "source": [
    "import time\n",
    "\n",
    "from rich.progress import Progress\n",
    "\n",
    "with Progress() as progress:\n",
    "\n",
    "    task1 = progress.add_task(\"[red]Downloading...\", total=1000)\n",
    "    task2 = progress.add_task(\"[green]Processing...\", total=1000)\n",
    "    task3 = progress.add_task(\"[cyan]Cooking...\", total=1000)\n",
    "\n",
    "    while not progress.finished:\n",
    "        progress.update(task1, advance=0.5)\n",
    "        progress.update(task2, advance=0.3)\n",
    "        progress.update(task3, advance=0.9)\n",
    "        time.sleep(0.001)"
   ]
  },
  {
   "cell_type": "markdown",
   "id": "ef487cc6-241e-4db6-be30-7cc98bddc2fb",
   "metadata": {},
   "source": [
    "## Tree\n",
    "Rich has a Tree class which can generate a tree view in the terminal. A tree view is a great way of presenting the contents of a filesystem or any other hierarchical data. Each branch of the tree can have a label which may be text or any other Rich renderable."
   ]
  },
  {
   "cell_type": "code",
   "execution_count": null,
   "id": "5c442bed-d95a-459f-b905-6d89a0b9dd26",
   "metadata": {},
   "outputs": [],
   "source": [
    "from rich.tree import Tree\n",
    "from rich import print\n",
    "\n",
    "tree = Tree(\"Rich Tree\")\n",
    "print(tree)"
   ]
  },
  {
   "cell_type": "code",
   "execution_count": null,
   "id": "e514658f-902f-4caf-93c7-15e5e608fad4",
   "metadata": {},
   "outputs": [],
   "source": [
    "tree.add(\"foo\")\n",
    "tree.add(\"bar\")\n",
    "print(tree)"
   ]
  },
  {
   "cell_type": "code",
   "execution_count": null,
   "id": "800860f9-3bbb-4b76-969e-a25c8f4c8432",
   "metadata": {},
   "outputs": [],
   "source": [
    "baz_tree = tree.add(\"baz\")\n",
    "baz_tree.add(\"[red]Red\").add(\"[green]Green\").add(\"[blue]Blue\")\n",
    "print(tree)"
   ]
  },
  {
   "cell_type": "markdown",
   "id": "7b2a5431-5e00-495a-9f5d-4f49eb35c032",
   "metadata": {},
   "source": [
    "## Table\n",
    "Rich’s Table class offers a variety of ways to render tabular data to the terminal.\n",
    "\n",
    "To render a table, construct a Table object, add columns with `add_column()`, and rows with `add_row()` – then print it to the console."
   ]
  },
  {
   "cell_type": "code",
   "execution_count": null,
   "id": "30098a08-043b-4b7e-8af5-c62cc797fc3a",
   "metadata": {},
   "outputs": [],
   "source": [
    "from rich.console import Console\n",
    "from rich.table import Table\n",
    "\n",
    "table = Table(title=\"Star Wars Movies\")\n",
    "\n",
    "table.add_column(\"Released\", justify=\"right\", style=\"cyan\", no_wrap=True)\n",
    "table.add_column(\"Title\", style=\"magenta\")\n",
    "table.add_column(\"Box Office\", justify=\"right\", style=\"green\")\n",
    "\n",
    "table.add_row(\"Dec 20, 2019\", \"Star Wars: The Rise of Skywalker\", \"$952,110,690\")\n",
    "table.add_row(\"May 25, 2018\", \"Solo: A Star Wars Story\", \"$393,151,347\")\n",
    "table.add_row(\"Dec 15, 2017\", \"Star Wars Ep. V111: The Last Jedi\", \"$1,332,539,889\")\n",
    "table.add_row(\"Dec 16, 2016\", \"Rogue One: A Star Wars Story\", \"$1,332,439,889\")\n",
    "\n",
    "console = Console()\n",
    "console.print(table)"
   ]
  },
  {
   "cell_type": "code",
   "execution_count": null,
   "id": "21f6e48f-17eb-4141-a7fd-cc5d2481fe7c",
   "metadata": {},
   "outputs": [],
   "source": []
  }
 ],
 "metadata": {
  "kernelspec": {
   "display_name": "rich",
   "language": "python",
   "name": "rich"
  },
  "language_info": {
   "codemirror_mode": {
    "name": "ipython",
    "version": 3
   },
   "file_extension": ".py",
   "mimetype": "text/x-python",
   "name": "python",
   "nbconvert_exporter": "python",
   "pygments_lexer": "ipython3",
   "version": "3.8.10"
  }
 },
 "nbformat": 4,
 "nbformat_minor": 5
}
