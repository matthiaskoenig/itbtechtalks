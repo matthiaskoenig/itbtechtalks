{
 "cells": [
  {
   "cell_type": "markdown",
   "id": "78458e12-f59e-4165-98f9-82502a02533e",
   "metadata": {},
   "source": [
    "# Rich - writing rich text (with color and style)\n",
    "\n",
    "Introductory tutorial to `rich based` based on the documentation at [https://rich.readthedocs.io/en/stable/](https://rich.readthedocs.io/en/stable/).\n"
   ]
  },
  {
   "cell_type": "code",
   "execution_count": 1,
   "id": "1e3fac43-2828-482e-8117-1001ad59f4c8",
   "metadata": {},
   "outputs": [],
   "source": [
    "%load_ext rich\n",
    "import rich"
   ]
  },
  {
   "cell_type": "markdown",
   "id": "8fafd373-fad3-4d7b-924c-358188f608e0",
   "metadata": {},
   "source": [
    "## Quick start\n",
    "The quickest way to get up and running with Rich is to import the alternative `print` function which takes the same arguments as the built-in print and may be used as a drop-in replacement. Here’s how you would do that:"
   ]
  },
  {
   "cell_type": "code",
   "execution_count": 2,
   "id": "40452168-5e63-4a40-b925-4a66cc85d41c",
   "metadata": {},
   "outputs": [],
   "source": [
    "from rich import print"
   ]
  },
  {
   "cell_type": "markdown",
   "id": "4caede69-a241-420a-92c1-3433883df0a7",
   "metadata": {},
   "source": [
    "You can then print strings or objects to the terminal in the usual way. Rich will do some basic syntax highlighting and format data structures to make them easier to read.\n",
    "\n",
    "Strings may contain **Console Markup** which can be used to **insert color and styles** in to the output.\n",
    "\n",
    "The following demonstrates both **console markup** and **pretty formatting** of Python objects:"
   ]
  },
  {
   "cell_type": "code",
   "execution_count": 3,
   "id": "2724498c-271f-4347-ab71-f3479cd4f1a1",
   "metadata": {},
   "outputs": [
    {
     "data": {
      "text/html": [
       "<pre style=\"white-space:pre;overflow-x:auto;line-height:normal;font-family:Menlo,'DejaVu Sans Mono',consolas,'Courier New',monospace\"><span style=\"color: #800000; text-decoration-color: #800000; font-style: italic\">Hello</span> World!\n",
       "</pre>\n"
      ],
      "text/plain": [
       "\u001b[3;31mHello\u001b[0m World!\n"
      ]
     },
     "metadata": {},
     "output_type": "display_data"
    }
   ],
   "source": [
    "print(\"[italic red]Hello[/italic red] World!\")"
   ]
  },
  {
   "cell_type": "code",
   "execution_count": 4,
   "id": "c89c8433-f578-4a29-b76e-37827fc329a9",
   "metadata": {},
   "outputs": [
    {
     "data": {
      "text/html": [
       "<pre style=\"white-space:pre;overflow-x:auto;line-height:normal;font-family:Menlo,'DejaVu Sans Mono',consolas,'Courier New',monospace\"><span style=\"font-weight: bold\">{</span>\n",
       "    <span style=\"color: #008000; text-decoration-color: #008000\">'__name__'</span>: <span style=\"color: #008000; text-decoration-color: #008000\">'__main__'</span>,\n",
       "    <span style=\"color: #008000; text-decoration-color: #008000\">'__doc__'</span>: <span style=\"color: #008000; text-decoration-color: #008000\">'Automatically created module for IPython interactive environment'</span>,\n",
       "    <span style=\"color: #008000; text-decoration-color: #008000\">'__package__'</span>: <span style=\"color: #800080; text-decoration-color: #800080; font-style: italic\">None</span>,\n",
       "    <span style=\"color: #008000; text-decoration-color: #008000\">'__loader__'</span>: <span style=\"color: #800080; text-decoration-color: #800080; font-style: italic\">None</span>,\n",
       "    <span style=\"color: #008000; text-decoration-color: #008000\">'__spec__'</span>: <span style=\"color: #800080; text-decoration-color: #800080; font-style: italic\">None</span>,\n",
       "    <span style=\"color: #008000; text-decoration-color: #008000\">'__builtin__'</span>: <span style=\"font-weight: bold\">&lt;</span><span style=\"color: #ff00ff; text-decoration-color: #ff00ff; font-weight: bold\">module</span><span style=\"color: #000000; text-decoration-color: #000000\"> </span><span style=\"color: #008000; text-decoration-color: #008000\">'builtins'</span><span style=\"color: #000000; text-decoration-color: #000000\"> </span><span style=\"color: #000000; text-decoration-color: #000000; font-weight: bold\">(</span><span style=\"color: #000000; text-decoration-color: #000000\">built-in</span><span style=\"color: #000000; text-decoration-color: #000000; font-weight: bold\">)</span><span style=\"font-weight: bold\">&gt;</span>,\n",
       "    <span style=\"color: #008000; text-decoration-color: #008000\">'__builtins__'</span>: <span style=\"font-weight: bold\">&lt;</span><span style=\"color: #ff00ff; text-decoration-color: #ff00ff; font-weight: bold\">module</span><span style=\"color: #000000; text-decoration-color: #000000\"> </span><span style=\"color: #008000; text-decoration-color: #008000\">'builtins'</span><span style=\"color: #000000; text-decoration-color: #000000\"> </span><span style=\"color: #000000; text-decoration-color: #000000; font-weight: bold\">(</span><span style=\"color: #000000; text-decoration-color: #000000\">built-in</span><span style=\"color: #000000; text-decoration-color: #000000; font-weight: bold\">)</span><span style=\"font-weight: bold\">&gt;</span>,\n",
       "    <span style=\"color: #008000; text-decoration-color: #008000\">'_ih'</span>: <span style=\"font-weight: bold\">[</span>\n",
       "        <span style=\"color: #008000; text-decoration-color: #008000\">''</span>,\n",
       "        <span style=\"color: #008000; text-decoration-color: #008000\">\"get_ipython().run_line_magic('load_ext', 'rich')\\nimport rich\"</span>,\n",
       "        <span style=\"color: #008000; text-decoration-color: #008000\">'from rich import print'</span>,\n",
       "        <span style=\"color: #008000; text-decoration-color: #008000\">'print(\"[italic red]Hello[/italic red] World!\")'</span>,\n",
       "        <span style=\"color: #008000; text-decoration-color: #008000\">'print(locals())'</span>\n",
       "    <span style=\"font-weight: bold\">]</span>,\n",
       "    <span style=\"color: #008000; text-decoration-color: #008000\">'_oh'</span>: <span style=\"font-weight: bold\">{}</span>,\n",
       "    <span style=\"color: #008000; text-decoration-color: #008000\">'_dh'</span>: <span style=\"font-weight: bold\">[</span><span style=\"color: #008000; text-decoration-color: #008000\">'/home/mkoenig/git/itbtechtalks/talks/19_rich'</span><span style=\"font-weight: bold\">]</span>,\n",
       "    <span style=\"color: #008000; text-decoration-color: #008000\">'In'</span>: <span style=\"font-weight: bold\">[</span>\n",
       "        <span style=\"color: #008000; text-decoration-color: #008000\">''</span>,\n",
       "        <span style=\"color: #008000; text-decoration-color: #008000\">\"get_ipython().run_line_magic('load_ext', 'rich')\\nimport rich\"</span>,\n",
       "        <span style=\"color: #008000; text-decoration-color: #008000\">'from rich import print'</span>,\n",
       "        <span style=\"color: #008000; text-decoration-color: #008000\">'print(\"[italic red]Hello[/italic red] World!\")'</span>,\n",
       "        <span style=\"color: #008000; text-decoration-color: #008000\">'print(locals())'</span>\n",
       "    <span style=\"font-weight: bold\">]</span>,\n",
       "    <span style=\"color: #008000; text-decoration-color: #008000\">'Out'</span>: <span style=\"font-weight: bold\">{}</span>,\n",
       "    <span style=\"color: #008000; text-decoration-color: #008000\">'get_ipython'</span>: <span style=\"font-weight: bold\">&lt;</span><span style=\"color: #ff00ff; text-decoration-color: #ff00ff; font-weight: bold\">bound</span><span style=\"color: #000000; text-decoration-color: #000000\"> method InteractiveShell.get_ipython of </span>\n",
       "<span style=\"color: #000000; text-decoration-color: #000000\">&lt;ipykernel.zmqshell.ZMQInteractiveShell object at </span><span style=\"color: #008080; text-decoration-color: #008080; font-weight: bold\">0x7f2c011f36a0</span><span style=\"font-weight: bold\">&gt;</span>&gt;,\n",
       "    <span style=\"color: #008000; text-decoration-color: #008000\">'exit'</span>: <span style=\"font-weight: bold\">&lt;</span><span style=\"color: #ff00ff; text-decoration-color: #ff00ff; font-weight: bold\">IPython.core.autocall.ZMQExitAutocall</span><span style=\"color: #000000; text-decoration-color: #000000\"> object at </span><span style=\"color: #008080; text-decoration-color: #008080; font-weight: bold\">0x7f2c00146370</span><span style=\"font-weight: bold\">&gt;</span>,\n",
       "    <span style=\"color: #008000; text-decoration-color: #008000\">'quit'</span>: <span style=\"font-weight: bold\">&lt;</span><span style=\"color: #ff00ff; text-decoration-color: #ff00ff; font-weight: bold\">IPython.core.autocall.ZMQExitAutocall</span><span style=\"color: #000000; text-decoration-color: #000000\"> object at </span><span style=\"color: #008080; text-decoration-color: #008080; font-weight: bold\">0x7f2c00146370</span><span style=\"font-weight: bold\">&gt;</span>,\n",
       "    <span style=\"color: #008000; text-decoration-color: #008000\">'_'</span>: <span style=\"color: #008000; text-decoration-color: #008000\">''</span>,\n",
       "    <span style=\"color: #008000; text-decoration-color: #008000\">'__'</span>: <span style=\"color: #008000; text-decoration-color: #008000\">''</span>,\n",
       "    <span style=\"color: #008000; text-decoration-color: #008000\">'___'</span>: <span style=\"color: #008000; text-decoration-color: #008000\">''</span>,\n",
       "    <span style=\"color: #008000; text-decoration-color: #008000\">'_i'</span>: <span style=\"color: #008000; text-decoration-color: #008000\">'print(\"[italic red]Hello[/italic red] World!\")'</span>,\n",
       "    <span style=\"color: #008000; text-decoration-color: #008000\">'_ii'</span>: <span style=\"color: #008000; text-decoration-color: #008000\">'from rich import print'</span>,\n",
       "    <span style=\"color: #008000; text-decoration-color: #008000\">'_iii'</span>: <span style=\"color: #008000; text-decoration-color: #008000\">'%load_ext rich\\nimport rich'</span>,\n",
       "    <span style=\"color: #008000; text-decoration-color: #008000\">'_i1'</span>: <span style=\"color: #008000; text-decoration-color: #008000\">'%load_ext rich\\nimport rich'</span>,\n",
       "    <span style=\"color: #008000; text-decoration-color: #008000\">'rich'</span>: <span style=\"font-weight: bold\">&lt;</span><span style=\"color: #ff00ff; text-decoration-color: #ff00ff; font-weight: bold\">module</span><span style=\"color: #000000; text-decoration-color: #000000\"> </span><span style=\"color: #008000; text-decoration-color: #008000\">'rich'</span><span style=\"color: #000000; text-decoration-color: #000000\"> from </span>\n",
       "<span style=\"color: #008000; text-decoration-color: #008000\">'/home/mkoenig/envs/rich/lib/python3.8/site-packages/rich/__init__.py'</span><span style=\"font-weight: bold\">&gt;</span>,\n",
       "    <span style=\"color: #008000; text-decoration-color: #008000\">'_i2'</span>: <span style=\"color: #008000; text-decoration-color: #008000\">'from rich import print'</span>,\n",
       "    <span style=\"color: #008000; text-decoration-color: #008000\">'print'</span>: <span style=\"font-weight: bold\">&lt;</span><span style=\"color: #ff00ff; text-decoration-color: #ff00ff; font-weight: bold\">function</span><span style=\"color: #000000; text-decoration-color: #000000\"> print at </span><span style=\"color: #008080; text-decoration-color: #008080; font-weight: bold\">0x7f2c0010f3a0</span><span style=\"font-weight: bold\">&gt;</span>,\n",
       "    <span style=\"color: #008000; text-decoration-color: #008000\">'_i3'</span>: <span style=\"color: #008000; text-decoration-color: #008000\">'print(\"[italic red]Hello[/italic red] World!\")'</span>,\n",
       "    <span style=\"color: #008000; text-decoration-color: #008000\">'_i4'</span>: <span style=\"color: #008000; text-decoration-color: #008000\">'print(locals())'</span>\n",
       "<span style=\"font-weight: bold\">}</span>\n",
       "</pre>\n"
      ],
      "text/plain": [
       "\u001b[1m{\u001b[0m\n",
       "    \u001b[32m'__name__'\u001b[0m: \u001b[32m'__main__'\u001b[0m,\n",
       "    \u001b[32m'__doc__'\u001b[0m: \u001b[32m'Automatically created module for IPython interactive environment'\u001b[0m,\n",
       "    \u001b[32m'__package__'\u001b[0m: \u001b[3;35mNone\u001b[0m,\n",
       "    \u001b[32m'__loader__'\u001b[0m: \u001b[3;35mNone\u001b[0m,\n",
       "    \u001b[32m'__spec__'\u001b[0m: \u001b[3;35mNone\u001b[0m,\n",
       "    \u001b[32m'__builtin__'\u001b[0m: \u001b[1m<\u001b[0m\u001b[1;95mmodule\u001b[0m\u001b[39m \u001b[0m\u001b[32m'builtins'\u001b[0m\u001b[39m \u001b[0m\u001b[1;39m(\u001b[0m\u001b[39mbuilt-in\u001b[0m\u001b[1;39m)\u001b[0m\u001b[1m>\u001b[0m,\n",
       "    \u001b[32m'__builtins__'\u001b[0m: \u001b[1m<\u001b[0m\u001b[1;95mmodule\u001b[0m\u001b[39m \u001b[0m\u001b[32m'builtins'\u001b[0m\u001b[39m \u001b[0m\u001b[1;39m(\u001b[0m\u001b[39mbuilt-in\u001b[0m\u001b[1;39m)\u001b[0m\u001b[1m>\u001b[0m,\n",
       "    \u001b[32m'_ih'\u001b[0m: \u001b[1m[\u001b[0m\n",
       "        \u001b[32m''\u001b[0m,\n",
       "        \u001b[32m\"get_ipython\u001b[0m\u001b[32m(\u001b[0m\u001b[32m)\u001b[0m\u001b[32m.run_line_magic\u001b[0m\u001b[32m(\u001b[0m\u001b[32m'load_ext', 'rich'\u001b[0m\u001b[32m)\u001b[0m\u001b[32m\\nimport rich\"\u001b[0m,\n",
       "        \u001b[32m'from rich import print'\u001b[0m,\n",
       "        \u001b[32m'print\u001b[0m\u001b[32m(\u001b[0m\u001b[32m\"\u001b[0m\u001b[32m[\u001b[0m\u001b[32mitalic red\u001b[0m\u001b[32m]\u001b[0m\u001b[32mHello\u001b[0m\u001b[32m[\u001b[0m\u001b[32m/italic red\u001b[0m\u001b[32m]\u001b[0m\u001b[32m World!\"\u001b[0m\u001b[32m)\u001b[0m\u001b[32m'\u001b[0m,\n",
       "        \u001b[32m'print\u001b[0m\u001b[32m(\u001b[0m\u001b[32mlocals\u001b[0m\u001b[32m(\u001b[0m\u001b[32m)\u001b[0m\u001b[32m)\u001b[0m\u001b[32m'\u001b[0m\n",
       "    \u001b[1m]\u001b[0m,\n",
       "    \u001b[32m'_oh'\u001b[0m: \u001b[1m{\u001b[0m\u001b[1m}\u001b[0m,\n",
       "    \u001b[32m'_dh'\u001b[0m: \u001b[1m[\u001b[0m\u001b[32m'/home/mkoenig/git/itbtechtalks/talks/19_rich'\u001b[0m\u001b[1m]\u001b[0m,\n",
       "    \u001b[32m'In'\u001b[0m: \u001b[1m[\u001b[0m\n",
       "        \u001b[32m''\u001b[0m,\n",
       "        \u001b[32m\"get_ipython\u001b[0m\u001b[32m(\u001b[0m\u001b[32m)\u001b[0m\u001b[32m.run_line_magic\u001b[0m\u001b[32m(\u001b[0m\u001b[32m'load_ext', 'rich'\u001b[0m\u001b[32m)\u001b[0m\u001b[32m\\nimport rich\"\u001b[0m,\n",
       "        \u001b[32m'from rich import print'\u001b[0m,\n",
       "        \u001b[32m'print\u001b[0m\u001b[32m(\u001b[0m\u001b[32m\"\u001b[0m\u001b[32m[\u001b[0m\u001b[32mitalic red\u001b[0m\u001b[32m]\u001b[0m\u001b[32mHello\u001b[0m\u001b[32m[\u001b[0m\u001b[32m/italic red\u001b[0m\u001b[32m]\u001b[0m\u001b[32m World!\"\u001b[0m\u001b[32m)\u001b[0m\u001b[32m'\u001b[0m,\n",
       "        \u001b[32m'print\u001b[0m\u001b[32m(\u001b[0m\u001b[32mlocals\u001b[0m\u001b[32m(\u001b[0m\u001b[32m)\u001b[0m\u001b[32m)\u001b[0m\u001b[32m'\u001b[0m\n",
       "    \u001b[1m]\u001b[0m,\n",
       "    \u001b[32m'Out'\u001b[0m: \u001b[1m{\u001b[0m\u001b[1m}\u001b[0m,\n",
       "    \u001b[32m'get_ipython'\u001b[0m: \u001b[1m<\u001b[0m\u001b[1;95mbound\u001b[0m\u001b[39m method InteractiveShell.get_ipython of \u001b[0m\n",
       "\u001b[39m<ipykernel.zmqshell.ZMQInteractiveShell object at \u001b[0m\u001b[1;36m0x7f2c011f36a0\u001b[0m\u001b[1m>\u001b[0m>,\n",
       "    \u001b[32m'exit'\u001b[0m: \u001b[1m<\u001b[0m\u001b[1;95mIPython.core.autocall.ZMQExitAutocall\u001b[0m\u001b[39m object at \u001b[0m\u001b[1;36m0x7f2c00146370\u001b[0m\u001b[1m>\u001b[0m,\n",
       "    \u001b[32m'quit'\u001b[0m: \u001b[1m<\u001b[0m\u001b[1;95mIPython.core.autocall.ZMQExitAutocall\u001b[0m\u001b[39m object at \u001b[0m\u001b[1;36m0x7f2c00146370\u001b[0m\u001b[1m>\u001b[0m,\n",
       "    \u001b[32m'_'\u001b[0m: \u001b[32m''\u001b[0m,\n",
       "    \u001b[32m'__'\u001b[0m: \u001b[32m''\u001b[0m,\n",
       "    \u001b[32m'___'\u001b[0m: \u001b[32m''\u001b[0m,\n",
       "    \u001b[32m'_i'\u001b[0m: \u001b[32m'print\u001b[0m\u001b[32m(\u001b[0m\u001b[32m\"\u001b[0m\u001b[32m[\u001b[0m\u001b[32mitalic red\u001b[0m\u001b[32m]\u001b[0m\u001b[32mHello\u001b[0m\u001b[32m[\u001b[0m\u001b[32m/italic red\u001b[0m\u001b[32m]\u001b[0m\u001b[32m World!\"\u001b[0m\u001b[32m)\u001b[0m\u001b[32m'\u001b[0m,\n",
       "    \u001b[32m'_ii'\u001b[0m: \u001b[32m'from rich import print'\u001b[0m,\n",
       "    \u001b[32m'_iii'\u001b[0m: \u001b[32m'%load_ext rich\\nimport rich'\u001b[0m,\n",
       "    \u001b[32m'_i1'\u001b[0m: \u001b[32m'%load_ext rich\\nimport rich'\u001b[0m,\n",
       "    \u001b[32m'rich'\u001b[0m: \u001b[1m<\u001b[0m\u001b[1;95mmodule\u001b[0m\u001b[39m \u001b[0m\u001b[32m'rich'\u001b[0m\u001b[39m from \u001b[0m\n",
       "\u001b[32m'/home/mkoenig/envs/rich/lib/python3.8/site-packages/rich/__init__.py'\u001b[0m\u001b[1m>\u001b[0m,\n",
       "    \u001b[32m'_i2'\u001b[0m: \u001b[32m'from rich import print'\u001b[0m,\n",
       "    \u001b[32m'print'\u001b[0m: \u001b[1m<\u001b[0m\u001b[1;95mfunction\u001b[0m\u001b[39m print at \u001b[0m\u001b[1;36m0x7f2c0010f3a0\u001b[0m\u001b[1m>\u001b[0m,\n",
       "    \u001b[32m'_i3'\u001b[0m: \u001b[32m'print\u001b[0m\u001b[32m(\u001b[0m\u001b[32m\"\u001b[0m\u001b[32m[\u001b[0m\u001b[32mitalic red\u001b[0m\u001b[32m]\u001b[0m\u001b[32mHello\u001b[0m\u001b[32m[\u001b[0m\u001b[32m/italic red\u001b[0m\u001b[32m]\u001b[0m\u001b[32m World!\"\u001b[0m\u001b[32m)\u001b[0m\u001b[32m'\u001b[0m,\n",
       "    \u001b[32m'_i4'\u001b[0m: \u001b[32m'print\u001b[0m\u001b[32m(\u001b[0m\u001b[32mlocals\u001b[0m\u001b[32m(\u001b[0m\u001b[32m)\u001b[0m\u001b[32m)\u001b[0m\u001b[32m'\u001b[0m\n",
       "\u001b[1m}\u001b[0m\n"
      ]
     },
     "metadata": {},
     "output_type": "display_data"
    }
   ],
   "source": [
    "print(locals())"
   ]
  },
  {
   "cell_type": "markdown",
   "id": "c0e72cf5-1459-49af-9331-628d378515a9",
   "metadata": {},
   "source": [
    "## Inspect\n",
    "Rich has an `inspect()` function which can generate a report on any Python object. It is a fantastic debug aid, and a good example of the output that Rich can generate. Here is a simple example:"
   ]
  },
  {
   "cell_type": "code",
   "execution_count": 5,
   "id": "1bec596b-a4c5-4e19-bac4-76714c3e1148",
   "metadata": {},
   "outputs": [
    {
     "data": {
      "text/html": [
       "<pre style=\"white-space:pre;overflow-x:auto;line-height:normal;font-family:Menlo,'DejaVu Sans Mono',consolas,'Courier New',monospace\"><span style=\"color: #000080; text-decoration-color: #000080\">╭─────────────────────────────── </span><span style=\"color: #000080; text-decoration-color: #000080; font-weight: bold\">&lt;</span><span style=\"color: #ff00ff; text-decoration-color: #ff00ff; font-weight: bold\">class</span><span style=\"color: #000000; text-decoration-color: #000000\"> </span><span style=\"color: #008000; text-decoration-color: #008000\">'rich.color.Color'</span><span style=\"color: #000080; text-decoration-color: #000080; font-weight: bold\">&gt;</span><span style=\"color: #000080; text-decoration-color: #000080\"> ────────────────────────────────╮</span>\n",
       "<span style=\"color: #000080; text-decoration-color: #000080\">│</span> <span style=\"color: #008080; text-decoration-color: #008080\">Terminal color definition.</span>                                                                <span style=\"color: #000080; text-decoration-color: #000080\">│</span>\n",
       "<span style=\"color: #000080; text-decoration-color: #000080\">│</span>                                                                                           <span style=\"color: #000080; text-decoration-color: #000080\">│</span>\n",
       "<span style=\"color: #000080; text-decoration-color: #000080\">│</span> <span style=\"color: #008000; text-decoration-color: #008000\">╭───────────────────────────────────────────────────────────────────────────────────────╮</span> <span style=\"color: #000080; text-decoration-color: #000080\">│</span>\n",
       "<span style=\"color: #000080; text-decoration-color: #000080\">│</span> <span style=\"color: #008000; text-decoration-color: #008000\">│</span> <span style=\"color: #800080; text-decoration-color: #800080; font-weight: bold\">Color</span><span style=\"font-weight: bold\">(</span><span style=\"color: #008000; text-decoration-color: #008000\">'red'</span>, ColorType.STANDARD, <span style=\"color: #808000; text-decoration-color: #808000\">number</span>=<span style=\"color: #008080; text-decoration-color: #008080; font-weight: bold\">1</span><span style=\"font-weight: bold\">)</span>                                            <span style=\"color: #008000; text-decoration-color: #008000\">│</span> <span style=\"color: #000080; text-decoration-color: #000080\">│</span>\n",
       "<span style=\"color: #000080; text-decoration-color: #000080\">│</span> <span style=\"color: #008000; text-decoration-color: #008000\">╰───────────────────────────────────────────────────────────────────────────────────────╯</span> <span style=\"color: #000080; text-decoration-color: #000080\">│</span>\n",
       "<span style=\"color: #000080; text-decoration-color: #000080\">│</span>                                                                                           <span style=\"color: #000080; text-decoration-color: #000080\">│</span>\n",
       "<span style=\"color: #000080; text-decoration-color: #000080\">│</span>        <span style=\"color: #808000; text-decoration-color: #808000; font-style: italic\">is_default</span> = <span style=\"color: #ff0000; text-decoration-color: #ff0000; font-style: italic\">False</span>                                                                 <span style=\"color: #000080; text-decoration-color: #000080\">│</span>\n",
       "<span style=\"color: #000080; text-decoration-color: #000080\">│</span> <span style=\"color: #808000; text-decoration-color: #808000; font-style: italic\">is_system_defined</span> = <span style=\"color: #00ff00; text-decoration-color: #00ff00; font-style: italic\">True</span>                                                                  <span style=\"color: #000080; text-decoration-color: #000080\">│</span>\n",
       "<span style=\"color: #000080; text-decoration-color: #000080\">│</span>              <span style=\"color: #808000; text-decoration-color: #808000; font-style: italic\">name</span> = <span style=\"color: #008000; text-decoration-color: #008000\">'red'</span>                                                                 <span style=\"color: #000080; text-decoration-color: #000080\">│</span>\n",
       "<span style=\"color: #000080; text-decoration-color: #000080\">│</span>            <span style=\"color: #808000; text-decoration-color: #808000; font-style: italic\">number</span> = <span style=\"color: #008080; text-decoration-color: #008080; font-weight: bold\">1</span>                                                                     <span style=\"color: #000080; text-decoration-color: #000080\">│</span>\n",
       "<span style=\"color: #000080; text-decoration-color: #000080\">│</span>            <span style=\"color: #808000; text-decoration-color: #808000; font-style: italic\">system</span> = ColorSystem.STANDARD                                                  <span style=\"color: #000080; text-decoration-color: #000080\">│</span>\n",
       "<span style=\"color: #000080; text-decoration-color: #000080\">│</span>           <span style=\"color: #808000; text-decoration-color: #808000; font-style: italic\">triplet</span> = <span style=\"color: #800080; text-decoration-color: #800080; font-style: italic\">None</span>                                                                  <span style=\"color: #000080; text-decoration-color: #000080\">│</span>\n",
       "<span style=\"color: #000080; text-decoration-color: #000080\">│</span>              <span style=\"color: #808000; text-decoration-color: #808000; font-style: italic\">type</span> = ColorType.STANDARD                                                    <span style=\"color: #000080; text-decoration-color: #000080\">│</span>\n",
       "<span style=\"color: #000080; text-decoration-color: #000080\">│</span>             <span style=\"color: #808000; text-decoration-color: #808000; font-style: italic\">count</span> = <span style=\"color: #00ffff; text-decoration-color: #00ffff; font-style: italic\">def </span><span style=\"color: #800000; text-decoration-color: #800000; font-weight: bold\">count</span><span style=\"font-weight: bold\">(</span>value, <span style=\"color: #800080; text-decoration-color: #800080\">/</span><span style=\"font-weight: bold\">)</span>: <span style=\"color: #7f7f7f; text-decoration-color: #7f7f7f\">Return number of occurrences of value.</span>           <span style=\"color: #000080; text-decoration-color: #000080\">│</span>\n",
       "<span style=\"color: #000080; text-decoration-color: #000080\">│</span>           <span style=\"color: #808000; text-decoration-color: #808000; font-style: italic\">default</span> = <span style=\"color: #00ffff; text-decoration-color: #00ffff; font-style: italic\">def </span><span style=\"color: #800000; text-decoration-color: #800000; font-weight: bold\">default</span><span style=\"font-weight: bold\">()</span> -&gt; <span style=\"color: #008000; text-decoration-color: #008000\">'Color'</span>: <span style=\"color: #7f7f7f; text-decoration-color: #7f7f7f\">Get a Color instance representing the </span>      <span style=\"color: #000080; text-decoration-color: #000080\">│</span>\n",
       "<span style=\"color: #000080; text-decoration-color: #000080\">│</span>                     <span style=\"color: #7f7f7f; text-decoration-color: #7f7f7f\">default color.</span>                                                        <span style=\"color: #000080; text-decoration-color: #000080\">│</span>\n",
       "<span style=\"color: #000080; text-decoration-color: #000080\">│</span>         <span style=\"color: #808000; text-decoration-color: #808000; font-style: italic\">downgrade</span> = <span style=\"color: #00ffff; text-decoration-color: #00ffff; font-style: italic\">def </span><span style=\"color: #800000; text-decoration-color: #800000; font-weight: bold\">downgrade</span><span style=\"font-weight: bold\">(</span>system: rich.color.ColorSystem<span style=\"font-weight: bold\">)</span> -&gt; <span style=\"color: #008000; text-decoration-color: #008000\">'Color'</span>: <span style=\"color: #7f7f7f; text-decoration-color: #7f7f7f\">Downgrade a</span> <span style=\"color: #000080; text-decoration-color: #000080\">│</span>\n",
       "<span style=\"color: #000080; text-decoration-color: #000080\">│</span>                     <span style=\"color: #7f7f7f; text-decoration-color: #7f7f7f\">color system to a system with fewer colors.</span>                           <span style=\"color: #000080; text-decoration-color: #000080\">│</span>\n",
       "<span style=\"color: #000080; text-decoration-color: #000080\">│</span>         <span style=\"color: #808000; text-decoration-color: #808000; font-style: italic\">from_ansi</span> = <span style=\"color: #00ffff; text-decoration-color: #00ffff; font-style: italic\">def </span><span style=\"color: #800000; text-decoration-color: #800000; font-weight: bold\">from_ansi</span><span style=\"font-weight: bold\">(</span>number: int<span style=\"font-weight: bold\">)</span> -&gt; <span style=\"color: #008000; text-decoration-color: #008000\">'Color'</span>: <span style=\"color: #7f7f7f; text-decoration-color: #7f7f7f\">Create a Color number from </span>    <span style=\"color: #000080; text-decoration-color: #000080\">│</span>\n",
       "<span style=\"color: #000080; text-decoration-color: #000080\">│</span>                     <span style=\"color: #7f7f7f; text-decoration-color: #7f7f7f\">it's </span><span style=\"color: #7fbfbf; text-decoration-color: #7fbfbf; font-weight: bold\">8</span><span style=\"color: #7f7f7f; text-decoration-color: #7f7f7f\">-bit ansi number.</span>                                               <span style=\"color: #000080; text-decoration-color: #000080\">│</span>\n",
       "<span style=\"color: #000080; text-decoration-color: #000080\">│</span>          <span style=\"color: #808000; text-decoration-color: #808000; font-style: italic\">from_rgb</span> = <span style=\"color: #00ffff; text-decoration-color: #00ffff; font-style: italic\">def </span><span style=\"color: #800000; text-decoration-color: #800000; font-weight: bold\">from_rgb</span><span style=\"font-weight: bold\">(</span>red: float, green: float, blue: float<span style=\"font-weight: bold\">)</span> -&gt; <span style=\"color: #008000; text-decoration-color: #008000\">'Color'</span>:       <span style=\"color: #000080; text-decoration-color: #000080\">│</span>\n",
       "<span style=\"color: #000080; text-decoration-color: #000080\">│</span>                     <span style=\"color: #7f7f7f; text-decoration-color: #7f7f7f\">Create a truecolor from three color components in the </span><span style=\"color: #bf7fbf; text-decoration-color: #bf7fbf; font-weight: bold\">range</span><span style=\"color: #7f7f7f; text-decoration-color: #7f7f7f; font-weight: bold\">(</span><span style=\"color: #7fbfbf; text-decoration-color: #7fbfbf; font-weight: bold\">0</span><span style=\"color: #7f7f7f; text-decoration-color: #7f7f7f\">-&gt;</span><span style=\"color: #7fbfbf; text-decoration-color: #7fbfbf; font-weight: bold\">255</span><span style=\"color: #7f7f7f; text-decoration-color: #7f7f7f; font-weight: bold\">)</span><span style=\"color: #7f7f7f; text-decoration-color: #7f7f7f\">.</span>  <span style=\"color: #000080; text-decoration-color: #000080\">│</span>\n",
       "<span style=\"color: #000080; text-decoration-color: #000080\">│</span>      <span style=\"color: #808000; text-decoration-color: #808000; font-style: italic\">from_triplet</span> = <span style=\"color: #00ffff; text-decoration-color: #00ffff; font-style: italic\">def </span><span style=\"color: #800000; text-decoration-color: #800000; font-weight: bold\">from_triplet</span><span style=\"font-weight: bold\">(</span>triplet: <span style=\"color: #008000; text-decoration-color: #008000\">'ColorTriplet'</span><span style=\"font-weight: bold\">)</span> -&gt; <span style=\"color: #008000; text-decoration-color: #008000\">'Color'</span>: <span style=\"color: #7f7f7f; text-decoration-color: #7f7f7f\">Create a </span>       <span style=\"color: #000080; text-decoration-color: #000080\">│</span>\n",
       "<span style=\"color: #000080; text-decoration-color: #000080\">│</span>                     <span style=\"color: #7f7f7f; text-decoration-color: #7f7f7f\">truecolor RGB color from a triplet of values.</span>                         <span style=\"color: #000080; text-decoration-color: #000080\">│</span>\n",
       "<span style=\"color: #000080; text-decoration-color: #000080\">│</span>    <span style=\"color: #808000; text-decoration-color: #808000; font-style: italic\">get_ansi_codes</span> = <span style=\"color: #00ffff; text-decoration-color: #00ffff; font-style: italic\">def </span><span style=\"color: #800000; text-decoration-color: #800000; font-weight: bold\">get_ansi_codes</span><span style=\"font-weight: bold\">(</span>foreground: bool = <span style=\"color: #00ff00; text-decoration-color: #00ff00; font-style: italic\">True</span><span style=\"font-weight: bold\">)</span> -&gt; Tuple<span style=\"font-weight: bold\">[</span>str, <span style=\"color: #808000; text-decoration-color: #808000\">...</span><span style=\"font-weight: bold\">]</span>: <span style=\"color: #7f7f7f; text-decoration-color: #7f7f7f\">Get </span>  <span style=\"color: #000080; text-decoration-color: #000080\">│</span>\n",
       "<span style=\"color: #000080; text-decoration-color: #000080\">│</span>                     <span style=\"color: #7f7f7f; text-decoration-color: #7f7f7f\">the ANSI escape codes for this color.</span>                                 <span style=\"color: #000080; text-decoration-color: #000080\">│</span>\n",
       "<span style=\"color: #000080; text-decoration-color: #000080\">│</span>     <span style=\"color: #808000; text-decoration-color: #808000; font-style: italic\">get_truecolor</span> = <span style=\"color: #00ffff; text-decoration-color: #00ffff; font-style: italic\">def </span><span style=\"color: #800000; text-decoration-color: #800000; font-weight: bold\">get_truecolor</span><span style=\"font-weight: bold\">(</span>theme: Union<span style=\"font-weight: bold\">[</span><span style=\"color: #800080; text-decoration-color: #800080; font-weight: bold\">ForwardRef</span><span style=\"font-weight: bold\">(</span><span style=\"color: #008000; text-decoration-color: #008000\">'TerminalTheme'</span><span style=\"font-weight: bold\">)</span>, NoneType<span style=\"font-weight: bold\">]</span> <span style=\"color: #000080; text-decoration-color: #000080\">│</span>\n",
       "<span style=\"color: #000080; text-decoration-color: #000080\">│</span>                     = <span style=\"color: #800080; text-decoration-color: #800080; font-style: italic\">None</span>, foreground: bool = <span style=\"color: #00ff00; text-decoration-color: #00ff00; font-style: italic\">True</span><span style=\"font-weight: bold\">)</span> -&gt; rich.color_triplet.ColorTriplet:  <span style=\"color: #000080; text-decoration-color: #000080\">│</span>\n",
       "<span style=\"color: #000080; text-decoration-color: #000080\">│</span>                     <span style=\"color: #7f7f7f; text-decoration-color: #7f7f7f\">Get an equivalent color triplet for this color.</span>                       <span style=\"color: #000080; text-decoration-color: #000080\">│</span>\n",
       "<span style=\"color: #000080; text-decoration-color: #000080\">│</span>             <span style=\"color: #808000; text-decoration-color: #808000; font-style: italic\">index</span> = <span style=\"color: #00ffff; text-decoration-color: #00ffff; font-style: italic\">def </span><span style=\"color: #800000; text-decoration-color: #800000; font-weight: bold\">index</span><span style=\"font-weight: bold\">(</span>value, <span style=\"color: #808000; text-decoration-color: #808000\">start</span>=<span style=\"color: #008080; text-decoration-color: #008080; font-weight: bold\">0</span>, <span style=\"color: #808000; text-decoration-color: #808000\">stop</span>=<span style=\"color: #008080; text-decoration-color: #008080; font-weight: bold\">9223372036854775807</span>, <span style=\"color: #800080; text-decoration-color: #800080\">/</span><span style=\"font-weight: bold\">)</span>: <span style=\"color: #7f7f7f; text-decoration-color: #7f7f7f\">Return first </span> <span style=\"color: #000080; text-decoration-color: #000080\">│</span>\n",
       "<span style=\"color: #000080; text-decoration-color: #000080\">│</span>                     <span style=\"color: #7f7f7f; text-decoration-color: #7f7f7f\">index of value.</span>                                                       <span style=\"color: #000080; text-decoration-color: #000080\">│</span>\n",
       "<span style=\"color: #000080; text-decoration-color: #000080\">│</span>             <span style=\"color: #808000; text-decoration-color: #808000; font-style: italic\">parse</span> = <span style=\"color: #00ffff; text-decoration-color: #00ffff; font-style: italic\">def </span><span style=\"color: #800000; text-decoration-color: #800000; font-weight: bold\">parse</span><span style=\"font-weight: bold\">(</span>color: str<span style=\"font-weight: bold\">)</span> -&gt; <span style=\"color: #008000; text-decoration-color: #008000\">'Color'</span>: <span style=\"color: #7f7f7f; text-decoration-color: #7f7f7f\">Parse a color definition.</span>           <span style=\"color: #000080; text-decoration-color: #000080\">│</span>\n",
       "<span style=\"color: #000080; text-decoration-color: #000080\">╰───────────────────────────────────────────────────────────────────────────────────────────╯</span>\n",
       "</pre>\n"
      ],
      "text/plain": [
       "\u001b[34m╭─\u001b[0m\u001b[34m────────────────────────────── \u001b[0m\u001b[1;34m<\u001b[0m\u001b[1;95mclass\u001b[0m\u001b[39m \u001b[0m\u001b[32m'rich.color.Color'\u001b[0m\u001b[1;34m>\u001b[0m\u001b[34m ───────────────────────────────\u001b[0m\u001b[34m─╮\u001b[0m\n",
       "\u001b[34m│\u001b[0m \u001b[36mTerminal color definition.\u001b[0m                                                                \u001b[34m│\u001b[0m\n",
       "\u001b[34m│\u001b[0m                                                                                           \u001b[34m│\u001b[0m\n",
       "\u001b[34m│\u001b[0m \u001b[32m╭───────────────────────────────────────────────────────────────────────────────────────╮\u001b[0m \u001b[34m│\u001b[0m\n",
       "\u001b[34m│\u001b[0m \u001b[32m│\u001b[0m \u001b[1;35mColor\u001b[0m\u001b[1m(\u001b[0m\u001b[32m'red'\u001b[0m, ColorType.STANDARD, \u001b[33mnumber\u001b[0m=\u001b[1;36m1\u001b[0m\u001b[1m)\u001b[0m                                            \u001b[32m│\u001b[0m \u001b[34m│\u001b[0m\n",
       "\u001b[34m│\u001b[0m \u001b[32m╰───────────────────────────────────────────────────────────────────────────────────────╯\u001b[0m \u001b[34m│\u001b[0m\n",
       "\u001b[34m│\u001b[0m                                                                                           \u001b[34m│\u001b[0m\n",
       "\u001b[34m│\u001b[0m        \u001b[3;33mis_default\u001b[0m = \u001b[3;91mFalse\u001b[0m                                                                 \u001b[34m│\u001b[0m\n",
       "\u001b[34m│\u001b[0m \u001b[3;33mis_system_defined\u001b[0m = \u001b[3;92mTrue\u001b[0m                                                                  \u001b[34m│\u001b[0m\n",
       "\u001b[34m│\u001b[0m              \u001b[3;33mname\u001b[0m = \u001b[32m'red'\u001b[0m                                                                 \u001b[34m│\u001b[0m\n",
       "\u001b[34m│\u001b[0m            \u001b[3;33mnumber\u001b[0m = \u001b[1;36m1\u001b[0m                                                                     \u001b[34m│\u001b[0m\n",
       "\u001b[34m│\u001b[0m            \u001b[3;33msystem\u001b[0m = ColorSystem.STANDARD                                                  \u001b[34m│\u001b[0m\n",
       "\u001b[34m│\u001b[0m           \u001b[3;33mtriplet\u001b[0m = \u001b[3;35mNone\u001b[0m                                                                  \u001b[34m│\u001b[0m\n",
       "\u001b[34m│\u001b[0m              \u001b[3;33mtype\u001b[0m = ColorType.STANDARD                                                    \u001b[34m│\u001b[0m\n",
       "\u001b[34m│\u001b[0m             \u001b[3;33mcount\u001b[0m = \u001b[3;96mdef \u001b[0m\u001b[1;31mcount\u001b[0m\u001b[1m(\u001b[0mvalue, \u001b[35m/\u001b[0m\u001b[1m)\u001b[0m: \u001b[2mReturn number of occurrences of value.\u001b[0m           \u001b[34m│\u001b[0m\n",
       "\u001b[34m│\u001b[0m           \u001b[3;33mdefault\u001b[0m = \u001b[3;96mdef \u001b[0m\u001b[1;31mdefault\u001b[0m\u001b[1m(\u001b[0m\u001b[1m)\u001b[0m -> \u001b[32m'Color'\u001b[0m: \u001b[2mGet a Color instance representing the \u001b[0m      \u001b[34m│\u001b[0m\n",
       "\u001b[34m│\u001b[0m                     \u001b[2mdefault color.\u001b[0m                                                        \u001b[34m│\u001b[0m\n",
       "\u001b[34m│\u001b[0m         \u001b[3;33mdowngrade\u001b[0m = \u001b[3;96mdef \u001b[0m\u001b[1;31mdowngrade\u001b[0m\u001b[1m(\u001b[0msystem: rich.color.ColorSystem\u001b[1m)\u001b[0m -> \u001b[32m'Color'\u001b[0m: \u001b[2mDowngrade a\u001b[0m \u001b[34m│\u001b[0m\n",
       "\u001b[34m│\u001b[0m                     \u001b[2mcolor system to a system with fewer colors.\u001b[0m                           \u001b[34m│\u001b[0m\n",
       "\u001b[34m│\u001b[0m         \u001b[3;33mfrom_ansi\u001b[0m = \u001b[3;96mdef \u001b[0m\u001b[1;31mfrom_ansi\u001b[0m\u001b[1m(\u001b[0mnumber: int\u001b[1m)\u001b[0m -> \u001b[32m'Color'\u001b[0m: \u001b[2mCreate a Color number from \u001b[0m    \u001b[34m│\u001b[0m\n",
       "\u001b[34m│\u001b[0m                     \u001b[2mit's \u001b[0m\u001b[1;2;36m8\u001b[0m\u001b[2m-bit ansi number.\u001b[0m                                               \u001b[34m│\u001b[0m\n",
       "\u001b[34m│\u001b[0m          \u001b[3;33mfrom_rgb\u001b[0m = \u001b[3;96mdef \u001b[0m\u001b[1;31mfrom_rgb\u001b[0m\u001b[1m(\u001b[0mred: float, green: float, blue: float\u001b[1m)\u001b[0m -> \u001b[32m'Color'\u001b[0m:       \u001b[34m│\u001b[0m\n",
       "\u001b[34m│\u001b[0m                     \u001b[2mCreate a truecolor from three color components in the \u001b[0m\u001b[1;2;35mrange\u001b[0m\u001b[1;2m(\u001b[0m\u001b[1;2;36m0\u001b[0m\u001b[2m->\u001b[0m\u001b[1;2;36m255\u001b[0m\u001b[1;2m)\u001b[0m\u001b[2m.\u001b[0m  \u001b[34m│\u001b[0m\n",
       "\u001b[34m│\u001b[0m      \u001b[3;33mfrom_triplet\u001b[0m = \u001b[3;96mdef \u001b[0m\u001b[1;31mfrom_triplet\u001b[0m\u001b[1m(\u001b[0mtriplet: \u001b[32m'ColorTriplet'\u001b[0m\u001b[1m)\u001b[0m -> \u001b[32m'Color'\u001b[0m: \u001b[2mCreate a \u001b[0m       \u001b[34m│\u001b[0m\n",
       "\u001b[34m│\u001b[0m                     \u001b[2mtruecolor RGB color from a triplet of values.\u001b[0m                         \u001b[34m│\u001b[0m\n",
       "\u001b[34m│\u001b[0m    \u001b[3;33mget_ansi_codes\u001b[0m = \u001b[3;96mdef \u001b[0m\u001b[1;31mget_ansi_codes\u001b[0m\u001b[1m(\u001b[0mforeground: bool = \u001b[3;92mTrue\u001b[0m\u001b[1m)\u001b[0m -> Tuple\u001b[1m[\u001b[0mstr, \u001b[33m...\u001b[0m\u001b[1m]\u001b[0m: \u001b[2mGet \u001b[0m  \u001b[34m│\u001b[0m\n",
       "\u001b[34m│\u001b[0m                     \u001b[2mthe ANSI escape codes for this color.\u001b[0m                                 \u001b[34m│\u001b[0m\n",
       "\u001b[34m│\u001b[0m     \u001b[3;33mget_truecolor\u001b[0m = \u001b[3;96mdef \u001b[0m\u001b[1;31mget_truecolor\u001b[0m\u001b[1m(\u001b[0mtheme: Union\u001b[1m[\u001b[0m\u001b[1;35mForwardRef\u001b[0m\u001b[1m(\u001b[0m\u001b[32m'TerminalTheme'\u001b[0m\u001b[1m)\u001b[0m, NoneType\u001b[1m]\u001b[0m \u001b[34m│\u001b[0m\n",
       "\u001b[34m│\u001b[0m                     = \u001b[3;35mNone\u001b[0m, foreground: bool = \u001b[3;92mTrue\u001b[0m\u001b[1m)\u001b[0m -> rich.color_triplet.ColorTriplet:  \u001b[34m│\u001b[0m\n",
       "\u001b[34m│\u001b[0m                     \u001b[2mGet an equivalent color triplet for this color.\u001b[0m                       \u001b[34m│\u001b[0m\n",
       "\u001b[34m│\u001b[0m             \u001b[3;33mindex\u001b[0m = \u001b[3;96mdef \u001b[0m\u001b[1;31mindex\u001b[0m\u001b[1m(\u001b[0mvalue, \u001b[33mstart\u001b[0m=\u001b[1;36m0\u001b[0m, \u001b[33mstop\u001b[0m=\u001b[1;36m9223372036854775807\u001b[0m, \u001b[35m/\u001b[0m\u001b[1m)\u001b[0m: \u001b[2mReturn first \u001b[0m \u001b[34m│\u001b[0m\n",
       "\u001b[34m│\u001b[0m                     \u001b[2mindex of value.\u001b[0m                                                       \u001b[34m│\u001b[0m\n",
       "\u001b[34m│\u001b[0m             \u001b[3;33mparse\u001b[0m = \u001b[3;96mdef \u001b[0m\u001b[1;31mparse\u001b[0m\u001b[1m(\u001b[0mcolor: str\u001b[1m)\u001b[0m -> \u001b[32m'Color'\u001b[0m: \u001b[2mParse a color definition.\u001b[0m           \u001b[34m│\u001b[0m\n",
       "\u001b[34m╰───────────────────────────────────────────────────────────────────────────────────────────╯\u001b[0m\n"
      ]
     },
     "metadata": {},
     "output_type": "display_data"
    }
   ],
   "source": [
    "from rich import inspect\n",
    "from rich.color import Color\n",
    "color = Color.parse(\"red\")\n",
    "inspect(color, methods=True)"
   ]
  },
  {
   "cell_type": "markdown",
   "id": "3de05071-f128-45c1-8361-eaee057fef98",
   "metadata": {},
   "source": [
    "## Console API\n",
    "For complete control over terminal formatting, Rich offers a `Console` class. Most applications will require a single Console instance, so you may want to create one at the module level or as an attribute of your top-level object. \n",
    "\n",
    "The console object handles the mechanics of generating ANSI escape sequences for color and style. It will auto-detect the capabilities of the terminal and convert colors if necessary."
   ]
  },
  {
   "cell_type": "code",
   "execution_count": 6,
   "id": "de97b1f9-fca4-410b-bb5a-67d04d665a97",
   "metadata": {},
   "outputs": [],
   "source": [
    "from rich.console import Console\n",
    "console = Console()"
   ]
  },
  {
   "cell_type": "markdown",
   "id": "016d2498-f5e9-4f02-9aea-c960b5ac6059",
   "metadata": {},
   "source": [
    "### Printing\n",
    "To write rich content to the terminal use the `print()` method. Rich will\n",
    "- convert any object to a string via its (__str__) method.\n",
    "- perform some simple syntax highlighting.\n",
    "- pretty printing of any containers, such as dicts and lists. \n",
    "- render Console Markup. \n",
    "\n",
    "Here are some examples:"
   ]
  },
  {
   "cell_type": "code",
   "execution_count": 7,
   "id": "55b6f1a7-e94e-4b07-88a0-91d856d56a55",
   "metadata": {},
   "outputs": [
    {
     "data": {
      "text/html": [
       "<pre style=\"white-space:pre;overflow-x:auto;line-height:normal;font-family:Menlo,'DejaVu Sans Mono',consolas,'Courier New',monospace\"><span style=\"font-weight: bold\">[</span><span style=\"color: #008080; text-decoration-color: #008080; font-weight: bold\">1</span>, <span style=\"color: #008080; text-decoration-color: #008080; font-weight: bold\">2</span>, <span style=\"color: #008080; text-decoration-color: #008080; font-weight: bold\">3</span><span style=\"font-weight: bold\">]</span>\n",
       "</pre>\n"
      ],
      "text/plain": [
       "\u001b[1m[\u001b[0m\u001b[1;36m1\u001b[0m, \u001b[1;36m2\u001b[0m, \u001b[1;36m3\u001b[0m\u001b[1m]\u001b[0m\n"
      ]
     },
     "metadata": {},
     "output_type": "display_data"
    },
    {
     "data": {
      "text/html": [
       "<pre style=\"white-space:pre;overflow-x:auto;line-height:normal;font-family:Menlo,'DejaVu Sans Mono',consolas,'Courier New',monospace\"><span style=\"color: #000080; text-decoration-color: #000080; text-decoration: underline\">Looks like a link</span>\n",
       "</pre>\n"
      ],
      "text/plain": [
       "\u001b[4;34mLooks like a link\u001b[0m\n"
      ]
     },
     "metadata": {},
     "output_type": "display_data"
    },
    {
     "data": {
      "text/html": [
       "<pre style=\"white-space:pre;overflow-x:auto;line-height:normal;font-family:Menlo,'DejaVu Sans Mono',consolas,'Courier New',monospace\"><span style=\"color: #c0c0c0; text-decoration-color: #c0c0c0; background-color: #000080\">FOO</span>\n",
       "</pre>\n"
      ],
      "text/plain": [
       "\u001b[37;44mFOO\u001b[0m\n"
      ]
     },
     "metadata": {},
     "output_type": "display_data"
    },
    {
     "data": {
      "text/html": [
       "<pre style=\"white-space:pre;overflow-x:auto;line-height:normal;font-family:Menlo,'DejaVu Sans Mono',consolas,'Courier New',monospace\"><span style=\"font-weight: bold\">{</span><span style=\"color: #008000; text-decoration-color: #008000\">'apples'</span>: <span style=\"color: #008080; text-decoration-color: #008080; font-weight: bold\">10</span>, <span style=\"color: #008000; text-decoration-color: #008000\">'oranges'</span>: <span style=\"color: #008080; text-decoration-color: #008080; font-weight: bold\">15</span>, <span style=\"color: #008000; text-decoration-color: #008000\">'tomatos'</span>: <span style=\"color: #008080; text-decoration-color: #008080; font-weight: bold\">0</span><span style=\"font-weight: bold\">}</span>\n",
       "</pre>\n"
      ],
      "text/plain": [
       "\u001b[1m{\u001b[0m\u001b[32m'apples'\u001b[0m: \u001b[1;36m10\u001b[0m, \u001b[32m'oranges'\u001b[0m: \u001b[1;36m15\u001b[0m, \u001b[32m'tomatos'\u001b[0m: \u001b[1;36m0\u001b[0m\u001b[1m}\u001b[0m\n"
      ]
     },
     "metadata": {},
     "output_type": "display_data"
    }
   ],
   "source": [
    "console.print([1, 2, 3])\n",
    "console.print(\"[blue underline]Looks like a link\")\n",
    "console.print(\"FOO\", style=\"white on blue\")\n",
    "console.print({\"apples\": 10, \"oranges\": 15, \"tomatos\": 0})"
   ]
  },
  {
   "cell_type": "markdown",
   "id": "d7f98816-cda8-435f-b931-572d4c7ad10c",
   "metadata": {},
   "source": [
    "### Logging\n",
    "The `log()` methods offers the same capabilities as print, but adds some features useful for **debugging a running application**. Logging writes the current time in a column to the left, and the file and line where the method was called to a column on the right. Here’s an example:"
   ]
  },
  {
   "cell_type": "code",
   "execution_count": 8,
   "id": "68b26ba1-a53f-4ee4-9237-5eaeb2ac73ec",
   "metadata": {},
   "outputs": [
    {
     "data": {
      "text/html": [
       "<pre style=\"white-space:pre;overflow-x:auto;line-height:normal;font-family:Menlo,'DejaVu Sans Mono',consolas,'Courier New',monospace\"><span style=\"color: #7fbfbf; text-decoration-color: #7fbfbf\">[13:27:52] </span>Hello, World!                                                      <a href=\"file:///tmp/ipykernel_266372/1290892976.py\"><span style=\"color: #7f7f7f; text-decoration-color: #7f7f7f\">1290892976.py</span></a><span style=\"color: #7f7f7f; text-decoration-color: #7f7f7f\">:1</span>\n",
       "</pre>\n"
      ],
      "text/plain": [
       "\u001b[2;36m[13:27:52]\u001b[0m\u001b[2;36m \u001b[0mHello, World!                                                      \u001b]8;id=795209;file:///tmp/ipykernel_266372/1290892976.py\u001b\\\u001b[2m1290892976.py\u001b[0m\u001b]8;;\u001b\\\u001b[2m:1\u001b[0m\n"
      ]
     },
     "metadata": {},
     "output_type": "display_data"
    }
   ],
   "source": [
    "console.log(\"Hello, World!\")"
   ]
  },
  {
   "cell_type": "markdown",
   "id": "8a23fe99-0657-4a80-91f4-1bbef3260f9f",
   "metadata": {},
   "source": [
    "To help with debugging, the `log()` method has a `log_locals` parameter. If you set this to True, Rich will display a table of local variables where the method was called."
   ]
  },
  {
   "cell_type": "code",
   "execution_count": 9,
   "id": "f6cb7c4d-f248-40a4-9598-5361dea1e170",
   "metadata": {
    "tags": []
   },
   "outputs": [
    {
     "data": {
      "text/html": [
       "<pre style=\"white-space:pre;overflow-x:auto;line-height:normal;font-family:Menlo,'DejaVu Sans Mono',consolas,'Courier New',monospace\"><span style=\"color: #7fbfbf; text-decoration-color: #7fbfbf\">[13:27:53] </span>Hello, World!                                                      <a href=\"file:///tmp/ipykernel_266372/2519546579.py\"><span style=\"color: #7f7f7f; text-decoration-color: #7f7f7f\">2519546579.py</span></a><span style=\"color: #7f7f7f; text-decoration-color: #7f7f7f\">:1</span>\n",
       "           <span style=\"color: #000080; text-decoration-color: #000080\">╭──────────────────────────── </span><span style=\"color: #000080; text-decoration-color: #000080; font-style: italic\">locals</span><span style=\"color: #000080; text-decoration-color: #000080\"> ────────────────────────────╮</span>                \n",
       "           <span style=\"color: #000080; text-decoration-color: #000080\">│</span>           <span style=\"color: #808000; text-decoration-color: #808000; font-style: italic\">_</span><span style=\"color: #800000; text-decoration-color: #800000\"> =</span> <span style=\"color: #008000; text-decoration-color: #008000\">''</span>                                               <span style=\"color: #000080; text-decoration-color: #000080\">│</span>                \n",
       "           <span style=\"color: #000080; text-decoration-color: #000080\">│</span>         <span style=\"color: #808000; text-decoration-color: #808000; font-style: italic\">_dh</span><span style=\"color: #800000; text-decoration-color: #800000\"> =</span> <span style=\"font-weight: bold\">[</span><span style=\"color: #008000; text-decoration-color: #008000\">'/home/mkoenig/git/itbtechtalks/talks/19_rich'</span><span style=\"font-weight: bold\">]</span> <span style=\"color: #000080; text-decoration-color: #000080\">│</span>                \n",
       "           <span style=\"color: #000080; text-decoration-color: #000080\">│</span>          <span style=\"color: #808000; text-decoration-color: #808000; font-style: italic\">_i</span><span style=\"color: #800000; text-decoration-color: #800000\"> =</span> <span style=\"color: #008000; text-decoration-color: #008000\">'console.log(\"Hello, World!\")'</span>                   <span style=\"color: #000080; text-decoration-color: #000080\">│</span>                \n",
       "           <span style=\"color: #000080; text-decoration-color: #000080\">│</span>         <span style=\"color: #808000; text-decoration-color: #808000; font-style: italic\">_i1</span><span style=\"color: #800000; text-decoration-color: #800000\"> =</span> <span style=\"color: #008000; text-decoration-color: #008000\">'%load_ext rich\\nimport rich'</span>                    <span style=\"color: #000080; text-decoration-color: #000080\">│</span>                \n",
       "           <span style=\"color: #000080; text-decoration-color: #000080\">│</span>         <span style=\"color: #808000; text-decoration-color: #808000; font-style: italic\">_i2</span><span style=\"color: #800000; text-decoration-color: #800000\"> =</span> <span style=\"color: #008000; text-decoration-color: #008000\">'from rich import print'</span>                         <span style=\"color: #000080; text-decoration-color: #000080\">│</span>                \n",
       "           <span style=\"color: #000080; text-decoration-color: #000080\">│</span>         <span style=\"color: #808000; text-decoration-color: #808000; font-style: italic\">_i3</span><span style=\"color: #800000; text-decoration-color: #800000\"> =</span> <span style=\"color: #008000; text-decoration-color: #008000\">'print(\"[italic red]Hello[/italic red] World!\")'</span> <span style=\"color: #000080; text-decoration-color: #000080\">│</span>                \n",
       "           <span style=\"color: #000080; text-decoration-color: #000080\">│</span>         <span style=\"color: #808000; text-decoration-color: #808000; font-style: italic\">_i4</span><span style=\"color: #800000; text-decoration-color: #800000\"> =</span> <span style=\"color: #008000; text-decoration-color: #008000\">'print(locals())'</span>                                <span style=\"color: #000080; text-decoration-color: #000080\">│</span>                \n",
       "           <span style=\"color: #000080; text-decoration-color: #000080\">│</span>         <span style=\"color: #808000; text-decoration-color: #808000; font-style: italic\">_i5</span><span style=\"color: #800000; text-decoration-color: #800000\"> =</span> <span style=\"color: #008000; text-decoration-color: #008000\">'from rich import inspect\\nfrom rich.color </span>      <span style=\"color: #000080; text-decoration-color: #000080\">│</span>                \n",
       "           <span style=\"color: #000080; text-decoration-color: #000080\">│</span>               <span style=\"color: #008000; text-decoration-color: #008000\">import Color\\ncolor = </span>                           <span style=\"color: #000080; text-decoration-color: #000080\">│</span>                \n",
       "           <span style=\"color: #000080; text-decoration-color: #000080\">│</span>               <span style=\"color: #008000; text-decoration-color: #008000\">Color.parse(\"red\")\\ninspect(color, </span>              <span style=\"color: #000080; text-decoration-color: #000080\">│</span>                \n",
       "           <span style=\"color: #000080; text-decoration-color: #000080\">│</span>               <span style=\"color: #008000; text-decoration-color: #008000\">methods=True)'</span>                                   <span style=\"color: #000080; text-decoration-color: #000080\">│</span>                \n",
       "           <span style=\"color: #000080; text-decoration-color: #000080\">│</span>         <span style=\"color: #808000; text-decoration-color: #808000; font-style: italic\">_i6</span><span style=\"color: #800000; text-decoration-color: #800000\"> =</span> <span style=\"color: #008000; text-decoration-color: #008000\">'from rich.console import Console\\nconsole = </span>    <span style=\"color: #000080; text-decoration-color: #000080\">│</span>                \n",
       "           <span style=\"color: #000080; text-decoration-color: #000080\">│</span>               <span style=\"color: #008000; text-decoration-color: #008000\">Console()'</span>                                       <span style=\"color: #000080; text-decoration-color: #000080\">│</span>                \n",
       "           <span style=\"color: #000080; text-decoration-color: #000080\">│</span>         <span style=\"color: #808000; text-decoration-color: #808000; font-style: italic\">_i7</span><span style=\"color: #800000; text-decoration-color: #800000\"> =</span> <span style=\"color: #008000; text-decoration-color: #008000\">'console.print([1, 2, 3])\\nconsole.print(\"[blue </span> <span style=\"color: #000080; text-decoration-color: #000080\">│</span>                \n",
       "           <span style=\"color: #000080; text-decoration-color: #000080\">│</span>               <span style=\"color: #008000; text-decoration-color: #008000\">underline]Looks like a </span>                          <span style=\"color: #000080; text-decoration-color: #000080\">│</span>                \n",
       "           <span style=\"color: #000080; text-decoration-color: #000080\">│</span>               <span style=\"color: #008000; text-decoration-color: #008000\">link\")\\nconsole.print(\"FOO\", style=\"white on </span>    <span style=\"color: #000080; text-decoration-color: #000080\">│</span>                \n",
       "           <span style=\"color: #000080; text-decoration-color: #000080\">│</span>               <span style=\"color: #008000; text-decoration-color: #008000\">blue\")\\nconsole.print({\"apples\": 10, \"oranges\": </span> <span style=\"color: #000080; text-decoration-color: #000080\">│</span>                \n",
       "           <span style=\"color: #000080; text-decoration-color: #000080\">│</span>               <span style=\"color: #008000; text-decoration-color: #008000\">15, \"tomatos\": 0})'</span>                              <span style=\"color: #000080; text-decoration-color: #000080\">│</span>                \n",
       "           <span style=\"color: #000080; text-decoration-color: #000080\">│</span>         <span style=\"color: #808000; text-decoration-color: #808000; font-style: italic\">_i8</span><span style=\"color: #800000; text-decoration-color: #800000\"> =</span> <span style=\"color: #008000; text-decoration-color: #008000\">'console.log(\"Hello, World!\")'</span>                   <span style=\"color: #000080; text-decoration-color: #000080\">│</span>                \n",
       "           <span style=\"color: #000080; text-decoration-color: #000080\">│</span>         <span style=\"color: #808000; text-decoration-color: #808000; font-style: italic\">_i9</span><span style=\"color: #800000; text-decoration-color: #800000\"> =</span> <span style=\"color: #008000; text-decoration-color: #008000\">'console.log(\"Hello, World!\", log_locals=True)'</span>  <span style=\"color: #000080; text-decoration-color: #000080\">│</span>                \n",
       "           <span style=\"color: #000080; text-decoration-color: #000080\">│</span>         <span style=\"color: #808000; text-decoration-color: #808000; font-style: italic\">_ih</span><span style=\"color: #800000; text-decoration-color: #800000\"> =</span> <span style=\"font-weight: bold\">[</span>                                                <span style=\"color: #000080; text-decoration-color: #000080\">│</span>                \n",
       "           <span style=\"color: #000080; text-decoration-color: #000080\">│</span>                   <span style=\"color: #008000; text-decoration-color: #008000\">''</span>,                                          <span style=\"color: #000080; text-decoration-color: #000080\">│</span>                \n",
       "           <span style=\"color: #000080; text-decoration-color: #000080\">│</span>                   <span style=\"color: #008000; text-decoration-color: #008000\">\"get_ipython().run_line_magic('load_ext', </span>   <span style=\"color: #000080; text-decoration-color: #000080\">│</span>                \n",
       "           <span style=\"color: #000080; text-decoration-color: #000080\">│</span>               <span style=\"color: #008000; text-decoration-color: #008000\">'rich')\\nimport rich\"</span>,                           <span style=\"color: #000080; text-decoration-color: #000080\">│</span>                \n",
       "           <span style=\"color: #000080; text-decoration-color: #000080\">│</span>                   <span style=\"color: #008000; text-decoration-color: #008000\">'from rich import print'</span>,                    <span style=\"color: #000080; text-decoration-color: #000080\">│</span>                \n",
       "           <span style=\"color: #000080; text-decoration-color: #000080\">│</span>                   <span style=\"color: #008000; text-decoration-color: #008000\">'print(\"[italic red]Hello[/italic red] </span>      <span style=\"color: #000080; text-decoration-color: #000080\">│</span>                \n",
       "           <span style=\"color: #000080; text-decoration-color: #000080\">│</span>               <span style=\"color: #008000; text-decoration-color: #008000\">World!\")'</span>,                                       <span style=\"color: #000080; text-decoration-color: #000080\">│</span>                \n",
       "           <span style=\"color: #000080; text-decoration-color: #000080\">│</span>                   <span style=\"color: #008000; text-decoration-color: #008000\">'print(locals())'</span>,                           <span style=\"color: #000080; text-decoration-color: #000080\">│</span>                \n",
       "           <span style=\"color: #000080; text-decoration-color: #000080\">│</span>                   <span style=\"color: #008000; text-decoration-color: #008000\">'from rich import inspect\\nfrom rich.color </span>  <span style=\"color: #000080; text-decoration-color: #000080\">│</span>                \n",
       "           <span style=\"color: #000080; text-decoration-color: #000080\">│</span>               <span style=\"color: #008000; text-decoration-color: #008000\">import Color\\ncolor = </span>                           <span style=\"color: #000080; text-decoration-color: #000080\">│</span>                \n",
       "           <span style=\"color: #000080; text-decoration-color: #000080\">│</span>               <span style=\"color: #008000; text-decoration-color: #008000\">Color.parse(\"red\")\\ninspect(color, </span>              <span style=\"color: #000080; text-decoration-color: #000080\">│</span>                \n",
       "           <span style=\"color: #000080; text-decoration-color: #000080\">│</span>               <span style=\"color: #008000; text-decoration-color: #008000\">methods=True)'</span>,                                  <span style=\"color: #000080; text-decoration-color: #000080\">│</span>                \n",
       "           <span style=\"color: #000080; text-decoration-color: #000080\">│</span>                   <span style=\"color: #008000; text-decoration-color: #008000\">'from rich.console import Console\\nconsole =</span> <span style=\"color: #000080; text-decoration-color: #000080\">│</span>                \n",
       "           <span style=\"color: #000080; text-decoration-color: #000080\">│</span>               <span style=\"color: #008000; text-decoration-color: #008000\">Console()'</span>,                                      <span style=\"color: #000080; text-decoration-color: #000080\">│</span>                \n",
       "           <span style=\"color: #000080; text-decoration-color: #000080\">│</span>                   <span style=\"color: #008000; text-decoration-color: #008000\">'console.print([1, 2, </span>                       <span style=\"color: #000080; text-decoration-color: #000080\">│</span>                \n",
       "           <span style=\"color: #000080; text-decoration-color: #000080\">│</span>               <span style=\"color: #008000; text-decoration-color: #008000\">3])\\nconsole.print(\"[blue underline]Looks like a</span> <span style=\"color: #000080; text-decoration-color: #000080\">│</span>                \n",
       "           <span style=\"color: #000080; text-decoration-color: #000080\">│</span>               <span style=\"color: #008000; text-decoration-color: #008000\">link\")\\nconsole.print(\"FOO\", style=\"white on </span>    <span style=\"color: #000080; text-decoration-color: #000080\">│</span>                \n",
       "           <span style=\"color: #000080; text-decoration-color: #000080\">│</span>               <span style=\"color: #008000; text-decoration-color: #008000\">blue\")\\nconsole.print({\"apples\": 10, \"oranges\": </span> <span style=\"color: #000080; text-decoration-color: #000080\">│</span>                \n",
       "           <span style=\"color: #000080; text-decoration-color: #000080\">│</span>               <span style=\"color: #008000; text-decoration-color: #008000\">15, \"tomatos\": 0})'</span>,                             <span style=\"color: #000080; text-decoration-color: #000080\">│</span>                \n",
       "           <span style=\"color: #000080; text-decoration-color: #000080\">│</span>                   <span style=\"color: #008000; text-decoration-color: #008000\">'console.log(\"Hello, World!\")'</span>,              <span style=\"color: #000080; text-decoration-color: #000080\">│</span>                \n",
       "           <span style=\"color: #000080; text-decoration-color: #000080\">│</span>                   <span style=\"color: #008000; text-decoration-color: #008000\">'console.log(\"Hello, World!\", </span>               <span style=\"color: #000080; text-decoration-color: #000080\">│</span>                \n",
       "           <span style=\"color: #000080; text-decoration-color: #000080\">│</span>               <span style=\"color: #008000; text-decoration-color: #008000\">log_locals=True)'</span>                                <span style=\"color: #000080; text-decoration-color: #000080\">│</span>                \n",
       "           <span style=\"color: #000080; text-decoration-color: #000080\">│</span>               <span style=\"font-weight: bold\">]</span>                                                <span style=\"color: #000080; text-decoration-color: #000080\">│</span>                \n",
       "           <span style=\"color: #000080; text-decoration-color: #000080\">│</span>         <span style=\"color: #808000; text-decoration-color: #808000; font-style: italic\">_ii</span><span style=\"color: #800000; text-decoration-color: #800000\"> =</span> <span style=\"color: #008000; text-decoration-color: #008000\">'console.print([1, 2, 3])\\nconsole.print(\"[blue </span> <span style=\"color: #000080; text-decoration-color: #000080\">│</span>                \n",
       "           <span style=\"color: #000080; text-decoration-color: #000080\">│</span>               <span style=\"color: #008000; text-decoration-color: #008000\">underline]Looks like a </span>                          <span style=\"color: #000080; text-decoration-color: #000080\">│</span>                \n",
       "           <span style=\"color: #000080; text-decoration-color: #000080\">│</span>               <span style=\"color: #008000; text-decoration-color: #008000\">link\")\\nconsole.print(\"FOO\", style=\"white on </span>    <span style=\"color: #000080; text-decoration-color: #000080\">│</span>                \n",
       "           <span style=\"color: #000080; text-decoration-color: #000080\">│</span>               <span style=\"color: #008000; text-decoration-color: #008000\">blue\")\\nconsole.print({\"apples\": 10, \"oranges\": </span> <span style=\"color: #000080; text-decoration-color: #000080\">│</span>                \n",
       "           <span style=\"color: #000080; text-decoration-color: #000080\">│</span>               <span style=\"color: #008000; text-decoration-color: #008000\">15, \"tomatos\": 0})'</span>                              <span style=\"color: #000080; text-decoration-color: #000080\">│</span>                \n",
       "           <span style=\"color: #000080; text-decoration-color: #000080\">│</span>        <span style=\"color: #808000; text-decoration-color: #808000; font-style: italic\">_iii</span><span style=\"color: #800000; text-decoration-color: #800000\"> =</span> <span style=\"color: #008000; text-decoration-color: #008000\">'from rich.console import Console\\nconsole = </span>    <span style=\"color: #000080; text-decoration-color: #000080\">│</span>                \n",
       "           <span style=\"color: #000080; text-decoration-color: #000080\">│</span>               <span style=\"color: #008000; text-decoration-color: #008000\">Console()'</span>                                       <span style=\"color: #000080; text-decoration-color: #000080\">│</span>                \n",
       "           <span style=\"color: #000080; text-decoration-color: #000080\">│</span>         <span style=\"color: #808000; text-decoration-color: #808000; font-style: italic\">_oh</span><span style=\"color: #800000; text-decoration-color: #800000\"> =</span> <span style=\"font-weight: bold\">{}</span>                                               <span style=\"color: #000080; text-decoration-color: #000080\">│</span>                \n",
       "           <span style=\"color: #000080; text-decoration-color: #000080\">│</span>       <span style=\"color: #808000; text-decoration-color: #808000; font-style: italic\">Color</span><span style=\"color: #800000; text-decoration-color: #800000\"> =</span> <span style=\"font-weight: bold\">&lt;</span><span style=\"color: #ff00ff; text-decoration-color: #ff00ff; font-weight: bold\">class</span><span style=\"color: #000000; text-decoration-color: #000000\"> </span><span style=\"color: #008000; text-decoration-color: #008000\">'rich.color.Color'</span><span style=\"font-weight: bold\">&gt;</span>                       <span style=\"color: #000080; text-decoration-color: #000080\">│</span>                \n",
       "           <span style=\"color: #000080; text-decoration-color: #000080\">│</span>       <span style=\"color: #808000; text-decoration-color: #808000; font-style: italic\">color</span><span style=\"color: #800000; text-decoration-color: #800000\"> =</span> <span style=\"color: #800080; text-decoration-color: #800080; font-weight: bold\">Color</span><span style=\"font-weight: bold\">(</span><span style=\"color: #008000; text-decoration-color: #008000\">'red'</span>, ColorType.STANDARD, <span style=\"color: #808000; text-decoration-color: #808000\">number</span>=<span style=\"color: #008080; text-decoration-color: #008080; font-weight: bold\">1</span><span style=\"font-weight: bold\">)</span>       <span style=\"color: #000080; text-decoration-color: #000080\">│</span>                \n",
       "           <span style=\"color: #000080; text-decoration-color: #000080\">│</span>     <span style=\"color: #808000; text-decoration-color: #808000; font-style: italic\">Console</span><span style=\"color: #800000; text-decoration-color: #800000\"> =</span> <span style=\"font-weight: bold\">&lt;</span><span style=\"color: #ff00ff; text-decoration-color: #ff00ff; font-weight: bold\">class</span><span style=\"color: #000000; text-decoration-color: #000000\"> </span><span style=\"color: #008000; text-decoration-color: #008000\">'rich.console.Console'</span><span style=\"font-weight: bold\">&gt;</span>                   <span style=\"color: #000080; text-decoration-color: #000080\">│</span>                \n",
       "           <span style=\"color: #000080; text-decoration-color: #000080\">│</span>     <span style=\"color: #808000; text-decoration-color: #808000; font-style: italic\">console</span><span style=\"color: #800000; text-decoration-color: #800000\"> =</span> <span style=\"font-weight: bold\">&lt;</span><span style=\"color: #ff00ff; text-decoration-color: #ff00ff; font-weight: bold\">console</span><span style=\"color: #000000; text-decoration-color: #000000\"> </span><span style=\"color: #808000; text-decoration-color: #808000\">width</span><span style=\"color: #000000; text-decoration-color: #000000\">=</span><span style=\"color: #008080; text-decoration-color: #008080; font-weight: bold\">93</span><span style=\"color: #000000; text-decoration-color: #000000\"> ColorSystem.TRUECOLOR</span><span style=\"font-weight: bold\">&gt;</span>         <span style=\"color: #000080; text-decoration-color: #000080\">│</span>                \n",
       "           <span style=\"color: #000080; text-decoration-color: #000080\">│</span>        <span style=\"color: #808000; text-decoration-color: #808000; font-style: italic\">exit</span><span style=\"color: #800000; text-decoration-color: #800000\"> =</span> <span style=\"font-weight: bold\">&lt;</span><span style=\"color: #ff00ff; text-decoration-color: #ff00ff; font-weight: bold\">IPython.core.autocall.ZMQExitAutocall</span><span style=\"color: #000000; text-decoration-color: #000000\"> object at</span> <span style=\"color: #000080; text-decoration-color: #000080\">│</span>                \n",
       "           <span style=\"color: #000080; text-decoration-color: #000080\">│</span>               <span style=\"color: #008080; text-decoration-color: #008080; font-weight: bold\">0x7f2c00146370</span><span style=\"font-weight: bold\">&gt;</span>                                  <span style=\"color: #000080; text-decoration-color: #000080\">│</span>                \n",
       "           <span style=\"color: #000080; text-decoration-color: #000080\">│</span> <span style=\"color: #808000; text-decoration-color: #808000; font-style: italic\">get_ipython</span><span style=\"color: #800000; text-decoration-color: #800000\"> =</span> <span style=\"font-weight: bold\">&lt;</span><span style=\"color: #ff00ff; text-decoration-color: #ff00ff; font-weight: bold\">bound</span><span style=\"color: #000000; text-decoration-color: #000000\"> method InteractiveShell.get_ipython of </span>   <span style=\"color: #000080; text-decoration-color: #000080\">│</span>                \n",
       "           <span style=\"color: #000080; text-decoration-color: #000080\">│</span>               <span style=\"color: #000000; text-decoration-color: #000000\">&lt;ipykernel.zmqshell.ZMQInteractiveShell object </span>  <span style=\"color: #000080; text-decoration-color: #000080\">│</span>                \n",
       "           <span style=\"color: #000080; text-decoration-color: #000080\">│</span>               <span style=\"color: #000000; text-decoration-color: #000000\">at </span><span style=\"color: #008080; text-decoration-color: #008080; font-weight: bold\">0x7f2c011f36a0</span><span style=\"font-weight: bold\">&gt;</span>&gt;                              <span style=\"color: #000080; text-decoration-color: #000080\">│</span>                \n",
       "           <span style=\"color: #000080; text-decoration-color: #000080\">│</span>          <span style=\"color: #808000; text-decoration-color: #808000; font-style: italic\">In</span><span style=\"color: #800000; text-decoration-color: #800000\"> =</span> <span style=\"font-weight: bold\">[</span>                                                <span style=\"color: #000080; text-decoration-color: #000080\">│</span>                \n",
       "           <span style=\"color: #000080; text-decoration-color: #000080\">│</span>                   <span style=\"color: #008000; text-decoration-color: #008000\">''</span>,                                          <span style=\"color: #000080; text-decoration-color: #000080\">│</span>                \n",
       "           <span style=\"color: #000080; text-decoration-color: #000080\">│</span>                   <span style=\"color: #008000; text-decoration-color: #008000\">\"get_ipython().run_line_magic('load_ext', </span>   <span style=\"color: #000080; text-decoration-color: #000080\">│</span>                \n",
       "           <span style=\"color: #000080; text-decoration-color: #000080\">│</span>               <span style=\"color: #008000; text-decoration-color: #008000\">'rich')\\nimport rich\"</span>,                           <span style=\"color: #000080; text-decoration-color: #000080\">│</span>                \n",
       "           <span style=\"color: #000080; text-decoration-color: #000080\">│</span>                   <span style=\"color: #008000; text-decoration-color: #008000\">'from rich import print'</span>,                    <span style=\"color: #000080; text-decoration-color: #000080\">│</span>                \n",
       "           <span style=\"color: #000080; text-decoration-color: #000080\">│</span>                   <span style=\"color: #008000; text-decoration-color: #008000\">'print(\"[italic red]Hello[/italic red] </span>      <span style=\"color: #000080; text-decoration-color: #000080\">│</span>                \n",
       "           <span style=\"color: #000080; text-decoration-color: #000080\">│</span>               <span style=\"color: #008000; text-decoration-color: #008000\">World!\")'</span>,                                       <span style=\"color: #000080; text-decoration-color: #000080\">│</span>                \n",
       "           <span style=\"color: #000080; text-decoration-color: #000080\">│</span>                   <span style=\"color: #008000; text-decoration-color: #008000\">'print(locals())'</span>,                           <span style=\"color: #000080; text-decoration-color: #000080\">│</span>                \n",
       "           <span style=\"color: #000080; text-decoration-color: #000080\">│</span>                   <span style=\"color: #008000; text-decoration-color: #008000\">'from rich import inspect\\nfrom rich.color </span>  <span style=\"color: #000080; text-decoration-color: #000080\">│</span>                \n",
       "           <span style=\"color: #000080; text-decoration-color: #000080\">│</span>               <span style=\"color: #008000; text-decoration-color: #008000\">import Color\\ncolor = </span>                           <span style=\"color: #000080; text-decoration-color: #000080\">│</span>                \n",
       "           <span style=\"color: #000080; text-decoration-color: #000080\">│</span>               <span style=\"color: #008000; text-decoration-color: #008000\">Color.parse(\"red\")\\ninspect(color, </span>              <span style=\"color: #000080; text-decoration-color: #000080\">│</span>                \n",
       "           <span style=\"color: #000080; text-decoration-color: #000080\">│</span>               <span style=\"color: #008000; text-decoration-color: #008000\">methods=True)'</span>,                                  <span style=\"color: #000080; text-decoration-color: #000080\">│</span>                \n",
       "           <span style=\"color: #000080; text-decoration-color: #000080\">│</span>                   <span style=\"color: #008000; text-decoration-color: #008000\">'from rich.console import Console\\nconsole =</span> <span style=\"color: #000080; text-decoration-color: #000080\">│</span>                \n",
       "           <span style=\"color: #000080; text-decoration-color: #000080\">│</span>               <span style=\"color: #008000; text-decoration-color: #008000\">Console()'</span>,                                      <span style=\"color: #000080; text-decoration-color: #000080\">│</span>                \n",
       "           <span style=\"color: #000080; text-decoration-color: #000080\">│</span>                   <span style=\"color: #008000; text-decoration-color: #008000\">'console.print([1, 2, </span>                       <span style=\"color: #000080; text-decoration-color: #000080\">│</span>                \n",
       "           <span style=\"color: #000080; text-decoration-color: #000080\">│</span>               <span style=\"color: #008000; text-decoration-color: #008000\">3])\\nconsole.print(\"[blue underline]Looks like a</span> <span style=\"color: #000080; text-decoration-color: #000080\">│</span>                \n",
       "           <span style=\"color: #000080; text-decoration-color: #000080\">│</span>               <span style=\"color: #008000; text-decoration-color: #008000\">link\")\\nconsole.print(\"FOO\", style=\"white on </span>    <span style=\"color: #000080; text-decoration-color: #000080\">│</span>                \n",
       "           <span style=\"color: #000080; text-decoration-color: #000080\">│</span>               <span style=\"color: #008000; text-decoration-color: #008000\">blue\")\\nconsole.print({\"apples\": 10, \"oranges\": </span> <span style=\"color: #000080; text-decoration-color: #000080\">│</span>                \n",
       "           <span style=\"color: #000080; text-decoration-color: #000080\">│</span>               <span style=\"color: #008000; text-decoration-color: #008000\">15, \"tomatos\": 0})'</span>,                             <span style=\"color: #000080; text-decoration-color: #000080\">│</span>                \n",
       "           <span style=\"color: #000080; text-decoration-color: #000080\">│</span>                   <span style=\"color: #008000; text-decoration-color: #008000\">'console.log(\"Hello, World!\")'</span>,              <span style=\"color: #000080; text-decoration-color: #000080\">│</span>                \n",
       "           <span style=\"color: #000080; text-decoration-color: #000080\">│</span>                   <span style=\"color: #008000; text-decoration-color: #008000\">'console.log(\"Hello, World!\", </span>               <span style=\"color: #000080; text-decoration-color: #000080\">│</span>                \n",
       "           <span style=\"color: #000080; text-decoration-color: #000080\">│</span>               <span style=\"color: #008000; text-decoration-color: #008000\">log_locals=True)'</span>                                <span style=\"color: #000080; text-decoration-color: #000080\">│</span>                \n",
       "           <span style=\"color: #000080; text-decoration-color: #000080\">│</span>               <span style=\"font-weight: bold\">]</span>                                                <span style=\"color: #000080; text-decoration-color: #000080\">│</span>                \n",
       "           <span style=\"color: #000080; text-decoration-color: #000080\">│</span>     <span style=\"color: #808000; text-decoration-color: #808000; font-style: italic\">inspect</span><span style=\"color: #800000; text-decoration-color: #800000\"> =</span> <span style=\"font-weight: bold\">&lt;</span><span style=\"color: #ff00ff; text-decoration-color: #ff00ff; font-weight: bold\">function</span><span style=\"color: #000000; text-decoration-color: #000000\"> inspect at </span><span style=\"color: #008080; text-decoration-color: #008080; font-weight: bold\">0x7f2c0010f4c0</span><span style=\"font-weight: bold\">&gt;</span>             <span style=\"color: #000080; text-decoration-color: #000080\">│</span>                \n",
       "           <span style=\"color: #000080; text-decoration-color: #000080\">│</span>         <span style=\"color: #808000; text-decoration-color: #808000; font-style: italic\">Out</span><span style=\"color: #800000; text-decoration-color: #800000\"> =</span> <span style=\"font-weight: bold\">{}</span>                                               <span style=\"color: #000080; text-decoration-color: #000080\">│</span>                \n",
       "           <span style=\"color: #000080; text-decoration-color: #000080\">│</span>       <span style=\"color: #808000; text-decoration-color: #808000; font-style: italic\">print</span><span style=\"color: #800000; text-decoration-color: #800000\"> =</span> <span style=\"font-weight: bold\">&lt;</span><span style=\"color: #ff00ff; text-decoration-color: #ff00ff; font-weight: bold\">function</span><span style=\"color: #000000; text-decoration-color: #000000\"> print at </span><span style=\"color: #008080; text-decoration-color: #008080; font-weight: bold\">0x7f2c0010f3a0</span><span style=\"font-weight: bold\">&gt;</span>               <span style=\"color: #000080; text-decoration-color: #000080\">│</span>                \n",
       "           <span style=\"color: #000080; text-decoration-color: #000080\">│</span>        <span style=\"color: #808000; text-decoration-color: #808000; font-style: italic\">quit</span><span style=\"color: #800000; text-decoration-color: #800000\"> =</span> <span style=\"font-weight: bold\">&lt;</span><span style=\"color: #ff00ff; text-decoration-color: #ff00ff; font-weight: bold\">IPython.core.autocall.ZMQExitAutocall</span><span style=\"color: #000000; text-decoration-color: #000000\"> object at</span> <span style=\"color: #000080; text-decoration-color: #000080\">│</span>                \n",
       "           <span style=\"color: #000080; text-decoration-color: #000080\">│</span>               <span style=\"color: #008080; text-decoration-color: #008080; font-weight: bold\">0x7f2c00146370</span><span style=\"font-weight: bold\">&gt;</span>                                  <span style=\"color: #000080; text-decoration-color: #000080\">│</span>                \n",
       "           <span style=\"color: #000080; text-decoration-color: #000080\">│</span>        <span style=\"color: #808000; text-decoration-color: #808000; font-style: italic\">rich</span><span style=\"color: #800000; text-decoration-color: #800000\"> =</span> <span style=\"font-weight: bold\">&lt;</span><span style=\"color: #ff00ff; text-decoration-color: #ff00ff; font-weight: bold\">module</span><span style=\"color: #000000; text-decoration-color: #000000\"> </span><span style=\"color: #008000; text-decoration-color: #008000\">'rich'</span><span style=\"color: #000000; text-decoration-color: #000000\"> from </span>                             <span style=\"color: #000080; text-decoration-color: #000080\">│</span>                \n",
       "           <span style=\"color: #000080; text-decoration-color: #000080\">│</span>               <span style=\"color: #008000; text-decoration-color: #008000\">'/home/mkoenig/envs/rich/lib/python3.8/site-pac…</span> <span style=\"color: #000080; text-decoration-color: #000080\">│</span>                \n",
       "           <span style=\"color: #000080; text-decoration-color: #000080\">╰────────────────────────────────────────────────────────────────╯</span>                \n",
       "</pre>\n"
      ],
      "text/plain": [
       "\u001b[2;36m[13:27:53]\u001b[0m\u001b[2;36m \u001b[0mHello, World!                                                      \u001b]8;id=230443;file:///tmp/ipykernel_266372/2519546579.py\u001b\\\u001b[2m2519546579.py\u001b[0m\u001b]8;;\u001b\\\u001b[2m:1\u001b[0m\n",
       "           \u001b[34m╭─\u001b[0m\u001b[34m─────────────────────────── \u001b[0m\u001b[3;34mlocals\u001b[0m\u001b[34m ───────────────────────────\u001b[0m\u001b[34m─╮\u001b[0m                \n",
       "           \u001b[34m│\u001b[0m           \u001b[3;33m_\u001b[0m\u001b[31m =\u001b[0m \u001b[32m''\u001b[0m                                               \u001b[34m│\u001b[0m                \n",
       "           \u001b[34m│\u001b[0m         \u001b[3;33m_dh\u001b[0m\u001b[31m =\u001b[0m \u001b[1m[\u001b[0m\u001b[32m'/home/mkoenig/git/itbtechtalks/talks/19_rich'\u001b[0m\u001b[1m]\u001b[0m \u001b[34m│\u001b[0m                \n",
       "           \u001b[34m│\u001b[0m          \u001b[3;33m_i\u001b[0m\u001b[31m =\u001b[0m \u001b[32m'console.log\u001b[0m\u001b[32m(\u001b[0m\u001b[32m\"Hello, World!\"\u001b[0m\u001b[32m)\u001b[0m\u001b[32m'\u001b[0m                   \u001b[34m│\u001b[0m                \n",
       "           \u001b[34m│\u001b[0m         \u001b[3;33m_i1\u001b[0m\u001b[31m =\u001b[0m \u001b[32m'%load_ext rich\\nimport rich'\u001b[0m                    \u001b[34m│\u001b[0m                \n",
       "           \u001b[34m│\u001b[0m         \u001b[3;33m_i2\u001b[0m\u001b[31m =\u001b[0m \u001b[32m'from rich import print'\u001b[0m                         \u001b[34m│\u001b[0m                \n",
       "           \u001b[34m│\u001b[0m         \u001b[3;33m_i3\u001b[0m\u001b[31m =\u001b[0m \u001b[32m'print\u001b[0m\u001b[32m(\u001b[0m\u001b[32m\"\u001b[0m\u001b[32m[\u001b[0m\u001b[32mitalic red\u001b[0m\u001b[32m]\u001b[0m\u001b[32mHello\u001b[0m\u001b[32m[\u001b[0m\u001b[32m/italic red\u001b[0m\u001b[32m]\u001b[0m\u001b[32m World!\"\u001b[0m\u001b[32m)\u001b[0m\u001b[32m'\u001b[0m \u001b[34m│\u001b[0m                \n",
       "           \u001b[34m│\u001b[0m         \u001b[3;33m_i4\u001b[0m\u001b[31m =\u001b[0m \u001b[32m'print\u001b[0m\u001b[32m(\u001b[0m\u001b[32mlocals\u001b[0m\u001b[32m(\u001b[0m\u001b[32m)\u001b[0m\u001b[32m)\u001b[0m\u001b[32m'\u001b[0m                                \u001b[34m│\u001b[0m                \n",
       "           \u001b[34m│\u001b[0m         \u001b[3;33m_i5\u001b[0m\u001b[31m =\u001b[0m \u001b[32m'from rich import inspect\\nfrom rich.color \u001b[0m      \u001b[34m│\u001b[0m                \n",
       "           \u001b[34m│\u001b[0m               \u001b[32mimport Color\\ncolor = \u001b[0m                           \u001b[34m│\u001b[0m                \n",
       "           \u001b[34m│\u001b[0m               \u001b[32mColor.parse\u001b[0m\u001b[32m(\u001b[0m\u001b[32m\"red\"\u001b[0m\u001b[32m)\u001b[0m\u001b[32m\\ninspect\u001b[0m\u001b[32m(\u001b[0m\u001b[32mcolor, \u001b[0m              \u001b[34m│\u001b[0m                \n",
       "           \u001b[34m│\u001b[0m               \u001b[32mmethods\u001b[0m\u001b[32m=\u001b[0m\u001b[32mTrue\u001b[0m\u001b[32m)\u001b[0m\u001b[32m'\u001b[0m                                   \u001b[34m│\u001b[0m                \n",
       "           \u001b[34m│\u001b[0m         \u001b[3;33m_i6\u001b[0m\u001b[31m =\u001b[0m \u001b[32m'from rich.console import Console\\nconsole = \u001b[0m    \u001b[34m│\u001b[0m                \n",
       "           \u001b[34m│\u001b[0m               \u001b[32mConsole\u001b[0m\u001b[32m(\u001b[0m\u001b[32m)\u001b[0m\u001b[32m'\u001b[0m                                       \u001b[34m│\u001b[0m                \n",
       "           \u001b[34m│\u001b[0m         \u001b[3;33m_i7\u001b[0m\u001b[31m =\u001b[0m \u001b[32m'console.print\u001b[0m\u001b[32m(\u001b[0m\u001b[32m[\u001b[0m\u001b[32m1, 2, 3\u001b[0m\u001b[32m]\u001b[0m\u001b[32m)\u001b[0m\u001b[32m\\nconsole.print\u001b[0m\u001b[32m(\u001b[0m\u001b[32m\"\u001b[0m\u001b[32m[\u001b[0m\u001b[32mblue \u001b[0m \u001b[34m│\u001b[0m                \n",
       "           \u001b[34m│\u001b[0m               \u001b[32munderline\u001b[0m\u001b[32m]\u001b[0m\u001b[32mLooks like a \u001b[0m                          \u001b[34m│\u001b[0m                \n",
       "           \u001b[34m│\u001b[0m               \u001b[32mlink\"\u001b[0m\u001b[32m)\u001b[0m\u001b[32m\\nconsole.print\u001b[0m\u001b[32m(\u001b[0m\u001b[32m\"FOO\", \u001b[0m\u001b[32mstyle\u001b[0m\u001b[32m=\u001b[0m\u001b[32m\"white\u001b[0m\u001b[32m on \u001b[0m    \u001b[34m│\u001b[0m                \n",
       "           \u001b[34m│\u001b[0m               \u001b[32mblue\"\u001b[0m\u001b[32m)\u001b[0m\u001b[32m\\nconsole.print\u001b[0m\u001b[32m(\u001b[0m\u001b[32m{\u001b[0m\u001b[32m\"apples\": 10, \"oranges\": \u001b[0m \u001b[34m│\u001b[0m                \n",
       "           \u001b[34m│\u001b[0m               \u001b[32m15, \"tomatos\": 0\u001b[0m\u001b[32m}\u001b[0m\u001b[32m)\u001b[0m\u001b[32m'\u001b[0m                              \u001b[34m│\u001b[0m                \n",
       "           \u001b[34m│\u001b[0m         \u001b[3;33m_i8\u001b[0m\u001b[31m =\u001b[0m \u001b[32m'console.log\u001b[0m\u001b[32m(\u001b[0m\u001b[32m\"Hello, World!\"\u001b[0m\u001b[32m)\u001b[0m\u001b[32m'\u001b[0m                   \u001b[34m│\u001b[0m                \n",
       "           \u001b[34m│\u001b[0m         \u001b[3;33m_i9\u001b[0m\u001b[31m =\u001b[0m \u001b[32m'console.log\u001b[0m\u001b[32m(\u001b[0m\u001b[32m\"Hello, World!\", \u001b[0m\u001b[32mlog_locals\u001b[0m\u001b[32m=\u001b[0m\u001b[32mTrue\u001b[0m\u001b[32m)\u001b[0m\u001b[32m'\u001b[0m  \u001b[34m│\u001b[0m                \n",
       "           \u001b[34m│\u001b[0m         \u001b[3;33m_ih\u001b[0m\u001b[31m =\u001b[0m \u001b[1m[\u001b[0m                                                \u001b[34m│\u001b[0m                \n",
       "           \u001b[34m│\u001b[0m                   \u001b[32m''\u001b[0m,                                          \u001b[34m│\u001b[0m                \n",
       "           \u001b[34m│\u001b[0m                   \u001b[32m\"get_ipython\u001b[0m\u001b[32m(\u001b[0m\u001b[32m)\u001b[0m\u001b[32m.run_line_magic\u001b[0m\u001b[32m(\u001b[0m\u001b[32m'load_ext', \u001b[0m   \u001b[34m│\u001b[0m                \n",
       "           \u001b[34m│\u001b[0m               \u001b[32m'rich'\u001b[0m\u001b[32m)\u001b[0m\u001b[32m\\nimport rich\"\u001b[0m,                           \u001b[34m│\u001b[0m                \n",
       "           \u001b[34m│\u001b[0m                   \u001b[32m'from rich import print'\u001b[0m,                    \u001b[34m│\u001b[0m                \n",
       "           \u001b[34m│\u001b[0m                   \u001b[32m'print\u001b[0m\u001b[32m(\u001b[0m\u001b[32m\"\u001b[0m\u001b[32m[\u001b[0m\u001b[32mitalic red\u001b[0m\u001b[32m]\u001b[0m\u001b[32mHello\u001b[0m\u001b[32m[\u001b[0m\u001b[32m/italic red\u001b[0m\u001b[32m]\u001b[0m\u001b[32m \u001b[0m      \u001b[34m│\u001b[0m                \n",
       "           \u001b[34m│\u001b[0m               \u001b[32mWorld!\"\u001b[0m\u001b[32m)\u001b[0m\u001b[32m'\u001b[0m,                                       \u001b[34m│\u001b[0m                \n",
       "           \u001b[34m│\u001b[0m                   \u001b[32m'print\u001b[0m\u001b[32m(\u001b[0m\u001b[32mlocals\u001b[0m\u001b[32m(\u001b[0m\u001b[32m)\u001b[0m\u001b[32m)\u001b[0m\u001b[32m'\u001b[0m,                           \u001b[34m│\u001b[0m                \n",
       "           \u001b[34m│\u001b[0m                   \u001b[32m'from rich import inspect\\nfrom rich.color \u001b[0m  \u001b[34m│\u001b[0m                \n",
       "           \u001b[34m│\u001b[0m               \u001b[32mimport Color\\ncolor = \u001b[0m                           \u001b[34m│\u001b[0m                \n",
       "           \u001b[34m│\u001b[0m               \u001b[32mColor.parse\u001b[0m\u001b[32m(\u001b[0m\u001b[32m\"red\"\u001b[0m\u001b[32m)\u001b[0m\u001b[32m\\ninspect\u001b[0m\u001b[32m(\u001b[0m\u001b[32mcolor, \u001b[0m              \u001b[34m│\u001b[0m                \n",
       "           \u001b[34m│\u001b[0m               \u001b[32mmethods\u001b[0m\u001b[32m=\u001b[0m\u001b[32mTrue\u001b[0m\u001b[32m)\u001b[0m\u001b[32m'\u001b[0m,                                  \u001b[34m│\u001b[0m                \n",
       "           \u001b[34m│\u001b[0m                   \u001b[32m'from rich.console import Console\\nconsole =\u001b[0m \u001b[34m│\u001b[0m                \n",
       "           \u001b[34m│\u001b[0m               \u001b[32mConsole\u001b[0m\u001b[32m(\u001b[0m\u001b[32m)\u001b[0m\u001b[32m'\u001b[0m,                                      \u001b[34m│\u001b[0m                \n",
       "           \u001b[34m│\u001b[0m                   \u001b[32m'console.print\u001b[0m\u001b[32m(\u001b[0m\u001b[32m[\u001b[0m\u001b[32m1, 2, \u001b[0m                       \u001b[34m│\u001b[0m                \n",
       "           \u001b[34m│\u001b[0m               \u001b[32m3\u001b[0m\u001b[32m]\u001b[0m\u001b[32m)\u001b[0m\u001b[32m\\nconsole.print\u001b[0m\u001b[32m(\u001b[0m\u001b[32m\"\u001b[0m\u001b[32m[\u001b[0m\u001b[32mblue underline\u001b[0m\u001b[32m]\u001b[0m\u001b[32mLooks like a\u001b[0m \u001b[34m│\u001b[0m                \n",
       "           \u001b[34m│\u001b[0m               \u001b[32mlink\"\u001b[0m\u001b[32m)\u001b[0m\u001b[32m\\nconsole.print\u001b[0m\u001b[32m(\u001b[0m\u001b[32m\"FOO\", \u001b[0m\u001b[32mstyle\u001b[0m\u001b[32m=\u001b[0m\u001b[32m\"white\u001b[0m\u001b[32m on \u001b[0m    \u001b[34m│\u001b[0m                \n",
       "           \u001b[34m│\u001b[0m               \u001b[32mblue\"\u001b[0m\u001b[32m)\u001b[0m\u001b[32m\\nconsole.print\u001b[0m\u001b[32m(\u001b[0m\u001b[32m{\u001b[0m\u001b[32m\"apples\": 10, \"oranges\": \u001b[0m \u001b[34m│\u001b[0m                \n",
       "           \u001b[34m│\u001b[0m               \u001b[32m15, \"tomatos\": 0\u001b[0m\u001b[32m}\u001b[0m\u001b[32m)\u001b[0m\u001b[32m'\u001b[0m,                             \u001b[34m│\u001b[0m                \n",
       "           \u001b[34m│\u001b[0m                   \u001b[32m'console.log\u001b[0m\u001b[32m(\u001b[0m\u001b[32m\"Hello, World!\"\u001b[0m\u001b[32m)\u001b[0m\u001b[32m'\u001b[0m,              \u001b[34m│\u001b[0m                \n",
       "           \u001b[34m│\u001b[0m                   \u001b[32m'console.log\u001b[0m\u001b[32m(\u001b[0m\u001b[32m\"Hello, World!\", \u001b[0m               \u001b[34m│\u001b[0m                \n",
       "           \u001b[34m│\u001b[0m               \u001b[32mlog_locals\u001b[0m\u001b[32m=\u001b[0m\u001b[32mTrue\u001b[0m\u001b[32m)\u001b[0m\u001b[32m'\u001b[0m                                \u001b[34m│\u001b[0m                \n",
       "           \u001b[34m│\u001b[0m               \u001b[1m]\u001b[0m                                                \u001b[34m│\u001b[0m                \n",
       "           \u001b[34m│\u001b[0m         \u001b[3;33m_ii\u001b[0m\u001b[31m =\u001b[0m \u001b[32m'console.print\u001b[0m\u001b[32m(\u001b[0m\u001b[32m[\u001b[0m\u001b[32m1, 2, 3\u001b[0m\u001b[32m]\u001b[0m\u001b[32m)\u001b[0m\u001b[32m\\nconsole.print\u001b[0m\u001b[32m(\u001b[0m\u001b[32m\"\u001b[0m\u001b[32m[\u001b[0m\u001b[32mblue \u001b[0m \u001b[34m│\u001b[0m                \n",
       "           \u001b[34m│\u001b[0m               \u001b[32munderline\u001b[0m\u001b[32m]\u001b[0m\u001b[32mLooks like a \u001b[0m                          \u001b[34m│\u001b[0m                \n",
       "           \u001b[34m│\u001b[0m               \u001b[32mlink\"\u001b[0m\u001b[32m)\u001b[0m\u001b[32m\\nconsole.print\u001b[0m\u001b[32m(\u001b[0m\u001b[32m\"FOO\", \u001b[0m\u001b[32mstyle\u001b[0m\u001b[32m=\u001b[0m\u001b[32m\"white\u001b[0m\u001b[32m on \u001b[0m    \u001b[34m│\u001b[0m                \n",
       "           \u001b[34m│\u001b[0m               \u001b[32mblue\"\u001b[0m\u001b[32m)\u001b[0m\u001b[32m\\nconsole.print\u001b[0m\u001b[32m(\u001b[0m\u001b[32m{\u001b[0m\u001b[32m\"apples\": 10, \"oranges\": \u001b[0m \u001b[34m│\u001b[0m                \n",
       "           \u001b[34m│\u001b[0m               \u001b[32m15, \"tomatos\": 0\u001b[0m\u001b[32m}\u001b[0m\u001b[32m)\u001b[0m\u001b[32m'\u001b[0m                              \u001b[34m│\u001b[0m                \n",
       "           \u001b[34m│\u001b[0m        \u001b[3;33m_iii\u001b[0m\u001b[31m =\u001b[0m \u001b[32m'from rich.console import Console\\nconsole = \u001b[0m    \u001b[34m│\u001b[0m                \n",
       "           \u001b[34m│\u001b[0m               \u001b[32mConsole\u001b[0m\u001b[32m(\u001b[0m\u001b[32m)\u001b[0m\u001b[32m'\u001b[0m                                       \u001b[34m│\u001b[0m                \n",
       "           \u001b[34m│\u001b[0m         \u001b[3;33m_oh\u001b[0m\u001b[31m =\u001b[0m \u001b[1m{\u001b[0m\u001b[1m}\u001b[0m                                               \u001b[34m│\u001b[0m                \n",
       "           \u001b[34m│\u001b[0m       \u001b[3;33mColor\u001b[0m\u001b[31m =\u001b[0m \u001b[1m<\u001b[0m\u001b[1;95mclass\u001b[0m\u001b[39m \u001b[0m\u001b[32m'rich.color.Color'\u001b[0m\u001b[1m>\u001b[0m                       \u001b[34m│\u001b[0m                \n",
       "           \u001b[34m│\u001b[0m       \u001b[3;33mcolor\u001b[0m\u001b[31m =\u001b[0m \u001b[1;35mColor\u001b[0m\u001b[1m(\u001b[0m\u001b[32m'red'\u001b[0m, ColorType.STANDARD, \u001b[33mnumber\u001b[0m=\u001b[1;36m1\u001b[0m\u001b[1m)\u001b[0m       \u001b[34m│\u001b[0m                \n",
       "           \u001b[34m│\u001b[0m     \u001b[3;33mConsole\u001b[0m\u001b[31m =\u001b[0m \u001b[1m<\u001b[0m\u001b[1;95mclass\u001b[0m\u001b[39m \u001b[0m\u001b[32m'rich.console.Console'\u001b[0m\u001b[1m>\u001b[0m                   \u001b[34m│\u001b[0m                \n",
       "           \u001b[34m│\u001b[0m     \u001b[3;33mconsole\u001b[0m\u001b[31m =\u001b[0m \u001b[1m<\u001b[0m\u001b[1;95mconsole\u001b[0m\u001b[39m \u001b[0m\u001b[33mwidth\u001b[0m\u001b[39m=\u001b[0m\u001b[1;36m93\u001b[0m\u001b[39m ColorSystem.TRUECOLOR\u001b[0m\u001b[1m>\u001b[0m         \u001b[34m│\u001b[0m                \n",
       "           \u001b[34m│\u001b[0m        \u001b[3;33mexit\u001b[0m\u001b[31m =\u001b[0m \u001b[1m<\u001b[0m\u001b[1;95mIPython.core.autocall.ZMQExitAutocall\u001b[0m\u001b[39m object at\u001b[0m \u001b[34m│\u001b[0m                \n",
       "           \u001b[34m│\u001b[0m               \u001b[1;36m0x7f2c00146370\u001b[0m\u001b[1m>\u001b[0m                                  \u001b[34m│\u001b[0m                \n",
       "           \u001b[34m│\u001b[0m \u001b[3;33mget_ipython\u001b[0m\u001b[31m =\u001b[0m \u001b[1m<\u001b[0m\u001b[1;95mbound\u001b[0m\u001b[39m method InteractiveShell.get_ipython of \u001b[0m   \u001b[34m│\u001b[0m                \n",
       "           \u001b[34m│\u001b[0m               \u001b[39m<ipykernel.zmqshell.ZMQInteractiveShell object \u001b[0m  \u001b[34m│\u001b[0m                \n",
       "           \u001b[34m│\u001b[0m               \u001b[39mat \u001b[0m\u001b[1;36m0x7f2c011f36a0\u001b[0m\u001b[1m>\u001b[0m>                              \u001b[34m│\u001b[0m                \n",
       "           \u001b[34m│\u001b[0m          \u001b[3;33mIn\u001b[0m\u001b[31m =\u001b[0m \u001b[1m[\u001b[0m                                                \u001b[34m│\u001b[0m                \n",
       "           \u001b[34m│\u001b[0m                   \u001b[32m''\u001b[0m,                                          \u001b[34m│\u001b[0m                \n",
       "           \u001b[34m│\u001b[0m                   \u001b[32m\"get_ipython\u001b[0m\u001b[32m(\u001b[0m\u001b[32m)\u001b[0m\u001b[32m.run_line_magic\u001b[0m\u001b[32m(\u001b[0m\u001b[32m'load_ext', \u001b[0m   \u001b[34m│\u001b[0m                \n",
       "           \u001b[34m│\u001b[0m               \u001b[32m'rich'\u001b[0m\u001b[32m)\u001b[0m\u001b[32m\\nimport rich\"\u001b[0m,                           \u001b[34m│\u001b[0m                \n",
       "           \u001b[34m│\u001b[0m                   \u001b[32m'from rich import print'\u001b[0m,                    \u001b[34m│\u001b[0m                \n",
       "           \u001b[34m│\u001b[0m                   \u001b[32m'print\u001b[0m\u001b[32m(\u001b[0m\u001b[32m\"\u001b[0m\u001b[32m[\u001b[0m\u001b[32mitalic red\u001b[0m\u001b[32m]\u001b[0m\u001b[32mHello\u001b[0m\u001b[32m[\u001b[0m\u001b[32m/italic red\u001b[0m\u001b[32m]\u001b[0m\u001b[32m \u001b[0m      \u001b[34m│\u001b[0m                \n",
       "           \u001b[34m│\u001b[0m               \u001b[32mWorld!\"\u001b[0m\u001b[32m)\u001b[0m\u001b[32m'\u001b[0m,                                       \u001b[34m│\u001b[0m                \n",
       "           \u001b[34m│\u001b[0m                   \u001b[32m'print\u001b[0m\u001b[32m(\u001b[0m\u001b[32mlocals\u001b[0m\u001b[32m(\u001b[0m\u001b[32m)\u001b[0m\u001b[32m)\u001b[0m\u001b[32m'\u001b[0m,                           \u001b[34m│\u001b[0m                \n",
       "           \u001b[34m│\u001b[0m                   \u001b[32m'from rich import inspect\\nfrom rich.color \u001b[0m  \u001b[34m│\u001b[0m                \n",
       "           \u001b[34m│\u001b[0m               \u001b[32mimport Color\\ncolor = \u001b[0m                           \u001b[34m│\u001b[0m                \n",
       "           \u001b[34m│\u001b[0m               \u001b[32mColor.parse\u001b[0m\u001b[32m(\u001b[0m\u001b[32m\"red\"\u001b[0m\u001b[32m)\u001b[0m\u001b[32m\\ninspect\u001b[0m\u001b[32m(\u001b[0m\u001b[32mcolor, \u001b[0m              \u001b[34m│\u001b[0m                \n",
       "           \u001b[34m│\u001b[0m               \u001b[32mmethods\u001b[0m\u001b[32m=\u001b[0m\u001b[32mTrue\u001b[0m\u001b[32m)\u001b[0m\u001b[32m'\u001b[0m,                                  \u001b[34m│\u001b[0m                \n",
       "           \u001b[34m│\u001b[0m                   \u001b[32m'from rich.console import Console\\nconsole =\u001b[0m \u001b[34m│\u001b[0m                \n",
       "           \u001b[34m│\u001b[0m               \u001b[32mConsole\u001b[0m\u001b[32m(\u001b[0m\u001b[32m)\u001b[0m\u001b[32m'\u001b[0m,                                      \u001b[34m│\u001b[0m                \n",
       "           \u001b[34m│\u001b[0m                   \u001b[32m'console.print\u001b[0m\u001b[32m(\u001b[0m\u001b[32m[\u001b[0m\u001b[32m1, 2, \u001b[0m                       \u001b[34m│\u001b[0m                \n",
       "           \u001b[34m│\u001b[0m               \u001b[32m3\u001b[0m\u001b[32m]\u001b[0m\u001b[32m)\u001b[0m\u001b[32m\\nconsole.print\u001b[0m\u001b[32m(\u001b[0m\u001b[32m\"\u001b[0m\u001b[32m[\u001b[0m\u001b[32mblue underline\u001b[0m\u001b[32m]\u001b[0m\u001b[32mLooks like a\u001b[0m \u001b[34m│\u001b[0m                \n",
       "           \u001b[34m│\u001b[0m               \u001b[32mlink\"\u001b[0m\u001b[32m)\u001b[0m\u001b[32m\\nconsole.print\u001b[0m\u001b[32m(\u001b[0m\u001b[32m\"FOO\", \u001b[0m\u001b[32mstyle\u001b[0m\u001b[32m=\u001b[0m\u001b[32m\"white\u001b[0m\u001b[32m on \u001b[0m    \u001b[34m│\u001b[0m                \n",
       "           \u001b[34m│\u001b[0m               \u001b[32mblue\"\u001b[0m\u001b[32m)\u001b[0m\u001b[32m\\nconsole.print\u001b[0m\u001b[32m(\u001b[0m\u001b[32m{\u001b[0m\u001b[32m\"apples\": 10, \"oranges\": \u001b[0m \u001b[34m│\u001b[0m                \n",
       "           \u001b[34m│\u001b[0m               \u001b[32m15, \"tomatos\": 0\u001b[0m\u001b[32m}\u001b[0m\u001b[32m)\u001b[0m\u001b[32m'\u001b[0m,                             \u001b[34m│\u001b[0m                \n",
       "           \u001b[34m│\u001b[0m                   \u001b[32m'console.log\u001b[0m\u001b[32m(\u001b[0m\u001b[32m\"Hello, World!\"\u001b[0m\u001b[32m)\u001b[0m\u001b[32m'\u001b[0m,              \u001b[34m│\u001b[0m                \n",
       "           \u001b[34m│\u001b[0m                   \u001b[32m'console.log\u001b[0m\u001b[32m(\u001b[0m\u001b[32m\"Hello, World!\", \u001b[0m               \u001b[34m│\u001b[0m                \n",
       "           \u001b[34m│\u001b[0m               \u001b[32mlog_locals\u001b[0m\u001b[32m=\u001b[0m\u001b[32mTrue\u001b[0m\u001b[32m)\u001b[0m\u001b[32m'\u001b[0m                                \u001b[34m│\u001b[0m                \n",
       "           \u001b[34m│\u001b[0m               \u001b[1m]\u001b[0m                                                \u001b[34m│\u001b[0m                \n",
       "           \u001b[34m│\u001b[0m     \u001b[3;33minspect\u001b[0m\u001b[31m =\u001b[0m \u001b[1m<\u001b[0m\u001b[1;95mfunction\u001b[0m\u001b[39m inspect at \u001b[0m\u001b[1;36m0x7f2c0010f4c0\u001b[0m\u001b[1m>\u001b[0m             \u001b[34m│\u001b[0m                \n",
       "           \u001b[34m│\u001b[0m         \u001b[3;33mOut\u001b[0m\u001b[31m =\u001b[0m \u001b[1m{\u001b[0m\u001b[1m}\u001b[0m                                               \u001b[34m│\u001b[0m                \n",
       "           \u001b[34m│\u001b[0m       \u001b[3;33mprint\u001b[0m\u001b[31m =\u001b[0m \u001b[1m<\u001b[0m\u001b[1;95mfunction\u001b[0m\u001b[39m print at \u001b[0m\u001b[1;36m0x7f2c0010f3a0\u001b[0m\u001b[1m>\u001b[0m               \u001b[34m│\u001b[0m                \n",
       "           \u001b[34m│\u001b[0m        \u001b[3;33mquit\u001b[0m\u001b[31m =\u001b[0m \u001b[1m<\u001b[0m\u001b[1;95mIPython.core.autocall.ZMQExitAutocall\u001b[0m\u001b[39m object at\u001b[0m \u001b[34m│\u001b[0m                \n",
       "           \u001b[34m│\u001b[0m               \u001b[1;36m0x7f2c00146370\u001b[0m\u001b[1m>\u001b[0m                                  \u001b[34m│\u001b[0m                \n",
       "           \u001b[34m│\u001b[0m        \u001b[3;33mrich\u001b[0m\u001b[31m =\u001b[0m \u001b[1m<\u001b[0m\u001b[1;95mmodule\u001b[0m\u001b[39m \u001b[0m\u001b[32m'rich'\u001b[0m\u001b[39m from \u001b[0m                             \u001b[34m│\u001b[0m                \n",
       "           \u001b[34m│\u001b[0m               \u001b[32m'/home/mkoenig/envs/rich/lib/python3.8/site-pac…\u001b[0m \u001b[34m│\u001b[0m                \n",
       "           \u001b[34m╰────────────────────────────────────────────────────────────────╯\u001b[0m                \n"
      ]
     },
     "metadata": {},
     "output_type": "display_data"
    }
   ],
   "source": [
    "console.log(\"Hello, World!\", log_locals=True)"
   ]
  },
  {
   "cell_type": "markdown",
   "id": "ec846078-4c11-4104-b56f-b8044c758f9f",
   "metadata": {},
   "source": [
    "### Rules\n",
    "The `rule()` method will draw a horizontal line with an optional title, which is a good way of dividing your terminal output in to sections.\n",
    "\n",
    "The rule method also accepts a `style` parameter to set the style of the line, and an align parameter to align the title (`left`, `center`, or `right`)."
   ]
  },
  {
   "cell_type": "code",
   "execution_count": 10,
   "id": "8bf559f9-d2c1-4a57-b9a2-abe0ce86e3fe",
   "metadata": {},
   "outputs": [
    {
     "data": {
      "text/html": [
       "<pre style=\"white-space:pre;overflow-x:auto;line-height:normal;font-family:Menlo,'DejaVu Sans Mono',consolas,'Courier New',monospace\"><span style=\"color: #000000; text-decoration-color: #000000\">───────────────────────────────────────── </span><span style=\"color: #c0c0c0; text-decoration-color: #c0c0c0; background-color: #000000; font-weight: bold\">Chapter </span><span style=\"color: #c0c0c0; text-decoration-color: #c0c0c0; background-color: #000000; font-weight: bold\">2</span><span style=\"color: #000000; text-decoration-color: #000000\"> ─────────────────────────────────────────</span>\n",
       "</pre>\n"
      ],
      "text/plain": [
       "\u001b[30m───────────────────────────────────────── \u001b[0m\u001b[1;37;40mChapter \u001b[0m\u001b[1;37;40m2\u001b[0m\u001b[30m ─────────────────────────────────────────\u001b[0m\n"
      ]
     },
     "metadata": {},
     "output_type": "display_data"
    }
   ],
   "source": [
    "console.rule(\"[bold white on black ]Chapter 2\", style=\"black\")"
   ]
  },
  {
   "cell_type": "markdown",
   "id": "c7a3b4ee-07aa-41ee-934b-15c2316851c1",
   "metadata": {},
   "source": [
    "### Status\n",
    "Rich can display a status message with a ‘spinner’ animation that won’t interfere with regular console output. Run the following command for a demo of this feature:"
   ]
  },
  {
   "cell_type": "code",
   "execution_count": 11,
   "id": "5a761028-bbe7-41e3-a903-3857f6f257d1",
   "metadata": {},
   "outputs": [
    {
     "name": "stdout",
     "output_type": "stream",
     "text": [
      "\u001b[2K\u001b[2;36m[13:27:59]\u001b[0m\u001b[2;36m \u001b[0mImporting advanced AI                                   \u001b]8;id=748185;file:///home/mkoenig/envs/rich/lib/python3.8/site-packages/rich/status.py\u001b\\\u001b[2mstatus.py\u001b[0m\u001b]8;;\u001b\\\u001b[2m:118\u001b[0m\n",
      "\u001b[2K\u001b[2;36m[13:28:02]\u001b[0m\u001b[2;36m \u001b[0mAdvanced Covid AI Ready                                 \u001b]8;id=57700;file:///home/mkoenig/envs/rich/lib/python3.8/site-packages/rich/status.py\u001b\\\u001b[2mstatus.py\u001b[0m\u001b]8;;\u001b\\\u001b[2m:120\u001b[0m\n",
      "\u001b[2K\u001b[2;36m[13:28:08]\u001b[0m\u001b[2;36m \u001b[0mFound \u001b[1;36m10\u001b[0m,\u001b[1;36m000\u001b[0m,\u001b[1;36m000\u001b[0m,\u001b[1;36m000\u001b[0m copies of Covid32.exe              \u001b]8;id=842380;file:///home/mkoenig/envs/rich/lib/python3.8/site-packages/rich/status.py\u001b\\\u001b[2mstatus.py\u001b[0m\u001b]8;;\u001b\\\u001b[2m:124\u001b[0m\n",
      "\u001b[2K\u001b[33m(   ●  )\u001b[0m \u001b[1;31mMoving Covid32.exe to Trash\u001b[0m\n",
      "\u001b[1A\u001b[2K\u001b[1;32mCovid deleted successfully\u001b[0m\n"
     ]
    }
   ],
   "source": [
    "!python -m rich.status"
   ]
  },
  {
   "cell_type": "markdown",
   "id": "4e96752c-60f1-439f-87c4-ca9d4aac1d43",
   "metadata": {},
   "source": [
    "To display a status message, call `status()` with the status message (which may be a string, Text, or other renderable). The result is a context manager which starts and stop the status display around a block of code. Here’s an example:"
   ]
  },
  {
   "cell_type": "code",
   "execution_count": 15,
   "id": "c14afd41-da49-4a67-b1cd-d0ad2006cd73",
   "metadata": {},
   "outputs": [
    {
     "data": {
      "text/html": [
       "<pre style=\"white-space:pre;overflow-x:auto;line-height:normal;font-family:Menlo,'DejaVu Sans Mono',consolas,'Courier New',monospace\"><span style=\"color: #000000; text-decoration-color: #000000\">────────────────────────────────────── </span>Status example<span style=\"color: #000000; text-decoration-color: #000000\"> ───────────────────────────────────────</span>\n",
       "</pre>\n"
      ],
      "text/plain": [
       "\u001b[30m────────────────────────────────────── \u001b[0mStatus example\u001b[30m ───────────────────────────────────────\u001b[0m\n"
      ]
     },
     "metadata": {},
     "output_type": "display_data"
    },
    {
     "data": {
      "application/vnd.jupyter.widget-view+json": {
       "model_id": "",
       "version_major": 2,
       "version_minor": 0
      },
      "text/plain": [
       "Output()"
      ]
     },
     "metadata": {},
     "output_type": "display_data"
    },
    {
     "data": {
      "text/html": [
       "<pre style=\"white-space:pre;overflow-x:auto;line-height:normal;font-family:Menlo,'DejaVu Sans Mono',consolas,'Courier New',monospace\"><span style=\"color: #7fbfbf; text-decoration-color: #7fbfbf\">[13:29:30] </span>- iteration <span style=\"color: #008080; text-decoration-color: #008080; font-weight: bold\">0</span>                                                      <a href=\"file:///tmp/ipykernel_266372/3770690355.py\"><span style=\"color: #7f7f7f; text-decoration-color: #7f7f7f\">3770690355.py</span></a><span style=\"color: #7f7f7f; text-decoration-color: #7f7f7f\">:6</span>\n",
       "</pre>\n"
      ],
      "text/plain": [
       "\u001b[2;36m[13:29:30]\u001b[0m\u001b[2;36m \u001b[0m- iteration \u001b[1;36m0\u001b[0m                                                      \u001b]8;id=419950;file:///tmp/ipykernel_266372/3770690355.py\u001b\\\u001b[2m3770690355.py\u001b[0m\u001b]8;;\u001b\\\u001b[2m:6\u001b[0m\n"
      ]
     },
     "metadata": {},
     "output_type": "display_data"
    },
    {
     "data": {
      "text/html": [
       "<pre style=\"white-space:pre;overflow-x:auto;line-height:normal;font-family:Menlo,'DejaVu Sans Mono',consolas,'Courier New',monospace\"><span style=\"color: #7fbfbf; text-decoration-color: #7fbfbf\">[13:29:31] </span>- iteration <span style=\"color: #008080; text-decoration-color: #008080; font-weight: bold\">1</span>                                                      <a href=\"file:///tmp/ipykernel_266372/3770690355.py\"><span style=\"color: #7f7f7f; text-decoration-color: #7f7f7f\">3770690355.py</span></a><span style=\"color: #7f7f7f; text-decoration-color: #7f7f7f\">:6</span>\n",
       "</pre>\n"
      ],
      "text/plain": [
       "\u001b[2;36m[13:29:31]\u001b[0m\u001b[2;36m \u001b[0m- iteration \u001b[1;36m1\u001b[0m                                                      \u001b]8;id=704391;file:///tmp/ipykernel_266372/3770690355.py\u001b\\\u001b[2m3770690355.py\u001b[0m\u001b]8;;\u001b\\\u001b[2m:6\u001b[0m\n"
      ]
     },
     "metadata": {},
     "output_type": "display_data"
    },
    {
     "data": {
      "text/html": [
       "<pre style=\"white-space:pre;overflow-x:auto;line-height:normal;font-family:Menlo,'DejaVu Sans Mono',consolas,'Courier New',monospace\"><span style=\"color: #7fbfbf; text-decoration-color: #7fbfbf\">[13:29:32] </span>- iteration <span style=\"color: #008080; text-decoration-color: #008080; font-weight: bold\">2</span>                                                      <a href=\"file:///tmp/ipykernel_266372/3770690355.py\"><span style=\"color: #7f7f7f; text-decoration-color: #7f7f7f\">3770690355.py</span></a><span style=\"color: #7f7f7f; text-decoration-color: #7f7f7f\">:6</span>\n",
       "</pre>\n"
      ],
      "text/plain": [
       "\u001b[2;36m[13:29:32]\u001b[0m\u001b[2;36m \u001b[0m- iteration \u001b[1;36m2\u001b[0m                                                      \u001b]8;id=305403;file:///tmp/ipykernel_266372/3770690355.py\u001b\\\u001b[2m3770690355.py\u001b[0m\u001b]8;;\u001b\\\u001b[2m:6\u001b[0m\n"
      ]
     },
     "metadata": {},
     "output_type": "display_data"
    },
    {
     "data": {
      "text/html": [
       "<pre style=\"white-space:pre;overflow-x:auto;line-height:normal;font-family:Menlo,'DejaVu Sans Mono',consolas,'Courier New',monospace\"><span style=\"color: #7fbfbf; text-decoration-color: #7fbfbf\">[13:29:33] </span>- iteration <span style=\"color: #008080; text-decoration-color: #008080; font-weight: bold\">3</span>                                                      <a href=\"file:///tmp/ipykernel_266372/3770690355.py\"><span style=\"color: #7f7f7f; text-decoration-color: #7f7f7f\">3770690355.py</span></a><span style=\"color: #7f7f7f; text-decoration-color: #7f7f7f\">:6</span>\n",
       "</pre>\n"
      ],
      "text/plain": [
       "\u001b[2;36m[13:29:33]\u001b[0m\u001b[2;36m \u001b[0m- iteration \u001b[1;36m3\u001b[0m                                                      \u001b]8;id=376809;file:///tmp/ipykernel_266372/3770690355.py\u001b\\\u001b[2m3770690355.py\u001b[0m\u001b]8;;\u001b\\\u001b[2m:6\u001b[0m\n"
      ]
     },
     "metadata": {},
     "output_type": "display_data"
    },
    {
     "data": {
      "text/html": [
       "<pre style=\"white-space:pre;overflow-x:auto;line-height:normal;font-family:Menlo,'DejaVu Sans Mono',consolas,'Courier New',monospace\"><span style=\"color: #7fbfbf; text-decoration-color: #7fbfbf\">[13:29:34] </span>- iteration <span style=\"color: #008080; text-decoration-color: #008080; font-weight: bold\">4</span>                                                      <a href=\"file:///tmp/ipykernel_266372/3770690355.py\"><span style=\"color: #7f7f7f; text-decoration-color: #7f7f7f\">3770690355.py</span></a><span style=\"color: #7f7f7f; text-decoration-color: #7f7f7f\">:6</span>\n",
       "</pre>\n"
      ],
      "text/plain": [
       "\u001b[2;36m[13:29:34]\u001b[0m\u001b[2;36m \u001b[0m- iteration \u001b[1;36m4\u001b[0m                                                      \u001b]8;id=764921;file:///tmp/ipykernel_266372/3770690355.py\u001b\\\u001b[2m3770690355.py\u001b[0m\u001b]8;;\u001b\\\u001b[2m:6\u001b[0m\n"
      ]
     },
     "metadata": {},
     "output_type": "display_data"
    },
    {
     "data": {
      "text/html": [
       "<pre style=\"white-space:pre;overflow-x:auto;line-height:normal;font-family:Menlo,'DejaVu Sans Mono',consolas,'Courier New',monospace\"></pre>\n"
      ],
      "text/plain": []
     },
     "metadata": {},
     "output_type": "display_data"
    },
    {
     "data": {
      "text/html": [
       "<pre style=\"white-space:pre;overflow-x:auto;line-height:normal;font-family:Menlo,'DejaVu Sans Mono',consolas,'Courier New',monospace\"><span style=\"color: #000000; text-decoration-color: #000000\">─────────────────────────────────────────────────────────────────────────────────────────────</span>\n",
       "</pre>\n"
      ],
      "text/plain": [
       "\u001b[30m─────────────────────────────────────────────────────────────────────────────────────────────\u001b[0m\n"
      ]
     },
     "metadata": {},
     "output_type": "display_data"
    }
   ],
   "source": [
    "import time\n",
    "console.rule(\"Status example\", style=\"black\")\n",
    "with console.status(\"Working...\", spinner=\"aesthetic\"):\n",
    "    for k in range(5):\n",
    "        time.sleep(1)\n",
    "        console.log(f\"- iteration {k}\")\n",
    "console.rule(style=\"black\")\n"
   ]
  },
  {
   "cell_type": "code",
   "execution_count": null,
   "id": "96378af5-4e6c-47fa-8e05-34d9ddcf33fc",
   "metadata": {},
   "outputs": [],
   "source": []
  },
  {
   "cell_type": "code",
   "execution_count": null,
   "id": "d8ed3834-b071-4b49-95bd-5c3d2af3b7b1",
   "metadata": {},
   "outputs": [],
   "source": []
  }
 ],
 "metadata": {
  "kernelspec": {
   "display_name": "rich",
   "language": "python",
   "name": "rich"
  },
  "language_info": {
   "codemirror_mode": {
    "name": "ipython",
    "version": 3
   },
   "file_extension": ".py",
   "mimetype": "text/x-python",
   "name": "python",
   "nbconvert_exporter": "python",
   "pygments_lexer": "ipython3",
   "version": "3.8.10"
  }
 },
 "nbformat": 4,
 "nbformat_minor": 5
}
